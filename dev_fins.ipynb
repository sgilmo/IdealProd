{
 "cells": [
  {
   "cell_type": "code",
   "id": "initial_id",
   "metadata": {
    "collapsed": true,
    "ExecuteTime": {
     "end_time": "2025-05-29T12:32:21.736076Z",
     "start_time": "2025-05-29T12:32:21.717945Z"
    }
   },
   "source": [
    "import omronfins.finsudp as finsudp\n",
    "from omronfins.finsudp import datadef"
   ],
   "outputs": [],
   "execution_count": 45
  },
  {
   "metadata": {
    "ExecuteTime": {
     "end_time": "2025-05-29T12:33:59.273732Z",
     "start_time": "2025-05-29T12:33:59.253733Z"
    }
   },
   "cell_type": "code",
   "source": [
    "fins = finsudp.FinsUDP(0,170)\n",
    "ret = fins.open('10.143.50.26', 9626)  # Please change according to your PLC's address.\n",
    "print(ret)\n",
    "fins.set_destination(dst_net_addr=0, dst_node_num=0, dst_unit_addr=0)"
   ],
   "id": "9a2a9c9bb22e8f58",
   "outputs": [
    {
     "name": "stdout",
     "output_type": "stream",
     "text": [
      "0\n"
     ]
    }
   ],
   "execution_count": 48
  },
  {
   "metadata": {
    "ExecuteTime": {
     "end_time": "2025-05-29T12:34:04.906074Z",
     "start_time": "2025-05-29T12:34:04.864072Z"
    }
   },
   "cell_type": "code",
   "source": [
    "# Reading a word from Extended memory area's address 0.\n",
    "ret, value = fins.read_mem_area(datadef.DM_WORD,2000, 0, 1, datadef.USHORT)\n",
    "print(value, ret)  # the value becomes '20'"
   ],
   "id": "54a1cbe999e1ef12",
   "outputs": [
    {
     "name": "stdout",
     "output_type": "stream",
     "text": [
      "0 0\n"
     ]
    }
   ],
   "execution_count": 49
  },
  {
   "metadata": {
    "ExecuteTime": {
     "end_time": "2025-05-29T12:36:25.416428Z",
     "start_time": "2025-05-29T12:36:25.360309Z"
    }
   },
   "cell_type": "code",
   "source": [
    "# Writing a word to Extended memory area's address 0.\n",
    "ret = fins.write_mem_area(datadef.DM_WORD, 2000, 0, 1, (0, datadef.USHORT))\n",
    "print(ret)"
   ],
   "id": "588650c006b5c4f9",
   "outputs": [
    {
     "name": "stdout",
     "output_type": "stream",
     "text": [
      "0\n"
     ]
    }
   ],
   "execution_count": 51
  }
 ],
 "metadata": {
  "kernelspec": {
   "display_name": "Python 3",
   "language": "python",
   "name": "python3"
  },
  "language_info": {
   "codemirror_mode": {
    "name": "ipython",
    "version": 2
   },
   "file_extension": ".py",
   "mimetype": "text/x-python",
   "name": "python",
   "nbconvert_exporter": "python",
   "pygments_lexer": "ipython2",
   "version": "2.7.6"
  }
 },
 "nbformat": 4,
 "nbformat_minor": 5
}
