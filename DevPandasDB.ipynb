{
 "cells": [
  {
   "metadata": {},
   "cell_type": "markdown",
   "source": "#### Bring in Required Libraries",
   "id": "14b480b2def0dee0"
  },
  {
   "cell_type": "code",
   "id": "initial_id",
   "metadata": {
    "collapsed": true,
    "ExecuteTime": {
     "end_time": "2024-04-16T18:42:56.539130Z",
     "start_time": "2024-04-16T18:42:56.531151Z"
    }
   },
   "source": [
    "import pandas as pd\n",
    "import pyodbc\n",
    "import sqlalchemy.types\n",
    "from icecream import ic\n",
    "from sqlalchemy import create_engine\n",
    "from urllib import parse\n",
    "from timeit import default_timer as timer"
   ],
   "outputs": [],
   "execution_count": 72
  },
  {
   "metadata": {
    "ExecuteTime": {
     "end_time": "2024-04-16T18:43:11.324175Z",
     "start_time": "2024-04-16T18:43:01.093439Z"
    }
   },
   "cell_type": "code",
   "source": [
    "# ODBC Connection for FileMaker\n",
    "start = timer()\n",
    "cnxn = pyodbc.connect('DSN=FM Clamp ODBC;UID=FMODBC;PWD=FMODBC')\n",
    "cnxn.timeout = 60\n",
    "cursor_fm = cnxn.cursor()\n",
    "print(\"FileMaker Connect Time = \" + str(round((timer() - start), 3)) + \" sec\")"
   ],
   "id": "d2549a87bb29b5a6",
   "outputs": [
    {
     "name": "stdout",
     "output_type": "stream",
     "text": [
      "FileMaker Connect Time = 10.222 sec\n"
     ]
    }
   ],
   "execution_count": 73
  },
  {
   "metadata": {
    "ExecuteTime": {
     "end_time": "2024-04-16T18:43:20.570958Z",
     "start_time": "2024-04-16T18:43:20.545712Z"
    }
   },
   "cell_type": "code",
   "source": [
    "# SQLAlchemy connection for SQL Server\n",
    "server = 'tn-sql'\n",
    "database = 'autodata'\n",
    "driver = 'ODBC+Driver+17+for+SQL+Server'\n",
    "user = 'production'\n",
    "pwd = parse.quote_plus(\"Auto@matics\")\n",
    "port = '1433'\n",
    "database_conn = f'mssql+pyodbc://{user}:{pwd}@{server}:{port}/{database}?driver={driver}'\n",
    "# Make Connection\n",
    "engine = create_engine(database_conn)\n",
    "# conn = engine.raw_connection()\n",
    "conn_sql = engine.connect()"
   ],
   "id": "d87f6a3e8558a92f",
   "outputs": [],
   "execution_count": 74
  },
  {
   "metadata": {
    "ExecuteTime": {
     "end_time": "2024-04-16T18:43:27.074234Z",
     "start_time": "2024-04-16T18:43:26.930618Z"
    }
   },
   "cell_type": "code",
   "source": [
    "# ODBC Connection for AS400\n",
    "CONNAS400 = \"\"\"\n",
    "Driver={iSeries Access ODBC Driver};\n",
    "system=10.143.12.10;\n",
    "Server=AS400;\n",
    "Database=PROD;\n",
    "UID=SMY;\n",
    "PWD=SMY;\n",
    "\"\"\"\n",
    "dbcnxn = pyodbc.connect(CONNAS400)\n",
    "cursor_as400 = dbcnxn.cursor()"
   ],
   "id": "fabe00e77fc36e7a",
   "outputs": [],
   "execution_count": 75
  },
  {
   "metadata": {
    "ExecuteTime": {
     "end_time": "2024-04-16T18:54:36.879077Z",
     "start_time": "2024-04-16T18:54:36.873078Z"
    }
   },
   "cell_type": "code",
   "source": [
    "sql_spares = \"\"\"\n",
    "    SELECT PROD.FPSPRMAST1.SPH_PART,\n",
    "        STRIP(PROD.FPSPRMAST1.SPH_ENGPRT),\n",
    "        STRIP(PROD.FPSPRMAST1.SPH_DESC1),\n",
    "        STRIP(PROD.FPSPRMAST1.SPH_DESC2),\n",
    "        STRIP(PROD.FPSPRMAST1.SPH_MFG),\n",
    "        STRIP(PROD.FPSPRMAST1.SPH_MFGPRT),\n",
    "        STRIP(PROD.FPSPRMAST2.SPD_CABINT),\n",
    "        STRIP(PROD.FPSPRMAST2.SPD_DRAWER),\n",
    "        PROD.FPSPRMAST2.SPD_QOHCUR,\n",
    "        PROD.FPSPRMAST1.SPH_CURSTD,\n",
    "        STRIP(PROD.FPSPRMAST2.SPD_REODTE),\n",
    "        STRIP(PROD.FPSPRMAST2.SPD_USECC),\n",
    "        STRIP(PROD.FPSPRMAST2.SPD_PURCC),\n",
    "        STRIP(PROD.FPSPRMAST2.SPD_QREORD)\n",
    "    FROM PROD.FPSPRMAST1 INNER JOIN PROD.FPSPRMAST2 ON PROD.FPSPRMAST1.SPH_PART = PROD.FPSPRMAST2.SPD_PART\n",
    "    WHERE (((PROD.FPSPRMAST2.SPD_FACIL)=9))\n",
    "\"\"\""
   ],
   "id": "463fdeef3e52f9e3",
   "outputs": [],
   "execution_count": 93
  },
  {
   "metadata": {
    "ExecuteTime": {
     "end_time": "2024-04-16T18:54:39.770003Z",
     "start_time": "2024-04-16T18:54:39.763989Z"
    }
   },
   "cell_type": "code",
   "source": [
    "sql_parts = \"\"\"\n",
    "    SELECT Ourpart,\"Band A Part Number\", \"Housing A Part Number\",\n",
    "        \"Screw Part Number\" AS Screw, \"Band Feed from Band data\",\n",
    "        \"Ship Diam Max\", \"Ship Diam Min\", \"Hex Size\", \"Band_Thickness\", \"Band_Width\",\n",
    "        \"CameraInspectionRequired\", \"ScrDrvChk\"\n",
    "    FROM tbl8Tridon\n",
    "\"\"\""
   ],
   "id": "ffcd270f257cf803",
   "outputs": [],
   "execution_count": 94
  },
  {
   "metadata": {
    "ExecuteTime": {
     "end_time": "2024-04-16T18:54:40.478081Z",
     "start_time": "2024-04-16T18:54:40.471100Z"
    }
   },
   "cell_type": "code",
   "source": [
    "sql_bands = \"\"\"\n",
    "    SELECT \"Band Part Number\", \"Number of Notches\",\n",
    "        \"Band Length\", \"Feed Length\", \"Description\"\n",
    "    FROM BANDS\n",
    "\"\"\""
   ],
   "id": "43d89d967dfc403",
   "outputs": [],
   "execution_count": 95
  },
  {
   "metadata": {},
   "cell_type": "markdown",
   "source": "### Execute Query on AS400",
   "id": "c5f805a996fba550"
  },
  {
   "metadata": {
    "ExecuteTime": {
     "end_time": "2024-04-16T18:55:08.178421Z",
     "start_time": "2024-04-16T18:55:06.055378Z"
    }
   },
   "cell_type": "code",
   "source": [
    "start = timer()\n",
    "cursor_as400.execute(sql_spares)\n",
    "result_spares = cursor_as400.fetchall()\n",
    "print(\"AS400 Connect/Query Time = \" + str(round((timer() - start), 3)) + \" sec\")"
   ],
   "id": "b86275319e44e66f",
   "outputs": [
    {
     "name": "stdout",
     "output_type": "stream",
     "text": [
      "AS400 Connect/Query Time = 2.117 sec\n"
     ]
    }
   ],
   "execution_count": 96
  },
  {
   "metadata": {},
   "cell_type": "markdown",
   "source": "#### Build Dataframe for Spare Parts",
   "id": "657e21de6fc675cb"
  },
  {
   "metadata": {
    "ExecuteTime": {
     "end_time": "2024-04-16T19:04:47.715515Z",
     "start_time": "2024-04-16T19:04:47.551104Z"
    }
   },
   "cell_type": "code",
   "source": [
    "data_type_dict = {'StandardCost' : float, 'OnHand' : int, 'PartNum' : str, 'ReOrderPt' : int}\n",
    "df_spares = pd.DataFrame.from_records(result_spares)\n",
    "df_spares.columns = ['PartNum', 'EngPartNum', 'Desc1', 'Desc2', 'Mfg', 'MfgPn', 'Cabinet', 'Drawer', 'OnHand', 'StandardCost','ReOrderDate', 'DeptUse', 'DeptPurch', 'ReOrderPt']\n",
    "df_spares = df_spares.dropna()\n",
    "df_spares = df_spares.astype(data_type_dict)\n",
    "df_spares = df_spares.convert_dtypes()\n",
    "df_spares.head"
   ],
   "id": "d1c1f685a2bd630d",
   "outputs": [
    {
     "data": {
      "text/plain": [
       "<bound method NDFrame.head of        PartNum   EngPartNum                     Desc1  \\\n",
       "0         1056    091001056           PLATE WEAR SIDE   \n",
       "1         1107    091001107           PLATE SIDE WEAR   \n",
       "2         1114    091001114     PLATE SIDE WEAR FRONT   \n",
       "3         1115    091001115           PLATE WEAR SIDE   \n",
       "4         2001      4-40 H3  SP PT GUN TAP PLUG STYLE   \n",
       "...        ...          ...                       ...   \n",
       "22522  1041029   104-10-029              1ST FORM PAD   \n",
       "22523  3031116  3031-10-016             CUTOFF INSERT   \n",
       "22524  3031204  3031-20-004            CUT OFF INSERT   \n",
       "22525  1786196    091786196    SCPW55-14-22  COUPLING   \n",
       "22526   824091   091824091E  QS186EBQ8  SENSOR EMITER   \n",
       "\n",
       "                         Desc2 Mfg        MfgPn Cabinet Drawer  OnHand  \\\n",
       "0                                                    C7     D1       4   \n",
       "1                                                     '      '       0   \n",
       "2                                                     '      '       0   \n",
       "3                                                    C7     D1       4   \n",
       "4               MSC # 64932445                      ---    ---       0   \n",
       "...                        ...  ..          ...     ...    ...     ...   \n",
       "22522                                                                0   \n",
       "22523                               3031-10-016                      0   \n",
       "22524                               3031-20-004                      0   \n",
       "22525  MISUMI FLEXBLE COUPLING                                       0   \n",
       "22526         BANNER  70659148                       C3     D6       2   \n",
       "\n",
       "       StandardCost ReOrderDate DeptUse DeptPurch  ReOrderPt  \n",
       "0              95.0      000000    0750      0750          1  \n",
       "1              95.0      000000    0750      0750          0  \n",
       "2              90.0      000000    0750      0750          0  \n",
       "3              90.0      000000    0750      0750          1  \n",
       "4              0.01      000000    0750      0750          0  \n",
       "...             ...         ...     ...       ...        ...  \n",
       "22522           0.0      000000    0750      0750          0  \n",
       "22523           0.0      000000    0750      0750          0  \n",
       "22524           0.0      000000    0750      0750          0  \n",
       "22525         69.03      000000    L000      L000          0  \n",
       "22526          53.0      000000    0785      0785          1  \n",
       "\n",
       "[22527 rows x 14 columns]>"
      ]
     },
     "execution_count": 100,
     "metadata": {},
     "output_type": "execute_result"
    }
   ],
   "execution_count": 100
  },
  {
   "metadata": {},
   "cell_type": "markdown",
   "source": "#### Execute Query on SQL Server",
   "id": "cb8af78dbf4c51d1"
  },
  {
   "metadata": {
    "ExecuteTime": {
     "end_time": "2024-04-16T18:55:40.115175Z",
     "start_time": "2024-04-16T18:55:37.030857Z"
    }
   },
   "cell_type": "code",
   "source": [
    "# Clamp Data\n",
    "start = timer()\n",
    "cursor_fm.execute(sql_parts)\n",
    "result_clamp = cursor_fm.fetchall()\n",
    "print(\"FileMaker Clamp Query Time = \" + str(round((timer() - start), 3)) + \" sec\")"
   ],
   "id": "6fa86ad7732db5df",
   "outputs": [
    {
     "name": "stdout",
     "output_type": "stream",
     "text": [
      "FileMaker Clamp Query Time = 3.078 sec\n"
     ]
    }
   ],
   "execution_count": 97
  },
  {
   "metadata": {
    "ExecuteTime": {
     "end_time": "2024-04-16T18:49:52.153380Z",
     "start_time": "2024-04-16T18:49:50.666764Z"
    }
   },
   "cell_type": "code",
   "source": [
    "# Band Data\n",
    "start = timer()\n",
    "cursor_fm.execute(sql_bands)\n",
    "result_band = cursor_fm.fetchall()\n",
    "print(\"FileMaker Band Query Time = \" + str(round((timer() - start), 3)) + \" sec\")"
   ],
   "id": "f8eb63ae4cc3f6ac",
   "outputs": [
    {
     "name": "stdout",
     "output_type": "stream",
     "text": [
      "FileMaker Band Query Time = 1.478 sec\n"
     ]
    }
   ],
   "execution_count": 87
  },
  {
   "metadata": {},
   "cell_type": "markdown",
   "source": "#### Build Dataframe for Clamp Data",
   "id": "5871b385cf53d176"
  },
  {
   "metadata": {
    "ExecuteTime": {
     "end_time": "2024-04-16T19:08:46.691572Z",
     "start_time": "2024-04-16T19:08:46.583861Z"
    }
   },
   "cell_type": "code",
   "source": [
    "df_clamps = pd.DataFrame.from_records(result_clamp)\n",
    "# Set Column Names\n",
    "df_clamps.columns = ['PartNumber', 'Band', 'Housing', 'Screw', 'Feed', 'DiaMax', 'DiaMin', 'HexSz', 'BandThickness','BandWidth', 'CamInspect', 'ScrDrvChk']\n",
    "# Set Data Types\n",
    "data_type_dict = {'PartNumber' : str, 'Band' : str,'Housing' : str,'Screw' : str, 'Feed' : float, 'DiaMax' : float,'DiaMin' : float,'HexSz' : str,'BandThickness' : float, 'BandWidth' : float,'CamInspect' : str,'ScrDrvChk' : str}\n",
    "\n",
    "# Due Some Filtering and Data Cleansing\n",
    "df_clamps = df_clamps[df_clamps.Feed != 'N/A']\n",
    "df_clamps = df_clamps[1:]\n",
    "df_clamps = df_clamps.astype(data_type_dict)\n",
    "df_clamps['CamInspect'] = df_clamps['CamInspect'].str.upper()\n",
    "df_clamps['ScrDrvChk'] = df_clamps['ScrDrvChk'].str.upper()\n",
    "df_clamps['Feed'] = df_clamps['Feed'].round(3)\n",
    "df_clamps['BandWidth'] = df_clamps['BandWidth'].round(3)\n",
    "df_clamps['BandThickness'] = df_clamps['BandThickness'].round(3)\n",
    "df_clamps.fillna({'DiaMax' : 0.0}, inplace=True)\n",
    "df_clamps.fillna({'DiaMin' : 0.0}, inplace=True)\n",
    "df_clamps['DiaMax'] = df_clamps['DiaMax'].round(3)\n",
    "df_clamps['DiaMin'] = df_clamps['DiaMin'].round(3)\n",
    "df_clamps = df_clamps.dropna()\n",
    "df_clamps = df_clamps.convert_dtypes()\n",
    "df_clamps.head\n",
    "\n"
   ],
   "id": "88c3447b61048114",
   "outputs": [
    {
     "data": {
      "text/plain": [
       "<bound method NDFrame.head of        PartNumber     Band  Housing      Screw    Feed  DiaMax  DiaMin  HexSz  \\\n",
       "1      M714006102  1042006  2703025    1213002     3.8     0.0    0.83  5/16\"   \n",
       "2      M674029102  1083029  2367012    1278001    8.41     0.0     0.0  5/16\"   \n",
       "3      M674047102  1083047  2367012    1278001  12.165     0.0     0.0  5/16\"   \n",
       "4      M679064102  2019064  2367012  1278001MC    14.5     0.0     0.0  5/16\"   \n",
       "5      M674088102  1083088  2367012    1278001  19.988     0.0     0.0  5/16\"   \n",
       "...           ...      ...      ...        ...     ...     ...     ...    ...   \n",
       "12151  M665030006  2147030  2157003    2173001    8.41     0.0     2.2  5/16\"   \n",
       "12152   368004175  1081004  4097020  4208010MC   2.625     0.0    0.54   1/4\"   \n",
       "12153   368010175  1081010  4097020  4208010MC   4.083     0.0     1.0   1/4\"   \n",
       "12154   368016175  1081016  4097020  4208010MC   5.424     0.0    1.44   1/4\"   \n",
       "12155  M368024175  1081024  4097020  4208010MC   6.994     0.0    1.44   1/4\"   \n",
       "\n",
       "       BandThickness  BandWidth CamInspect ScrDrvChk  \n",
       "1              0.022        0.5         NO        NO  \n",
       "2              0.025        0.5         NO        NO  \n",
       "3              0.025        0.5         NO        NO  \n",
       "4              0.025        0.5         NO        NO  \n",
       "5              0.025        0.5         NO        NO  \n",
       "...              ...        ...        ...       ...  \n",
       "12151          0.024        0.5         NO        NO  \n",
       "12152          0.025      0.312         NO        NO  \n",
       "12153          0.025      0.312         NO        NO  \n",
       "12154          0.025      0.312         NO        NO  \n",
       "12155          0.025      0.312         NO        NO  \n",
       "\n",
       "[10820 rows x 12 columns]>"
      ]
     },
     "execution_count": 102,
     "metadata": {},
     "output_type": "execute_result"
    }
   ],
   "execution_count": 102
  },
  {
   "metadata": {},
   "cell_type": "markdown",
   "source": "#### Build Dataframe for Band Data",
   "id": "bbce618c82d07727"
  },
  {
   "metadata": {
    "ExecuteTime": {
     "end_time": "2024-04-16T19:09:49.981357Z",
     "start_time": "2024-04-16T19:09:49.925678Z"
    }
   },
   "cell_type": "code",
   "source": [
    "df_bands = pd.DataFrame.from_records(result_band)\n",
    "df_bands = df_bands[1:]\n",
    "df_bands.columns = ['Band', 'Notches', 'BandLength', 'FeedLength', 'Description']\n",
    "data_type_dict = {'Band' : str, 'Notches' : int,'BandLength' : float,'FeedLength' : float, 'Description' : str}\n",
    "df_bands = df_bands.dropna()\n",
    "df_bands = df_bands.astype(data_type_dict)\n",
    "df_bands = df_bands.convert_dtypes()\n",
    "df_bands.head(20)"
   ],
   "id": "511f32afc297b046",
   "outputs": [
    {
     "data": {
      "text/plain": [
       "       Band  Notches  BandLength  FeedLength                    Description\n",
       "1   2652012       38       5.043       5.071              Band 1/2\", Poland\n",
       "2   2652013       41       5.244       5.272              Band 1/2\", Poland\n",
       "3   2652014       42       5.433       5.469              Band 1/2\", Poland\n",
       "4   2709012       22       5.688        5.75  Band Extended Tang 1/2\" Setup\n",
       "5   2019065       12      14.438        14.5                   Band Slotted\n",
       "6   2019054       37      13.288       13.35                   Band Slotted\n",
       "7   2009040       34       10.34       10.37                Band 1/2\" Setup\n",
       "8   1229024       22       7.861        7.95        Band Micro Extented Tan\n",
       "9   1208052       34      12.656      12.718             Band Quick Release\n",
       "10  1160148       68      31.443      31.505                REG. BAND SETUP\n",
       "11  1083024       20         7.4        7.43                Band 1/2\" Setup\n",
       "12  2852013       32       5.288        5.35           Band 1/2\" Rivet Hole\n",
       "13  2005700       34      23.741      23.821                         TRIMAX\n",
       "14  2028268       20       10.05      10.112                 Band 1/2\" SLTF\n",
       "15  1082076       40      17.601      17.663               Band  1/2\" Setup\n",
       "16  1082056       26      13.674      13.736               Band  1/2\" Setup\n",
       "17  1208056      102      13.312      13.375             Band Quick Release\n",
       "18  1082048       26      12.103      12.165               Band  1/2\" Setup\n",
       "19  1082037       20        9.95        9.98               Band  1/2\" Setup\n",
       "20  1082029       20        8.38        8.41               Band  1/2\" Setup"
      ],
      "text/html": [
       "<div>\n",
       "<style scoped>\n",
       "    .dataframe tbody tr th:only-of-type {\n",
       "        vertical-align: middle;\n",
       "    }\n",
       "\n",
       "    .dataframe tbody tr th {\n",
       "        vertical-align: top;\n",
       "    }\n",
       "\n",
       "    .dataframe thead th {\n",
       "        text-align: right;\n",
       "    }\n",
       "</style>\n",
       "<table border=\"1\" class=\"dataframe\">\n",
       "  <thead>\n",
       "    <tr style=\"text-align: right;\">\n",
       "      <th></th>\n",
       "      <th>Band</th>\n",
       "      <th>Notches</th>\n",
       "      <th>BandLength</th>\n",
       "      <th>FeedLength</th>\n",
       "      <th>Description</th>\n",
       "    </tr>\n",
       "  </thead>\n",
       "  <tbody>\n",
       "    <tr>\n",
       "      <th>1</th>\n",
       "      <td>2652012</td>\n",
       "      <td>38</td>\n",
       "      <td>5.043</td>\n",
       "      <td>5.071</td>\n",
       "      <td>Band 1/2\", Poland</td>\n",
       "    </tr>\n",
       "    <tr>\n",
       "      <th>2</th>\n",
       "      <td>2652013</td>\n",
       "      <td>41</td>\n",
       "      <td>5.244</td>\n",
       "      <td>5.272</td>\n",
       "      <td>Band 1/2\", Poland</td>\n",
       "    </tr>\n",
       "    <tr>\n",
       "      <th>3</th>\n",
       "      <td>2652014</td>\n",
       "      <td>42</td>\n",
       "      <td>5.433</td>\n",
       "      <td>5.469</td>\n",
       "      <td>Band 1/2\", Poland</td>\n",
       "    </tr>\n",
       "    <tr>\n",
       "      <th>4</th>\n",
       "      <td>2709012</td>\n",
       "      <td>22</td>\n",
       "      <td>5.688</td>\n",
       "      <td>5.75</td>\n",
       "      <td>Band Extended Tang 1/2\" Setup</td>\n",
       "    </tr>\n",
       "    <tr>\n",
       "      <th>5</th>\n",
       "      <td>2019065</td>\n",
       "      <td>12</td>\n",
       "      <td>14.438</td>\n",
       "      <td>14.5</td>\n",
       "      <td>Band Slotted</td>\n",
       "    </tr>\n",
       "    <tr>\n",
       "      <th>6</th>\n",
       "      <td>2019054</td>\n",
       "      <td>37</td>\n",
       "      <td>13.288</td>\n",
       "      <td>13.35</td>\n",
       "      <td>Band Slotted</td>\n",
       "    </tr>\n",
       "    <tr>\n",
       "      <th>7</th>\n",
       "      <td>2009040</td>\n",
       "      <td>34</td>\n",
       "      <td>10.34</td>\n",
       "      <td>10.37</td>\n",
       "      <td>Band 1/2\" Setup</td>\n",
       "    </tr>\n",
       "    <tr>\n",
       "      <th>8</th>\n",
       "      <td>1229024</td>\n",
       "      <td>22</td>\n",
       "      <td>7.861</td>\n",
       "      <td>7.95</td>\n",
       "      <td>Band Micro Extented Tan</td>\n",
       "    </tr>\n",
       "    <tr>\n",
       "      <th>9</th>\n",
       "      <td>1208052</td>\n",
       "      <td>34</td>\n",
       "      <td>12.656</td>\n",
       "      <td>12.718</td>\n",
       "      <td>Band Quick Release</td>\n",
       "    </tr>\n",
       "    <tr>\n",
       "      <th>10</th>\n",
       "      <td>1160148</td>\n",
       "      <td>68</td>\n",
       "      <td>31.443</td>\n",
       "      <td>31.505</td>\n",
       "      <td>REG. BAND SETUP</td>\n",
       "    </tr>\n",
       "    <tr>\n",
       "      <th>11</th>\n",
       "      <td>1083024</td>\n",
       "      <td>20</td>\n",
       "      <td>7.4</td>\n",
       "      <td>7.43</td>\n",
       "      <td>Band 1/2\" Setup</td>\n",
       "    </tr>\n",
       "    <tr>\n",
       "      <th>12</th>\n",
       "      <td>2852013</td>\n",
       "      <td>32</td>\n",
       "      <td>5.288</td>\n",
       "      <td>5.35</td>\n",
       "      <td>Band 1/2\" Rivet Hole</td>\n",
       "    </tr>\n",
       "    <tr>\n",
       "      <th>13</th>\n",
       "      <td>2005700</td>\n",
       "      <td>34</td>\n",
       "      <td>23.741</td>\n",
       "      <td>23.821</td>\n",
       "      <td>TRIMAX</td>\n",
       "    </tr>\n",
       "    <tr>\n",
       "      <th>14</th>\n",
       "      <td>2028268</td>\n",
       "      <td>20</td>\n",
       "      <td>10.05</td>\n",
       "      <td>10.112</td>\n",
       "      <td>Band 1/2\" SLTF</td>\n",
       "    </tr>\n",
       "    <tr>\n",
       "      <th>15</th>\n",
       "      <td>1082076</td>\n",
       "      <td>40</td>\n",
       "      <td>17.601</td>\n",
       "      <td>17.663</td>\n",
       "      <td>Band  1/2\" Setup</td>\n",
       "    </tr>\n",
       "    <tr>\n",
       "      <th>16</th>\n",
       "      <td>1082056</td>\n",
       "      <td>26</td>\n",
       "      <td>13.674</td>\n",
       "      <td>13.736</td>\n",
       "      <td>Band  1/2\" Setup</td>\n",
       "    </tr>\n",
       "    <tr>\n",
       "      <th>17</th>\n",
       "      <td>1208056</td>\n",
       "      <td>102</td>\n",
       "      <td>13.312</td>\n",
       "      <td>13.375</td>\n",
       "      <td>Band Quick Release</td>\n",
       "    </tr>\n",
       "    <tr>\n",
       "      <th>18</th>\n",
       "      <td>1082048</td>\n",
       "      <td>26</td>\n",
       "      <td>12.103</td>\n",
       "      <td>12.165</td>\n",
       "      <td>Band  1/2\" Setup</td>\n",
       "    </tr>\n",
       "    <tr>\n",
       "      <th>19</th>\n",
       "      <td>1082037</td>\n",
       "      <td>20</td>\n",
       "      <td>9.95</td>\n",
       "      <td>9.98</td>\n",
       "      <td>Band  1/2\" Setup</td>\n",
       "    </tr>\n",
       "    <tr>\n",
       "      <th>20</th>\n",
       "      <td>1082029</td>\n",
       "      <td>20</td>\n",
       "      <td>8.38</td>\n",
       "      <td>8.41</td>\n",
       "      <td>Band  1/2\" Setup</td>\n",
       "    </tr>\n",
       "  </tbody>\n",
       "</table>\n",
       "</div>"
      ]
     },
     "execution_count": 103,
     "metadata": {},
     "output_type": "execute_result"
    }
   ],
   "execution_count": 103
  },
  {
   "metadata": {},
   "cell_type": "markdown",
   "source": "",
   "id": "3c90961f9577885c"
  },
  {
   "metadata": {},
   "cell_type": "markdown",
   "source": "#### Load Spare Parts to SQL Server Table",
   "id": "504e2c256c8e9d50"
  },
  {
   "metadata": {
    "ExecuteTime": {
     "end_time": "2024-04-16T19:05:49.768487Z",
     "start_time": "2024-04-16T19:05:34.722403Z"
    }
   },
   "cell_type": "code",
   "source": [
    "data_type_dict = {'StandardCost' : sqlalchemy.types.FLOAT, 'OnHand' : sqlalchemy.types.INT,'PartNum' : sqlalchemy.types.VARCHAR(255),'ReOrderPt' : sqlalchemy.types.INT, 'EngPartNum' : sqlalchemy.types.VARCHAR(255), 'Desc1' : sqlalchemy.types.VARCHAR(255),'Desc2' : sqlalchemy.types.VARCHAR(255),'Mfg' : sqlalchemy.types.VARCHAR(255),'MfgPn' : sqlalchemy.types.VARCHAR(255), 'Cabinet' : sqlalchemy.types.VARCHAR(255),'Drawer' : sqlalchemy.types.VARCHAR(255),'ReOrderDate' : sqlalchemy.types.VARCHAR(255),'DeptUse' : sqlalchemy.types.VARCHAR(255),'DeptPurch' : sqlalchemy.types.VARCHAR(255)}\n",
    "\n",
    "df_spares.to_sql('tblSpares', conn_sql, schema='eng', if_exists='replace', index=False, dtype=data_type_dict)"
   ],
   "id": "e4f275efc5a7e3d7",
   "outputs": [
    {
     "data": {
      "text/plain": [
       "28"
      ]
     },
     "execution_count": 101,
     "metadata": {},
     "output_type": "execute_result"
    }
   ],
   "execution_count": 101
  },
  {
   "metadata": {},
   "cell_type": "markdown",
   "source": "#### Load Clamp to SQL Server Table",
   "id": "120284851d2f777"
  },
  {
   "metadata": {
    "ExecuteTime": {
     "end_time": "2024-04-16T18:56:37.369746Z",
     "start_time": "2024-04-16T18:56:30.876427Z"
    }
   },
   "cell_type": "code",
   "source": [
    "data_type_dict = {'PartNumber' : sqlalchemy.types.VARCHAR(255), 'Band' : sqlalchemy.types.VARCHAR(255),'Housing' : sqlalchemy.types.VARCHAR(255),'Screw' : sqlalchemy.types.VARCHAR(255), 'Feed' : sqlalchemy.types.Float, 'DiaMax' : sqlalchemy.types.Float,'DiaMin' : sqlalchemy.types.Float,'HexSz' : sqlalchemy.types.VARCHAR(255),'BandThickness' : sqlalchemy.types.Float, 'BandWidth' : sqlalchemy.types.Float,'CamInspect' : sqlalchemy.types.VARCHAR(255),'ScrDrvChk' : sqlalchemy.types.VARCHAR(255)}\n",
    "\n",
    "df_clamps.to_sql('parts_clamps', conn_sql, schema='production', if_exists='replace', index=False, dtype=data_type_dict)"
   ],
   "id": "88dc80a7ed2da506",
   "outputs": [
    {
     "data": {
      "text/plain": [
       "32"
      ]
     },
     "execution_count": 99,
     "metadata": {},
     "output_type": "execute_result"
    }
   ],
   "execution_count": 99
  },
  {
   "metadata": {},
   "cell_type": "markdown",
   "source": "#### Load Band Data to SQL Server Table",
   "id": "acf060a2afdab743"
  },
  {
   "metadata": {
    "ExecuteTime": {
     "end_time": "2024-04-16T18:51:58.010638Z",
     "start_time": "2024-04-16T18:51:55.482852Z"
    }
   },
   "cell_type": "code",
   "source": [
    "data_type_dict = {'Band' : sqlalchemy.types.VARCHAR(255), 'Notches' : sqlalchemy.types.INT,'BandLength' : sqlalchemy.types.FLOAT,'FeedLength' : sqlalchemy.types.FLOAT, 'Description' : sqlalchemy.types.VARCHAR(255)}\n",
    "\n",
    "df_bands.to_sql('parts_bands', conn_sql, schema='production', if_exists='replace', index=False, dtype=data_type_dict)"
   ],
   "id": "782096b3be822f27",
   "outputs": [
    {
     "data": {
      "text/plain": [
       "367"
      ]
     },
     "execution_count": 92,
     "metadata": {},
     "output_type": "execute_result"
    }
   ],
   "execution_count": 92
  },
  {
   "metadata": {},
   "cell_type": "code",
   "outputs": [],
   "execution_count": null,
   "source": "",
   "id": "fcee3211f7bc396e"
  }
 ],
 "metadata": {
  "kernelspec": {
   "display_name": "Python 3",
   "language": "python",
   "name": "python3"
  },
  "language_info": {
   "codemirror_mode": {
    "name": "ipython",
    "version": 2
   },
   "file_extension": ".py",
   "mimetype": "text/x-python",
   "name": "python",
   "nbconvert_exporter": "python",
   "pygments_lexer": "ipython2",
   "version": "2.7.6"
  }
 },
 "nbformat": 4,
 "nbformat_minor": 5
}
