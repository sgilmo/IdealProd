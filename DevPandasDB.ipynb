{
 "cells": [
  {
   "metadata": {},
   "cell_type": "markdown",
   "source": [
    "#### Bring in Required Libraries"
   ],
   "id": "14b480b2def0dee0"
  },
  {
   "metadata": {
    "collapsed": true,
    "ExecuteTime": {
     "end_time": "2025-01-26T17:44:17.151387Z",
     "start_time": "2025-01-26T17:44:16.174841Z"
    }
   },
   "cell_type": "code",
   "source": [
    "import pandas as pd\n",
    "import pyodbc\n",
    "import sqlalchemy.types\n",
    "from sqlalchemy import create_engine\n",
    "from urllib import parse\n",
    "from timeit import default_timer as timer"
   ],
   "id": "initial_id",
   "outputs": [],
   "execution_count": 1
  },
  {
   "metadata": {
    "ExecuteTime": {
     "end_time": "2024-10-30T18:24:52.438314Z",
     "start_time": "2024-10-30T18:24:44.651264Z"
    }
   },
   "cell_type": "code",
   "source": [
    "# ODBC Connection for FileMaker\n",
    "start = timer()\n",
    "cnxn = pyodbc.connect('DSN=FM Clamp ODBC;UID=FMODBC;PWD=FMODBC')\n",
    "cnxn.timeout = 60\n",
    "cursor_fm = cnxn.cursor()\n",
    "print(\"FileMaker Connect Time = \" + str(round((timer() - start), 3)) + \" sec\")"
   ],
   "id": "d2549a87bb29b5a6",
   "outputs": [
    {
     "name": "stdout",
     "output_type": "stream",
     "text": [
      "FileMaker Connect Time = 7.779 sec\n"
     ]
    }
   ],
   "execution_count": 2
  },
  {
   "metadata": {
    "ExecuteTime": {
     "end_time": "2025-01-26T17:44:25.110162Z",
     "start_time": "2025-01-26T17:44:24.987946Z"
    }
   },
   "cell_type": "code",
   "source": [
    "# SQLAlchemy connection for SQL Server\n",
    "server = 'tn-sql'\n",
    "database = 'autodata'\n",
    "driver = 'ODBC+Driver+17+for+SQL+Server'\n",
    "user = 'production'\n",
    "pwd = parse.quote_plus(\"Auto@matics\")\n",
    "port = '1433'\n",
    "database_conn = f'mssql+pyodbc://{user}:{pwd}@{server}:{port}/{database}?driver={driver}'\n",
    "# Make Connection\n",
    "engine = create_engine(database_conn)\n",
    "# conn = engine.raw_connection()\n",
    "conn_sql = engine.connect()"
   ],
   "id": "d87f6a3e8558a92f",
   "outputs": [],
   "execution_count": 2
  },
  {
   "metadata": {
    "ExecuteTime": {
     "end_time": "2025-01-26T17:44:40.863090Z",
     "start_time": "2025-01-26T17:44:40.333010Z"
    }
   },
   "cell_type": "code",
   "source": [
    "# Define SQL queries\n",
    "sql_screws = \"SELECT * FROM autodata.eng.tblRegScrew\"\n",
    "sql_inv = \"\"\"\n",
    "    SELECT\n",
    "        dbo.tblInventory.EngPartNum as partNum,\n",
    "        '[' + COALESCE(dbo.tblInventory.Cabinet, '') + ' ' + COALESCE(dbo.tblInventory.Drawer, '') + ' ' +\n",
    "            CONVERT(VARCHAR, COALESCE(dbo.tblInventory.OnHand, 0)) + ']' AS Status\n",
    "    FROM\n",
    "        dbo.tblInventory\n",
    "\"\"\"\n",
    "\n",
    "try:\n",
    "    # Ensure connection is valid before executing queries\n",
    "    assert conn_sql is not None, \"Database connection (conn_sql) is not defined or invalid.\"\n",
    "\n",
    "    # Read data from SQL queries\n",
    "    df_scr = pd.read_sql(sql_screws, conn_sql)\n",
    "    df_inv = pd.read_sql(sql_inv, conn_sql)\n",
    "\n",
    "    # Confirm required columns exist before proceeding (defensive programming)\n",
    "    assert 'T_CONE PIN' in df_scr.columns, \"Column 'T_CONE PIN' is missing in df_scr.\"\n",
    "    assert 'partNum' in df_inv.columns, \"Column 'partNum' is missing in df_inv.\"\n",
    "\n",
    "    # Perform a lookup using pandas merge\n",
    "    df_scr = pd.merge(\n",
    "        df_scr, df_inv[['partNum', 'Status']],\n",
    "        left_on='T_CONE PIN',\n",
    "        right_on='partNum',\n",
    "        how='left'\n",
    "    )\n",
    "\n",
    "    # Drop unnecessary key column (if needed)\n",
    "    if 'partNum' in df_scr.columns:\n",
    "        df_scr.drop(columns=['partNum'], inplace=True)\n",
    "\n",
    "    # Convert DataFrame dtypes\n",
    "    df_scr.fillna('None', inplace=True)\n",
    "    df_db = df_scr.convert_dtypes()\n",
    "\n",
    "    # Write merged data back to the SQL table\n",
    "    df_db.to_sql('tblRegScrStatus', conn_sql, schema='eng', if_exists='replace', index=False)\n",
    "\n",
    "    # Return or display final DataFrame\n",
    "    print(df_db.dtypes)\n",
    "\n",
    "except Exception as e:\n",
    "    print(f\"Error: {e}\")\n",
    "\n",
    "finally:\n",
    "    try:\n",
    "        conn_sql.close()\n",
    "    except Exception as e:\n",
    "        print(f\"Error while closing connection: {e}\")"
   ],
   "id": "d90bf54fb1197283",
   "outputs": [
    {
     "name": "stdout",
     "output_type": "stream",
     "text": [
      "Screw Part Number                  string\n",
      "Screw Description                  string\n",
      "Material Part Number               string\n",
      "Material Information::Grade        string\n",
      "Clamp Type                         string\n",
      "                                    ...  \n",
      "T_ROLLING T. PLATE STATIORY_2nd    string\n",
      "T_ROLLING DIE_2nd                  string\n",
      "T_ROLLING T. PLATE MOVABLE_2nd     string\n",
      "T_Dwg No                           string\n",
      "Status                             string\n",
      "Length: 61, dtype: object\n"
     ]
    }
   ],
   "execution_count": 3
  },
  {
   "metadata": {
    "ExecuteTime": {
     "end_time": "2024-05-01T14:46:04.786120Z",
     "start_time": "2024-05-01T14:46:04.314383Z"
    }
   },
   "cell_type": "code",
   "source": [
    "# ODBC Connection for AS400\n",
    "CONNAS400 = \"\"\"\n",
    "Driver={iSeries Access ODBC Driver};\n",
    "system=10.143.12.10;\n",
    "Server=AS400;\n",
    "Database=PROD;\n",
    "UID=SMY;\n",
    "PWD=SMY;\n",
    "\"\"\"\n",
    "dbcnxn = pyodbc.connect(CONNAS400)\n",
    "cursor_as400 = dbcnxn.cursor()"
   ],
   "id": "fabe00e77fc36e7a",
   "outputs": [],
   "execution_count": 3
  },
  {
   "metadata": {
    "ExecuteTime": {
     "end_time": "2024-05-01T14:46:26.193510Z",
     "start_time": "2024-05-01T14:46:26.186528Z"
    }
   },
   "cell_type": "code",
   "source": [
    "sql_spares = \"\"\"\n",
    "    SELECT PROD.FPSPRMAST1.SPH_PART,\n",
    "        STRIP(PROD.FPSPRMAST1.SPH_ENGPRT),\n",
    "        STRIP(PROD.FPSPRMAST1.SPH_DESC1),\n",
    "        STRIP(PROD.FPSPRMAST1.SPH_DESC2),\n",
    "        STRIP(PROD.FPSPRMAST1.SPH_MFG),\n",
    "        STRIP(PROD.FPSPRMAST1.SPH_MFGPRT),\n",
    "        STRIP(PROD.FPSPRMAST2.SPD_CABINT),\n",
    "        STRIP(PROD.FPSPRMAST2.SPD_DRAWER),\n",
    "        PROD.FPSPRMAST2.SPD_QOHCUR,\n",
    "        PROD.FPSPRMAST1.SPH_CURSTD,\n",
    "        STRIP(PROD.FPSPRMAST2.SPD_REODTE),\n",
    "        STRIP(PROD.FPSPRMAST2.SPD_USECC),\n",
    "        STRIP(PROD.FPSPRMAST2.SPD_PURCC),\n",
    "        STRIP(PROD.FPSPRMAST2.SPD_QREORD)\n",
    "    FROM PROD.FPSPRMAST1 INNER JOIN PROD.FPSPRMAST2 ON PROD.FPSPRMAST1.SPH_PART = PROD.FPSPRMAST2.SPD_PART\n",
    "    WHERE (((PROD.FPSPRMAST2.SPD_FACIL)=9))\n",
    "\"\"\""
   ],
   "id": "463fdeef3e52f9e3",
   "outputs": [],
   "execution_count": 4
  },
  {
   "metadata": {
    "ExecuteTime": {
     "end_time": "2024-10-30T18:25:15.816432Z",
     "start_time": "2024-10-30T18:25:15.760519Z"
    }
   },
   "cell_type": "code",
   "source": [
    "sql_parts = \"\"\"\n",
    "    SELECT Ourpart,\"Band A Part Number\", \"Housing A Part Number\",\n",
    "        \"Screw Part Number\" AS Screw, \"Band Feed from Band data\",\n",
    "        \"Ship Diam Max\", \"Ship Diam Min\", \"Hex Size\", \"Band_Thickness\", \"Band_Width\",\n",
    "        \"CameraInspectionRequired\", \"ScrDrvChk\"\n",
    "    FROM tbl8Tridon\n",
    "\"\"\""
   ],
   "id": "ffcd270f257cf803",
   "outputs": [],
   "execution_count": 3
  },
  {
   "metadata": {
    "ExecuteTime": {
     "end_time": "2024-04-19T17:37:09.613517Z",
     "start_time": "2024-04-19T17:37:09.606538Z"
    }
   },
   "cell_type": "code",
   "source": [
    "sql_bands = \"\"\"\n",
    "    SELECT \"Band Part Number\", \"Feed Length\",\"CutoutA Tool Number\",\"CutoutB Tool Number\",\"CutoutC Tool Number\",\n",
    "        \"Dim A\", \"Dim B\",\"Dim C\", \"Process\", \"Description\"\n",
    "    FROM BANDS\n",
    "\"\"\""
   ],
   "id": "43d89d967dfc403",
   "outputs": [],
   "execution_count": 7
  },
  {
   "metadata": {},
   "cell_type": "markdown",
   "source": [
    "### Execute Query on AS400"
   ],
   "id": "c5f805a996fba550"
  },
  {
   "metadata": {
    "ExecuteTime": {
     "end_time": "2024-05-01T14:46:43.397502Z",
     "start_time": "2024-05-01T14:46:40.679835Z"
    }
   },
   "cell_type": "code",
   "source": [
    "start = timer()\n",
    "cursor_as400.execute(sql_spares)\n",
    "result_spares = cursor_as400.fetchall()\n",
    "print(\"AS400 Connect/Query Time = \" + str(round((timer() - start), 3)) + \" sec\")"
   ],
   "id": "b86275319e44e66f",
   "outputs": [
    {
     "name": "stdout",
     "output_type": "stream",
     "text": [
      "AS400 Connect/Query Time = 2.71 sec\n"
     ]
    }
   ],
   "execution_count": 5
  },
  {
   "metadata": {},
   "cell_type": "markdown",
   "source": [
    "#### Execute Query on SQL Server"
   ],
   "id": "cb8af78dbf4c51d1"
  },
  {
   "metadata": {
    "ExecuteTime": {
     "end_time": "2024-10-30T18:27:36.624957Z",
     "start_time": "2024-10-30T18:27:11.833067Z"
    }
   },
   "cell_type": "code",
   "source": [
    "# Clamp Data\n",
    "start = timer()\n",
    "cursor_fm.execute(sql_parts)\n",
    "result_clamp = cursor_fm.fetchall()\n",
    "print(\"FileMaker Clamp Query Time = \" + str(round((timer() - start), 3)) + \" sec\")"
   ],
   "id": "6fa86ad7732db5df",
   "outputs": [
    {
     "name": "stdout",
     "output_type": "stream",
     "text": [
      "FileMaker Clamp Query Time = 24.78 sec\n"
     ]
    }
   ],
   "execution_count": 4
  },
  {
   "metadata": {
    "ExecuteTime": {
     "end_time": "2024-04-19T17:38:06.735819Z",
     "start_time": "2024-04-19T17:37:54.673315Z"
    }
   },
   "cell_type": "code",
   "source": [
    "# Band Data\n",
    "start = timer()\n",
    "cursor_fm.execute(sql_bands)\n",
    "result_band = cursor_fm.fetchall()\n",
    "print(\"FileMaker Band Query Time = \" + str(round((timer() - start), 3)) + \" sec\")"
   ],
   "id": "f8eb63ae4cc3f6ac",
   "outputs": [
    {
     "name": "stdout",
     "output_type": "stream",
     "text": [
      "FileMaker Band Query Time = 12.055 sec\n"
     ]
    }
   ],
   "execution_count": 8
  },
  {
   "metadata": {},
   "cell_type": "markdown",
   "source": [
    "#### Build Dataframe for Spare Parts"
   ],
   "id": "657e21de6fc675cb"
  },
  {
   "metadata": {
    "ExecuteTime": {
     "end_time": "2024-05-01T19:13:55.782501Z",
     "start_time": "2024-05-01T19:13:55.520212Z"
    }
   },
   "cell_type": "code",
   "source": [
    "data_type_dict = {'StandardCost' : float, 'OnHand' : int, 'PartNum' : str, 'ReOrderPt' : int, 'ReOrderDate' : int}\n",
    "df_spares = pd.DataFrame.from_records(result_spares)\n",
    "df_spares.columns = ['PartNum', 'EngPartNum', 'Desc1', 'Desc2', 'Mfg', 'MfgPn', 'Cabinet', 'Drawer', 'OnHand', 'StandardCost','ReOrderDate', 'DeptUse', 'DeptPurch', 'ReOrderPt']\n",
    "df_spares = df_spares.dropna()\n",
    "df_spares = df_spares.astype(data_type_dict)\n",
    "df_spares = df_spares.convert_dtypes()\n",
    "\n",
    "df_obs = df_spares[df_spares.Cabinet.str.contains('OBS')]\n",
    "df_obs_yest = pd.read_csv('c:\\\\temp\\yesterday_obs.csv',header=None, sep='\\t')\n",
    "df_obs_yest.reset_index(drop=True, inplace=True)\n",
    "df_obs.reset_index(drop=True, inplace=True)\n",
    "df_obs_yest = df_obs_yest.fillna(\"\")\n",
    "\n",
    "df_obs_yest.columns = df_spares.columns\n",
    "df_obs_yest = df_obs_yest.astype(data_type_dict)\n",
    "df_obs_yest = df_obs_yest.convert_dtypes()\n",
    "\n",
    "if not df_obs['PartNum'].equals(df_obs_yest['PartNum']):\n",
    "    df_diff = pd.concat([df_obs, df_obs_yest]).drop_duplicates(keep=False)\n",
    "    df_obs.to_csv('c:\\\\temp\\yesterday_obs.csv', header=False, index=False, sep='\\t')\n",
    "    i = 0\n",
    "    item_list = []\n",
    "    for index, row in df_diff.iterrows():\n",
    "        #print(row['PartNum'], row['EngPartNum'], row['Desc1'])\n",
    "        item_list.append('<h5>Item ' + str(i) + '</h5>'\n",
    "                             + '<p style=\"margin-left: 40px\">'\n",
    "                             + 'Part Number: ' + row['PartNum']\n",
    "                             + '<br>Eng Part Number: <strong>' + row['EngPartNum'] + '</strong>'\n",
    "                             + '<br>Description 1: ' + row['Desc1']\n",
    "                             + '<br>Description 2: ' + row['Desc2']\n",
    "                             + '<br>Manufacturer: ' + row['Mfg']\n",
    "                             + '<br>Manufacturer Pn: <strong>' + row['MfgPn'] + '</strong>'\n",
    "                             + '<br>Dept Use: ' + row['DeptUse']\n",
    "                             + '<br>Dept Purch: ' + row['DeptPurch']\n",
    "                             + '</p><br>')\n",
    "        i += 1\n",
    "    for item in item_list:\n",
    "        print(item)  \n"
   ],
   "id": "d1c1f685a2bd630d",
   "outputs": [
    {
     "name": "stdout",
     "output_type": "stream",
     "text": [
      "<h5>Item 0</h5><p style=\"margin-left: 40px\">Part Number: 1021446<br>Eng Part Number: <strong>091021446</strong><br>Description 1: PUNCH SUPPORT<br>Description 2: OBS ECR 14755<br>Manufacturer: <br>Manufacturer Pn: <strong></strong><br>Dept Use: 0750<br>Dept Purch: 0750</p><br>\n",
      "<h5>Item 1</h5><p style=\"margin-left: 40px\">Part Number: 1021447<br>Eng Part Number: <strong>091021447</strong><br>Description 1: OBS ECR 14755<br>Description 2: ****<br>Manufacturer: <br>Manufacturer Pn: <strong></strong><br>Dept Use: 0750<br>Dept Purch: 0750</p><br>\n",
      "<h5>Item 2</h5><p style=\"margin-left: 40px\">Part Number: 1021449<br>Eng Part Number: <strong>091021449</strong><br>Description 1: FINGER-<br>Description 2: ****<br>Manufacturer: <br>Manufacturer Pn: <strong></strong><br>Dept Use: 0750<br>Dept Purch: 0750</p><br>\n",
      "<h5>Item 3</h5><p style=\"margin-left: 40px\">Part Number: 1021450<br>Eng Part Number: <strong>091021450</strong><br>Description 1: FINGER<br>Description 2: <br>Manufacturer: <br>Manufacturer Pn: <strong></strong><br>Dept Use: 0750<br>Dept Purch: 0750</p><br>\n",
      "<h5>Item 4</h5><p style=\"margin-left: 40px\">Part Number: 1021451<br>Eng Part Number: <strong>091021451</strong><br>Description 1: SPACER<br>Description 2: <br>Manufacturer: <br>Manufacturer Pn: <strong></strong><br>Dept Use: 0750<br>Dept Purch: 0750</p><br>\n",
      "<h5>Item 5</h5><p style=\"margin-left: 40px\">Part Number: 1021452<br>Eng Part Number: <strong>091021452</strong><br>Description 1: TIP INSERT<br>Description 2: <br>Manufacturer: <br>Manufacturer Pn: <strong></strong><br>Dept Use: 0750<br>Dept Purch: 0750</p><br>\n"
     ]
    }
   ],
   "execution_count": 92
  },
  {
   "metadata": {},
   "cell_type": "markdown",
   "source": [
    "#### Build Dataframe for Clamp Data"
   ],
   "id": "5871b385cf53d176"
  },
  {
   "metadata": {
    "ExecuteTime": {
     "end_time": "2024-10-30T18:28:01.696443Z",
     "start_time": "2024-10-30T18:28:01.485449Z"
    }
   },
   "cell_type": "code",
   "source": [
    "df_clamps = pd.DataFrame.from_records(result_clamp)\n",
    "# Set Column Names\n",
    "df_clamps.columns = ['PartNumber', 'Band', 'Housing', 'Screw', 'Feed', 'DiaMax', 'DiaMin', 'HexSz', 'BandThickness','BandWidth', 'CamInspect', 'ScrDrvChk']\n",
    "# Set Data Types\n",
    "data_type_dict = {'PartNumber' : str, 'Band' : str,'Housing' : str,'Screw' : str, 'Feed' : float, 'DiaMax' : float,'DiaMin' : float,'HexSz' : str,'BandThickness' : float, 'BandWidth' : float,'CamInspect' : str,'ScrDrvChk' : str}\n",
    "\n",
    "# Due Some Filtering and Data Cleansing\n",
    "df_clamps = df_clamps[df_clamps.Feed != 'N/A']\n",
    "df_clamps = df_clamps[1:]\n",
    "df_clamps = df_clamps.astype(data_type_dict)\n",
    "df_clamps['CamInspect'] = df_clamps['CamInspect'].str.upper()\n",
    "df_clamps['ScrDrvChk'] = df_clamps['ScrDrvChk'].str.upper()\n",
    "df_clamps['Feed'] = df_clamps['Feed'].round(3)\n",
    "df_clamps['BandWidth'] = df_clamps['BandWidth'].round(3)\n",
    "df_clamps['BandThickness'] = df_clamps['BandThickness'].round(3)\n",
    "df_clamps.fillna({'DiaMax' : 0.0}, inplace=True)\n",
    "df_clamps.fillna({'DiaMin' : 0.0}, inplace=True)\n",
    "df_clamps['DiaMax'] = df_clamps['DiaMax'].round(3)\n",
    "df_clamps['DiaMin'] = df_clamps['DiaMin'].round(3)\n",
    "df_clamps = df_clamps.dropna()\n",
    "df_clamps = df_clamps.convert_dtypes()\n",
    "df_clamps.sample(20)\n",
    "\n"
   ],
   "id": "88c3447b61048114",
   "outputs": [
    {
     "data": {
      "text/plain": [
       "         PartNumber         Band     Housing       Screw    Feed  DiaMax  \\\n",
       "9246         HBCP24  HBCP24-BAND     N03SSBL        None  45.278   6.125   \n",
       "12185    M644P56102      2943056     2360007   1250010MC    13.6     0.0   \n",
       "7504   670620080004      2890080     2360007   1300014MC    19.1    5.48   \n",
       "10987  379190046001      2762046     2360013   1300014MC   11.58    3.31   \n",
       "3739        5444052      2314044     1063004     2394002   11.11     0.0   \n",
       "10352       6P85052        78862     7011200     2543001   28.36     0.0   \n",
       "4399   670040056055      2345056     2351045     1318001   13.54     0.0   \n",
       "1315      611104500     2721104\n",
       "     2367025     1213002   22.96     0.0   \n",
       "1805     M691056222      2730056     2360007   1243011MC  13.603     0.0   \n",
       "3630        6810599      2314010     1063002     2382003   4.384     0.0   \n",
       "4369      600096000      2366096     2367025     1213002   21.39     0.0   \n",
       "7696   671120076127      2745076     2360006     2348001  17.312    5.12   \n",
       "1469      830175001      2028175     2321001     1228001    7.19    1.83   \n",
       "7748        6779D52      2745224     2351042     1278001  46.417     0.0   \n",
       "6096   360990056001      2378056     1151005   4073003MC   13.47    3.96   \n",
       "10029  380130375052        77375     7009900     2542003   13.27    3.71   \n",
       "5051      788050000      2256050     2360007   1299001MC    12.6    3.64   \n",
       "9265      HBCP18780  HBCP18-BAND     N03SSBL        None  35.978   4.625   \n",
       "814       367005102      1074005     1097021     2120003    3.16    0.74   \n",
       "7323   574030100099      4794100  4796001052  4392012052  14.369    4.02   \n",
       "\n",
       "       DiaMin            HexSz  BandThickness  BandWidth CamInspect ScrDrvChk  \n",
       "9246     6.06             None          0.026      0.625         NO        NO  \n",
       "12185     0.0            5/16\"          0.022        0.5         NO        NO  \n",
       "7504      5.4             7 mm          0.025        0.5        YES        NO  \n",
       "10987    3.23             7 mm          0.025        0.5        YES       YES  \n",
       "3739      0.0             3/8\"          0.022      0.562         NO        NO  \n",
       "10352     0.0             None          0.028       0.62         NO        NO  \n",
       "4399      0.0            5/16\"          0.022        0.5         NO        NO  \n",
       "1315      0.0            5/16\"          0.025        0.5         NO        NO  \n",
       "1805      0.0            10 mm          0.025        0.5         NO        NO  \n",
       "3630      0.0            5/16\"          0.022      0.562         NO        NO  \n",
       "4369      0.0            5/16\"          0.022        0.5         NO        NO  \n",
       "7696     5.04            5/16\"          0.025        0.5         NO        NO  \n",
       "1469     1.75  Purchased 5/16\"          0.028        0.5         NO        NO  \n",
       "7748      0.0            5/16\"          0.025        0.5         NO        NO  \n",
       "6096     3.84            5/16\"          0.025      0.562         NO        NO  \n",
       "10029    3.57             None          0.028       0.62         NO        NO  \n",
       "5051     3.56             7 mm          0.025        0.5        YES        NO  \n",
       "9265     4.56             None          0.026      0.625         NO        NO  \n",
       "814      0.68             1/4\"          0.023      0.312         NO        NO  \n",
       "7323     3.94             7 mm          0.032      0.478         NO        NO  "
      ],
      "text/html": [
       "<div>\n",
       "<style scoped>\n",
       "    .dataframe tbody tr th:only-of-type {\n",
       "        vertical-align: middle;\n",
       "    }\n",
       "\n",
       "    .dataframe tbody tr th {\n",
       "        vertical-align: top;\n",
       "    }\n",
       "\n",
       "    .dataframe thead th {\n",
       "        text-align: right;\n",
       "    }\n",
       "</style>\n",
       "<table border=\"1\" class=\"dataframe\">\n",
       "  <thead>\n",
       "    <tr style=\"text-align: right;\">\n",
       "      <th></th>\n",
       "      <th>PartNumber</th>\n",
       "      <th>Band</th>\n",
       "      <th>Housing</th>\n",
       "      <th>Screw</th>\n",
       "      <th>Feed</th>\n",
       "      <th>DiaMax</th>\n",
       "      <th>DiaMin</th>\n",
       "      <th>HexSz</th>\n",
       "      <th>BandThickness</th>\n",
       "      <th>BandWidth</th>\n",
       "      <th>CamInspect</th>\n",
       "      <th>ScrDrvChk</th>\n",
       "    </tr>\n",
       "  </thead>\n",
       "  <tbody>\n",
       "    <tr>\n",
       "      <th>9246</th>\n",
       "      <td>HBCP24</td>\n",
       "      <td>HBCP24-BAND</td>\n",
       "      <td>N03SSBL</td>\n",
       "      <td>None</td>\n",
       "      <td>45.278</td>\n",
       "      <td>6.125</td>\n",
       "      <td>6.06</td>\n",
       "      <td>None</td>\n",
       "      <td>0.026</td>\n",
       "      <td>0.625</td>\n",
       "      <td>NO</td>\n",
       "      <td>NO</td>\n",
       "    </tr>\n",
       "    <tr>\n",
       "      <th>12185</th>\n",
       "      <td>M644P56102</td>\n",
       "      <td>2943056</td>\n",
       "      <td>2360007</td>\n",
       "      <td>1250010MC</td>\n",
       "      <td>13.6</td>\n",
       "      <td>0.0</td>\n",
       "      <td>0.0</td>\n",
       "      <td>5/16\"</td>\n",
       "      <td>0.022</td>\n",
       "      <td>0.5</td>\n",
       "      <td>NO</td>\n",
       "      <td>NO</td>\n",
       "    </tr>\n",
       "    <tr>\n",
       "      <th>7504</th>\n",
       "      <td>670620080004</td>\n",
       "      <td>2890080</td>\n",
       "      <td>2360007</td>\n",
       "      <td>1300014MC</td>\n",
       "      <td>19.1</td>\n",
       "      <td>5.48</td>\n",
       "      <td>5.4</td>\n",
       "      <td>7 mm</td>\n",
       "      <td>0.025</td>\n",
       "      <td>0.5</td>\n",
       "      <td>YES</td>\n",
       "      <td>NO</td>\n",
       "    </tr>\n",
       "    <tr>\n",
       "      <th>10987</th>\n",
       "      <td>379190046001</td>\n",
       "      <td>2762046</td>\n",
       "      <td>2360013</td>\n",
       "      <td>1300014MC</td>\n",
       "      <td>11.58</td>\n",
       "      <td>3.31</td>\n",
       "      <td>3.23</td>\n",
       "      <td>7 mm</td>\n",
       "      <td>0.025</td>\n",
       "      <td>0.5</td>\n",
       "      <td>YES</td>\n",
       "      <td>YES</td>\n",
       "    </tr>\n",
       "    <tr>\n",
       "      <th>3739</th>\n",
       "      <td>5444052</td>\n",
       "      <td>2314044</td>\n",
       "      <td>1063004</td>\n",
       "      <td>2394002</td>\n",
       "      <td>11.11</td>\n",
       "      <td>0.0</td>\n",
       "      <td>0.0</td>\n",
       "      <td>3/8\"</td>\n",
       "      <td>0.022</td>\n",
       "      <td>0.562</td>\n",
       "      <td>NO</td>\n",
       "      <td>NO</td>\n",
       "    </tr>\n",
       "    <tr>\n",
       "      <th>10352</th>\n",
       "      <td>6P85052</td>\n",
       "      <td>78862</td>\n",
       "      <td>7011200</td>\n",
       "      <td>2543001</td>\n",
       "      <td>28.36</td>\n",
       "      <td>0.0</td>\n",
       "      <td>0.0</td>\n",
       "      <td>None</td>\n",
       "      <td>0.028</td>\n",
       "      <td>0.62</td>\n",
       "      <td>NO</td>\n",
       "      <td>NO</td>\n",
       "    </tr>\n",
       "    <tr>\n",
       "      <th>4399</th>\n",
       "      <td>670040056055</td>\n",
       "      <td>2345056</td>\n",
       "      <td>2351045</td>\n",
       "      <td>1318001</td>\n",
       "      <td>13.54</td>\n",
       "      <td>0.0</td>\n",
       "      <td>0.0</td>\n",
       "      <td>5/16\"</td>\n",
       "      <td>0.022</td>\n",
       "      <td>0.5</td>\n",
       "      <td>NO</td>\n",
       "      <td>NO</td>\n",
       "    </tr>\n",
       "    <tr>\n",
       "      <th>1315</th>\n",
       "      <td>611104500</td>\n",
       "      <td>2721104</td>\n",
       "      <td>2367025</td>\n",
       "      <td>1213002</td>\n",
       "      <td>22.96</td>\n",
       "      <td>0.0</td>\n",
       "      <td>0.0</td>\n",
       "      <td>5/16\"</td>\n",
       "      <td>0.025</td>\n",
       "      <td>0.5</td>\n",
       "      <td>NO</td>\n",
       "      <td>NO</td>\n",
       "    </tr>\n",
       "    <tr>\n",
       "      <th>1805</th>\n",
       "      <td>M691056222</td>\n",
       "      <td>2730056</td>\n",
       "      <td>2360007</td>\n",
       "      <td>1243011MC</td>\n",
       "      <td>13.603</td>\n",
       "      <td>0.0</td>\n",
       "      <td>0.0</td>\n",
       "      <td>10 mm</td>\n",
       "      <td>0.025</td>\n",
       "      <td>0.5</td>\n",
       "      <td>NO</td>\n",
       "      <td>NO</td>\n",
       "    </tr>\n",
       "    <tr>\n",
       "      <th>3630</th>\n",
       "      <td>6810599</td>\n",
       "      <td>2314010</td>\n",
       "      <td>1063002</td>\n",
       "      <td>2382003</td>\n",
       "      <td>4.384</td>\n",
       "      <td>0.0</td>\n",
       "      <td>0.0</td>\n",
       "      <td>5/16\"</td>\n",
       "      <td>0.022</td>\n",
       "      <td>0.562</td>\n",
       "      <td>NO</td>\n",
       "      <td>NO</td>\n",
       "    </tr>\n",
       "    <tr>\n",
       "      <th>4369</th>\n",
       "      <td>600096000</td>\n",
       "      <td>2366096</td>\n",
       "      <td>2367025</td>\n",
       "      <td>1213002</td>\n",
       "      <td>21.39</td>\n",
       "      <td>0.0</td>\n",
       "      <td>0.0</td>\n",
       "      <td>5/16\"</td>\n",
       "      <td>0.022</td>\n",
       "      <td>0.5</td>\n",
       "      <td>NO</td>\n",
       "      <td>NO</td>\n",
       "    </tr>\n",
       "    <tr>\n",
       "      <th>7696</th>\n",
       "      <td>671120076127</td>\n",
       "      <td>2745076</td>\n",
       "      <td>2360006</td>\n",
       "      <td>2348001</td>\n",
       "      <td>17.312</td>\n",
       "      <td>5.12</td>\n",
       "      <td>5.04</td>\n",
       "      <td>5/16\"</td>\n",
       "      <td>0.025</td>\n",
       "      <td>0.5</td>\n",
       "      <td>NO</td>\n",
       "      <td>NO</td>\n",
       "    </tr>\n",
       "    <tr>\n",
       "      <th>1469</th>\n",
       "      <td>830175001</td>\n",
       "      <td>2028175</td>\n",
       "      <td>2321001</td>\n",
       "      <td>1228001</td>\n",
       "      <td>7.19</td>\n",
       "      <td>1.83</td>\n",
       "      <td>1.75</td>\n",
       "      <td>Purchased 5/16\"</td>\n",
       "      <td>0.028</td>\n",
       "      <td>0.5</td>\n",
       "      <td>NO</td>\n",
       "      <td>NO</td>\n",
       "    </tr>\n",
       "    <tr>\n",
       "      <th>7748</th>\n",
       "      <td>6779D52</td>\n",
       "      <td>2745224</td>\n",
       "      <td>2351042</td>\n",
       "      <td>1278001</td>\n",
       "      <td>46.417</td>\n",
       "      <td>0.0</td>\n",
       "      <td>0.0</td>\n",
       "      <td>5/16\"</td>\n",
       "      <td>0.025</td>\n",
       "      <td>0.5</td>\n",
       "      <td>NO</td>\n",
       "      <td>NO</td>\n",
       "    </tr>\n",
       "    <tr>\n",
       "      <th>6096</th>\n",
       "      <td>360990056001</td>\n",
       "      <td>2378056</td>\n",
       "      <td>1151005</td>\n",
       "      <td>4073003MC</td>\n",
       "      <td>13.47</td>\n",
       "      <td>3.96</td>\n",
       "      <td>3.84</td>\n",
       "      <td>5/16\"</td>\n",
       "      <td>0.025</td>\n",
       "      <td>0.562</td>\n",
       "      <td>NO</td>\n",
       "      <td>NO</td>\n",
       "    </tr>\n",
       "    <tr>\n",
       "      <th>10029</th>\n",
       "      <td>380130375052</td>\n",
       "      <td>77375</td>\n",
       "      <td>7009900</td>\n",
       "      <td>2542003</td>\n",
       "      <td>13.27</td>\n",
       "      <td>3.71</td>\n",
       "      <td>3.57</td>\n",
       "      <td>None</td>\n",
       "      <td>0.028</td>\n",
       "      <td>0.62</td>\n",
       "      <td>NO</td>\n",
       "      <td>NO</td>\n",
       "    </tr>\n",
       "    <tr>\n",
       "      <th>5051</th>\n",
       "      <td>788050000</td>\n",
       "      <td>2256050</td>\n",
       "      <td>2360007</td>\n",
       "      <td>1299001MC</td>\n",
       "      <td>12.6</td>\n",
       "      <td>3.64</td>\n",
       "      <td>3.56</td>\n",
       "      <td>7 mm</td>\n",
       "      <td>0.025</td>\n",
       "      <td>0.5</td>\n",
       "      <td>YES</td>\n",
       "      <td>NO</td>\n",
       "    </tr>\n",
       "    <tr>\n",
       "      <th>9265</th>\n",
       "      <td>HBCP18780</td>\n",
       "      <td>HBCP18-BAND</td>\n",
       "      <td>N03SSBL</td>\n",
       "      <td>None</td>\n",
       "      <td>35.978</td>\n",
       "      <td>4.625</td>\n",
       "      <td>4.56</td>\n",
       "      <td>None</td>\n",
       "      <td>0.026</td>\n",
       "      <td>0.625</td>\n",
       "      <td>NO</td>\n",
       "      <td>NO</td>\n",
       "    </tr>\n",
       "    <tr>\n",
       "      <th>814</th>\n",
       "      <td>367005102</td>\n",
       "      <td>1074005</td>\n",
       "      <td>1097021</td>\n",
       "      <td>2120003</td>\n",
       "      <td>3.16</td>\n",
       "      <td>0.74</td>\n",
       "      <td>0.68</td>\n",
       "      <td>1/4\"</td>\n",
       "      <td>0.023</td>\n",
       "      <td>0.312</td>\n",
       "      <td>NO</td>\n",
       "      <td>NO</td>\n",
       "    </tr>\n",
       "    <tr>\n",
       "      <th>7323</th>\n",
       "      <td>574030100099</td>\n",
       "      <td>4794100</td>\n",
       "      <td>4796001052</td>\n",
       "      <td>4392012052</td>\n",
       "      <td>14.369</td>\n",
       "      <td>4.02</td>\n",
       "      <td>3.94</td>\n",
       "      <td>7 mm</td>\n",
       "      <td>0.032</td>\n",
       "      <td>0.478</td>\n",
       "      <td>NO</td>\n",
       "      <td>NO</td>\n",
       "    </tr>\n",
       "  </tbody>\n",
       "</table>\n",
       "</div>"
      ]
     },
     "execution_count": 5,
     "metadata": {},
     "output_type": "execute_result"
    }
   ],
   "execution_count": 5
  },
  {
   "metadata": {},
   "cell_type": "markdown",
   "source": [
    "#### Build Dataframe for Band Data"
   ],
   "id": "bbce618c82d07727"
  },
  {
   "metadata": {
    "ExecuteTime": {
     "end_time": "2024-04-19T17:38:26.258800Z",
     "start_time": "2024-04-19T17:38:26.105176Z"
    }
   },
   "cell_type": "code",
   "source": [
    "valid_process = ['IN-LINE SINGLE NOTCH DIE', 'IN-LINE DOUBLE NOTCH DIE', 'IN-LINE BAND STAMPING', 'IN-LINE 105 NOTCH DIE', 'CUT & CURL']\n",
    "df_bands = pd.DataFrame.from_records(result_band)\n",
    "df_bands.columns = ['Band', 'FeedLength', 'CutOutA', 'CutOutB', 'CutOutC', 'DimA', 'DimB', 'DimC', 'Process', 'Description']\n",
    "data_type_dict = {'Band' : str, 'FeedLength' : float,'CutOutA' : str,'CutOutB' : str,'CutOutC' : str,'DimA' : float,'DimB' : float,'DimC' : float,'Process' : str, 'Description' : str}\n",
    "df_bands = df_bands.astype(data_type_dict)\n",
    "df_bands = df_bands.convert_dtypes()\n",
    "\n",
    "# Shape Data Set\n",
    "df_bands = df_bands[1:]\n",
    "df_bands['Band'] = df_bands['Band'].str.upper()\n",
    "df_bands['Process'] = df_bands['Process'].str.upper()\n",
    "df_bands = df_bands[df_bands['Process'].isin(valid_process)]\n",
    "df_bands = df_bands[df_bands['Band'].str.contains('OBS|X|OLD|PSR|CH|NO ACTIVE') == False]\n",
    "df_bands['FeedLength'] = df_bands['FeedLength'].round(3)\n",
    "df_bands.fillna({'CutOutA' : 'NON-MULTI'}, inplace=True)\n",
    "df_bands.fillna({'DimA' : 0.000}, inplace=True)\n",
    "df_bands.fillna({'DimB' : 0.000}, inplace=True)\n",
    "df_bands.fillna({'DimC' : 0.000}, inplace=True)\n",
    "df_bands.drop_duplicates(subset='Band', keep='first', inplace=True)\n",
    "df_bands = df_bands.dropna(subset='Band')\n",
    "\n",
    "#df_bands.query('BandLength < 10.000', inplace=True)\n",
    "\n",
    "df_bands.shape"
   ],
   "id": "511f32afc297b046",
   "outputs": [
    {
     "data": {
      "text/plain": [
       "(7122, 10)"
      ]
     },
     "execution_count": 9,
     "metadata": {},
     "output_type": "execute_result"
    }
   ],
   "execution_count": 9
  },
  {
   "metadata": {},
   "cell_type": "markdown",
   "source": [],
   "id": "3c90961f9577885c"
  },
  {
   "metadata": {},
   "cell_type": "markdown",
   "source": [
    "#### Load Spare Parts to SQL Server Table"
   ],
   "id": "504e2c256c8e9d50"
  },
  {
   "metadata": {
    "ExecuteTime": {
     "end_time": "2024-04-17T19:00:33.572373Z",
     "start_time": "2024-04-17T19:00:15.526664Z"
    }
   },
   "cell_type": "code",
   "source": [
    "data_type_dict = {'StandardCost' : sqlalchemy.types.FLOAT, 'OnHand' : sqlalchemy.types.INT,'PartNum' : sqlalchemy.types.VARCHAR(255),'ReOrderPt' : sqlalchemy.types.INT, 'EngPartNum' : sqlalchemy.types.VARCHAR(255), 'Desc1' : sqlalchemy.types.VARCHAR(255),'Desc2' : sqlalchemy.types.VARCHAR(255),'Mfg' : sqlalchemy.types.VARCHAR(255),'MfgPn' : sqlalchemy.types.VARCHAR(255), 'Cabinet' : sqlalchemy.types.VARCHAR(255),'Drawer' : sqlalchemy.types.VARCHAR(255),'ReOrderDate' : sqlalchemy.types.VARCHAR(255),'DeptUse' : sqlalchemy.types.VARCHAR(255),'DeptPurch' : sqlalchemy.types.VARCHAR(255)}\n",
    "\n",
    "df_spares.to_sql('tblSpares', conn_sql, schema='eng', if_exists='replace', index=False, dtype=data_type_dict)"
   ],
   "id": "e4f275efc5a7e3d7",
   "outputs": [
    {
     "data": {
      "text/plain": [
       "28"
      ]
     },
     "execution_count": 165,
     "metadata": {},
     "output_type": "execute_result"
    }
   ],
   "execution_count": 165
  },
  {
   "metadata": {},
   "cell_type": "markdown",
   "source": [
    "#### Load Clamp to SQL Server Table"
   ],
   "id": "120284851d2f777"
  },
  {
   "metadata": {
    "ExecuteTime": {
     "end_time": "2024-04-16T18:56:37.369746Z",
     "start_time": "2024-04-16T18:56:30.876427Z"
    }
   },
   "cell_type": "code",
   "source": [
    "data_type_dict = {'PartNumber' : sqlalchemy.types.VARCHAR(255), 'Band' : sqlalchemy.types.VARCHAR(255),'Housing' : sqlalchemy.types.VARCHAR(255),'Screw' : sqlalchemy.types.VARCHAR(255), 'Feed' : sqlalchemy.types.Float, 'DiaMax' : sqlalchemy.types.Float,'DiaMin' : sqlalchemy.types.Float,'HexSz' : sqlalchemy.types.VARCHAR(255),'BandThickness' : sqlalchemy.types.Float, 'BandWidth' : sqlalchemy.types.Float,'CamInspect' : sqlalchemy.types.VARCHAR(255),'ScrDrvChk' : sqlalchemy.types.VARCHAR(255)}\n",
    "\n",
    "df_clamps.to_sql('parts_clamps', conn_sql, schema='production', if_exists='replace', index=False, dtype=data_type_dict)"
   ],
   "id": "88dc80a7ed2da506",
   "outputs": [
    {
     "data": {
      "text/plain": [
       "32"
      ]
     },
     "execution_count": 99,
     "metadata": {},
     "output_type": "execute_result"
    }
   ],
   "execution_count": 99
  },
  {
   "metadata": {},
   "cell_type": "markdown",
   "source": [
    "#### Load Band Data to SQL Server Table"
   ],
   "id": "acf060a2afdab743"
  },
  {
   "metadata": {
    "ExecuteTime": {
     "end_time": "2024-04-17T20:09:26.619598Z",
     "start_time": "2024-04-17T20:09:22.938960Z"
    }
   },
   "cell_type": "code",
   "source": [
    "data_type_dict = {'Band' : sqlalchemy.types.VARCHAR(255),'FeedLength' : sqlalchemy.types.FLOAT, 'CutOutA' : sqlalchemy.types.VARCHAR(255), 'CutOutB' : sqlalchemy.types.VARCHAR(255), 'CutOutC' : sqlalchemy.types.VARCHAR(255),'DimA' : sqlalchemy.types.FLOAT,'DimB' : sqlalchemy.types.FLOAT,'DimC' : sqlalchemy.types.FLOAT, 'Process' : sqlalchemy.types.VARCHAR(255), 'Description' : sqlalchemy.types.VARCHAR(255)}\n",
    "\n",
    "df_bands.to_sql('parts_bands', conn_sql, schema='production', if_exists='replace', index=False, dtype=data_type_dict)"
   ],
   "id": "782096b3be822f27",
   "outputs": [
    {
     "data": {
      "text/plain": [
       "16"
      ]
     },
     "execution_count": 172,
     "metadata": {},
     "output_type": "execute_result"
    }
   ],
   "execution_count": 172
  },
  {
   "metadata": {},
   "cell_type": "code",
   "outputs": [],
   "execution_count": null,
   "source": [],
   "id": "fcee3211f7bc396e"
  }
 ],
 "metadata": {
  "kernelspec": {
   "display_name": "Python 3",
   "language": "python",
   "name": "python3"
  },
  "language_info": {
   "codemirror_mode": {
    "name": "ipython",
    "version": 2
   },
   "file_extension": ".py",
   "mimetype": "text/x-python",
   "name": "python",
   "nbconvert_exporter": "python",
   "pygments_lexer": "ipython2",
   "version": "2.7.6"
  }
 },
 "nbformat": 4,
 "nbformat_minor": 5
}
