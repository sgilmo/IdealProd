{
 "cells": [
  {
   "metadata": {},
   "cell_type": "markdown",
   "source": "#### Bring in Required Libraries",
   "id": "14b480b2def0dee0"
  },
  {
   "cell_type": "code",
   "id": "initial_id",
   "metadata": {
    "collapsed": true,
    "ExecuteTime": {
     "end_time": "2024-04-16T18:42:56.539130Z",
     "start_time": "2024-04-16T18:42:56.531151Z"
    }
   },
   "source": [
    "import pandas as pd\n",
    "import pyodbc\n",
    "import sqlalchemy.types\n",
    "from icecream import ic\n",
    "from sqlalchemy import create_engine\n",
    "from urllib import parse\n",
    "from timeit import default_timer as timer"
   ],
   "outputs": [],
   "execution_count": 72
  },
  {
   "metadata": {
    "ExecuteTime": {
     "end_time": "2024-04-16T18:43:11.324175Z",
     "start_time": "2024-04-16T18:43:01.093439Z"
    }
   },
   "cell_type": "code",
   "source": [
    "# ODBC Connection for FileMaker\n",
    "start = timer()\n",
    "cnxn = pyodbc.connect('DSN=FM Clamp ODBC;UID=FMODBC;PWD=FMODBC')\n",
    "cnxn.timeout = 60\n",
    "cursor_fm = cnxn.cursor()\n",
    "print(\"FileMaker Connect Time = \" + str(round((timer() - start), 3)) + \" sec\")"
   ],
   "id": "d2549a87bb29b5a6",
   "outputs": [
    {
     "name": "stdout",
     "output_type": "stream",
     "text": [
      "FileMaker Connect Time = 10.222 sec\n"
     ]
    }
   ],
   "execution_count": 73
  },
  {
   "metadata": {
    "ExecuteTime": {
     "end_time": "2024-04-16T18:43:20.570958Z",
     "start_time": "2024-04-16T18:43:20.545712Z"
    }
   },
   "cell_type": "code",
   "source": [
    "# SQLAlchemy connection for SQL Server\n",
    "server = 'tn-sql'\n",
    "database = 'autodata'\n",
    "driver = 'ODBC+Driver+17+for+SQL+Server'\n",
    "user = 'production'\n",
    "pwd = parse.quote_plus(\"Auto@matics\")\n",
    "port = '1433'\n",
    "database_conn = f'mssql+pyodbc://{user}:{pwd}@{server}:{port}/{database}?driver={driver}'\n",
    "# Make Connection\n",
    "engine = create_engine(database_conn)\n",
    "# conn = engine.raw_connection()\n",
    "conn_sql = engine.connect()"
   ],
   "id": "d87f6a3e8558a92f",
   "outputs": [],
   "execution_count": 74
  },
  {
   "metadata": {
    "ExecuteTime": {
     "end_time": "2024-04-16T18:43:27.074234Z",
     "start_time": "2024-04-16T18:43:26.930618Z"
    }
   },
   "cell_type": "code",
   "source": [
    "# ODBC Connection for AS400\n",
    "CONNAS400 = \"\"\"\n",
    "Driver={iSeries Access ODBC Driver};\n",
    "system=10.143.12.10;\n",
    "Server=AS400;\n",
    "Database=PROD;\n",
    "UID=SMY;\n",
    "PWD=SMY;\n",
    "\"\"\"\n",
    "dbcnxn = pyodbc.connect(CONNAS400)\n",
    "cursor_as400 = dbcnxn.cursor()"
   ],
   "id": "fabe00e77fc36e7a",
   "outputs": [],
   "execution_count": 75
  },
  {
   "metadata": {
    "ExecuteTime": {
     "end_time": "2024-04-16T18:54:36.879077Z",
     "start_time": "2024-04-16T18:54:36.873078Z"
    }
   },
   "cell_type": "code",
   "source": [
    "sql_spares = \"\"\"\n",
    "    SELECT PROD.FPSPRMAST1.SPH_PART,\n",
    "        STRIP(PROD.FPSPRMAST1.SPH_ENGPRT),\n",
    "        STRIP(PROD.FPSPRMAST1.SPH_DESC1),\n",
    "        STRIP(PROD.FPSPRMAST1.SPH_DESC2),\n",
    "        STRIP(PROD.FPSPRMAST1.SPH_MFG),\n",
    "        STRIP(PROD.FPSPRMAST1.SPH_MFGPRT),\n",
    "        STRIP(PROD.FPSPRMAST2.SPD_CABINT),\n",
    "        STRIP(PROD.FPSPRMAST2.SPD_DRAWER),\n",
    "        PROD.FPSPRMAST2.SPD_QOHCUR,\n",
    "        PROD.FPSPRMAST1.SPH_CURSTD,\n",
    "        STRIP(PROD.FPSPRMAST2.SPD_REODTE),\n",
    "        STRIP(PROD.FPSPRMAST2.SPD_USECC),\n",
    "        STRIP(PROD.FPSPRMAST2.SPD_PURCC),\n",
    "        STRIP(PROD.FPSPRMAST2.SPD_QREORD)\n",
    "    FROM PROD.FPSPRMAST1 INNER JOIN PROD.FPSPRMAST2 ON PROD.FPSPRMAST1.SPH_PART = PROD.FPSPRMAST2.SPD_PART\n",
    "    WHERE (((PROD.FPSPRMAST2.SPD_FACIL)=9))\n",
    "\"\"\""
   ],
   "id": "463fdeef3e52f9e3",
   "outputs": [],
   "execution_count": 93
  },
  {
   "metadata": {
    "ExecuteTime": {
     "end_time": "2024-04-16T18:54:39.770003Z",
     "start_time": "2024-04-16T18:54:39.763989Z"
    }
   },
   "cell_type": "code",
   "source": [
    "sql_parts = \"\"\"\n",
    "    SELECT Ourpart,\"Band A Part Number\", \"Housing A Part Number\",\n",
    "        \"Screw Part Number\" AS Screw, \"Band Feed from Band data\",\n",
    "        \"Ship Diam Max\", \"Ship Diam Min\", \"Hex Size\", \"Band_Thickness\", \"Band_Width\",\n",
    "        \"CameraInspectionRequired\", \"ScrDrvChk\"\n",
    "    FROM tbl8Tridon\n",
    "\"\"\""
   ],
   "id": "ffcd270f257cf803",
   "outputs": [],
   "execution_count": 94
  },
  {
   "metadata": {
    "ExecuteTime": {
     "end_time": "2024-04-17T14:06:30.909397Z",
     "start_time": "2024-04-17T14:06:30.880476Z"
    }
   },
   "cell_type": "code",
   "source": [
    "sql_bands = \"\"\"\n",
    "    SELECT \"Band Part Number\", \"Feed Length\",\"CutoutA Tool Number\",\"CutoutB Tool Number\",\"CutoutC Tool Number\",\n",
    "        \"Dim A\", \"Dim B\",\"Dim C\", \"Process\", \"Description\"\n",
    "    FROM BANDS\n",
    "\"\"\""
   ],
   "id": "43d89d967dfc403",
   "outputs": [],
   "execution_count": 108
  },
  {
   "metadata": {},
   "cell_type": "markdown",
   "source": "### Execute Query on AS400",
   "id": "c5f805a996fba550"
  },
  {
   "metadata": {
    "ExecuteTime": {
     "end_time": "2024-04-16T18:55:08.178421Z",
     "start_time": "2024-04-16T18:55:06.055378Z"
    }
   },
   "cell_type": "code",
   "source": [
    "start = timer()\n",
    "cursor_as400.execute(sql_spares)\n",
    "result_spares = cursor_as400.fetchall()\n",
    "print(\"AS400 Connect/Query Time = \" + str(round((timer() - start), 3)) + \" sec\")"
   ],
   "id": "b86275319e44e66f",
   "outputs": [
    {
     "name": "stdout",
     "output_type": "stream",
     "text": [
      "AS400 Connect/Query Time = 2.117 sec\n"
     ]
    }
   ],
   "execution_count": 96
  },
  {
   "metadata": {},
   "cell_type": "markdown",
   "source": "#### Execute Query on SQL Server",
   "id": "cb8af78dbf4c51d1"
  },
  {
   "metadata": {
    "ExecuteTime": {
     "end_time": "2024-04-16T18:55:40.115175Z",
     "start_time": "2024-04-16T18:55:37.030857Z"
    }
   },
   "cell_type": "code",
   "source": [
    "# Clamp Data\n",
    "start = timer()\n",
    "cursor_fm.execute(sql_parts)\n",
    "result_clamp = cursor_fm.fetchall()\n",
    "print(\"FileMaker Clamp Query Time = \" + str(round((timer() - start), 3)) + \" sec\")"
   ],
   "id": "6fa86ad7732db5df",
   "outputs": [
    {
     "name": "stdout",
     "output_type": "stream",
     "text": [
      "FileMaker Clamp Query Time = 3.078 sec\n"
     ]
    }
   ],
   "execution_count": 97
  },
  {
   "metadata": {
    "ExecuteTime": {
     "end_time": "2024-04-17T14:06:50.023935Z",
     "start_time": "2024-04-17T14:06:49.093961Z"
    }
   },
   "cell_type": "code",
   "source": [
    "# Band Data\n",
    "start = timer()\n",
    "cursor_fm.execute(sql_bands)\n",
    "result_band = cursor_fm.fetchall()\n",
    "print(\"FileMaker Band Query Time = \" + str(round((timer() - start), 3)) + \" sec\")"
   ],
   "id": "f8eb63ae4cc3f6ac",
   "outputs": [
    {
     "name": "stdout",
     "output_type": "stream",
     "text": [
      "FileMaker Band Query Time = 0.921 sec\n"
     ]
    }
   ],
   "execution_count": 109
  },
  {
   "metadata": {},
   "cell_type": "markdown",
   "source": "#### Build Dataframe for Spare Parts",
   "id": "657e21de6fc675cb"
  },
  {
   "metadata": {},
   "cell_type": "code",
   "outputs": [
    {
     "data": {
      "text/plain": [
       "<bound method NDFrame.head of        PartNum   EngPartNum                     Desc1  \\\n",
       "0         1056    091001056           PLATE WEAR SIDE   \n",
       "1         1107    091001107           PLATE SIDE WEAR   \n",
       "2         1114    091001114     PLATE SIDE WEAR FRONT   \n",
       "3         1115    091001115           PLATE WEAR SIDE   \n",
       "4         2001      4-40 H3  SP PT GUN TAP PLUG STYLE   \n",
       "...        ...          ...                       ...   \n",
       "22522  1041029   104-10-029              1ST FORM PAD   \n",
       "22523  3031116  3031-10-016             CUTOFF INSERT   \n",
       "22524  3031204  3031-20-004            CUT OFF INSERT   \n",
       "22525  1786196    091786196    SCPW55-14-22  COUPLING   \n",
       "22526   824091   091824091E  QS186EBQ8  SENSOR EMITER   \n",
       "\n",
       "                         Desc2 Mfg        MfgPn Cabinet Drawer  OnHand  \\\n",
       "0                                                    C7     D1       4   \n",
       "1                                                     '      '       0   \n",
       "2                                                     '      '       0   \n",
       "3                                                    C7     D1       4   \n",
       "4               MSC # 64932445                      ---    ---       0   \n",
       "...                        ...  ..          ...     ...    ...     ...   \n",
       "22522                                                                0   \n",
       "22523                               3031-10-016                      0   \n",
       "22524                               3031-20-004                      0   \n",
       "22525  MISUMI FLEXBLE COUPLING                                       0   \n",
       "22526         BANNER  70659148                       C3     D6       2   \n",
       "\n",
       "       StandardCost ReOrderDate DeptUse DeptPurch  ReOrderPt  \n",
       "0              95.0      000000    0750      0750          1  \n",
       "1              95.0      000000    0750      0750          0  \n",
       "2              90.0      000000    0750      0750          0  \n",
       "3              90.0      000000    0750      0750          1  \n",
       "4              0.01      000000    0750      0750          0  \n",
       "...             ...         ...     ...       ...        ...  \n",
       "22522           0.0      000000    0750      0750          0  \n",
       "22523           0.0      000000    0750      0750          0  \n",
       "22524           0.0      000000    0750      0750          0  \n",
       "22525         69.03      000000    L000      L000          0  \n",
       "22526          53.0      000000    0785      0785          1  \n",
       "\n",
       "[22527 rows x 14 columns]>"
      ]
     },
     "execution_count": 100,
     "metadata": {},
     "output_type": "execute_result"
    }
   ],
   "execution_count": 100,
   "source": [
    "data_type_dict = {'StandardCost' : float, 'OnHand' : int, 'PartNum' : str, 'ReOrderPt' : int}\n",
    "df_spares = pd.DataFrame.from_records(result_spares)\n",
    "df_spares.columns = ['PartNum', 'EngPartNum', 'Desc1', 'Desc2', 'Mfg', 'MfgPn', 'Cabinet', 'Drawer', 'OnHand', 'StandardCost','ReOrderDate', 'DeptUse', 'DeptPurch', 'ReOrderPt']\n",
    "df_spares = df_spares.dropna()\n",
    "df_spares = df_spares.astype(data_type_dict)\n",
    "df_spares = df_spares.convert_dtypes()\n",
    "df_spares.head"
   ],
   "id": "d1c1f685a2bd630d"
  },
  {
   "metadata": {},
   "cell_type": "markdown",
   "source": "#### Build Dataframe for Clamp Data",
   "id": "5871b385cf53d176"
  },
  {
   "metadata": {
    "ExecuteTime": {
     "end_time": "2024-04-16T19:50:40.831935Z",
     "start_time": "2024-04-16T19:50:40.696287Z"
    }
   },
   "cell_type": "code",
   "source": [
    "df_clamps = pd.DataFrame.from_records(result_clamp)\n",
    "# Set Column Names\n",
    "df_clamps.columns = ['PartNumber', 'Band', 'Housing', 'Screw', 'Feed', 'DiaMax', 'DiaMin', 'HexSz', 'BandThickness','BandWidth', 'CamInspect', 'ScrDrvChk']\n",
    "# Set Data Types\n",
    "data_type_dict = {'PartNumber' : str, 'Band' : str,'Housing' : str,'Screw' : str, 'Feed' : float, 'DiaMax' : float,'DiaMin' : float,'HexSz' : str,'BandThickness' : float, 'BandWidth' : float,'CamInspect' : str,'ScrDrvChk' : str}\n",
    "\n",
    "# Due Some Filtering and Data Cleansing\n",
    "df_clamps = df_clamps[df_clamps.Feed != 'N/A']\n",
    "df_clamps = df_clamps[1:]\n",
    "df_clamps = df_clamps.astype(data_type_dict)\n",
    "df_clamps['CamInspect'] = df_clamps['CamInspect'].str.upper()\n",
    "df_clamps['ScrDrvChk'] = df_clamps['ScrDrvChk'].str.upper()\n",
    "df_clamps['Feed'] = df_clamps['Feed'].round(3)\n",
    "df_clamps['BandWidth'] = df_clamps['BandWidth'].round(3)\n",
    "df_clamps['BandThickness'] = df_clamps['BandThickness'].round(3)\n",
    "df_clamps.fillna({'DiaMax' : 0.0}, inplace=True)\n",
    "df_clamps.fillna({'DiaMin' : 0.0}, inplace=True)\n",
    "df_clamps['DiaMax'] = df_clamps['DiaMax'].round(3)\n",
    "df_clamps['DiaMin'] = df_clamps['DiaMin'].round(3)\n",
    "df_clamps = df_clamps.dropna()\n",
    "df_clamps = df_clamps.convert_dtypes()\n",
    "df_clamps.sample(20)\n",
    "\n"
   ],
   "id": "88c3447b61048114",
   "outputs": [
    {
     "data": {
      "text/plain": [
       "         PartNumber        Band     Housing       Screw    Feed  DiaMax  \\\n",
       "10106  600350200052       78212     7010900     2542003    7.94     0.0   \n",
       "5576   106970048175     2852048     2367025   1278001MC   12.45    3.58   \n",
       "4397   670040032055     2345032     2351045     1318001     8.8     0.0   \n",
       "5001   370140016052     2745016     2360013   1278001MC    6.05     1.4   \n",
       "4777      632006070     2713006     2703021     1073003   3.736     0.0   \n",
       "6083      644P52222     2943052     2360007   1250010MC  12.818     0.0   \n",
       "2775      335006222     1266006     1097002   1108010MC    4.14     0.0   \n",
       "1494     M233018102     2314018     1019030     1073003    6.46     0.0   \n",
       "4760      612080102     2366080     2360013     1213002   18.25     0.0   \n",
       "818       387006006     1098006     2161001     2166003   4.266     0.0   \n",
       "9330   360180020052     2373020     1151006   4073014MC    6.46    1.56   \n",
       "8522   573140290073  4854290052  4856003052  4452012052   37.35    11.5   \n",
       "6145      661044102     2147044     2157002     2173001  11.247     0.0   \n",
       "3728        5008152     2314008     1056004     1213002    4.02     0.0   \n",
       "11148       4540052       77412     7011401     8003700   14.42     0.0   \n",
       "9051   370170042M01    2634042M     2360013   1300014MC   10.79    3.06   \n",
       "1958      707025002     2366025     2367025   1278001MC    7.62    2.06   \n",
       "9126   350770036M52    2662036M     2360013   1300014MC    9.59    2.52   \n",
       "10215  600100750052       78762     7009900     2543001   25.22     0.0   \n",
       "11003  630060006052     2932906     2214001     2173001   3.777     0.0   \n",
       "\n",
       "       DiaMin  HexSz  BandThickness  BandWidth CamInspect ScrDrvChk  \n",
       "10106     0.0   None          0.028       0.62         NO        NO  \n",
       "5576      3.5  5/16\"          0.025        0.5         NO        NO  \n",
       "4397     2.32  5/16\"          0.022        0.5         NO        NO  \n",
       "5001     1.28  5/16\"          0.025        0.5         NO        NO  \n",
       "4777      0.0  5/16\"          0.025        0.5         NO        NO  \n",
       "6083      0.0  5/16\"          0.022        0.5         NO        NO  \n",
       "2775     0.87   1/4\"          0.023      0.312         NO        NO  \n",
       "1494      0.0  5/16\"          0.022      0.562         NO        NO  \n",
       "4760      0.0  5/16\"          0.022        0.5        YES        NO  \n",
       "818      0.84   1/4\"          0.025      0.312         NO        NO  \n",
       "9330      1.4  5/16\"          0.025      0.562         NO        NO  \n",
       "8522    11.42   7 mm          0.024      0.356         NO        NO  \n",
       "6145      0.0  5/16\"          0.024        0.5         NO        NO  \n",
       "3728      0.0  5/16\"          0.022      0.562         NO        NO  \n",
       "11148     0.0   3/8\"          0.028       0.62         NO        NO  \n",
       "9051     2.98   7 mm          0.025        0.5        YES        NO  \n",
       "1958      2.0  5/16\"          0.022        0.5         NO        NO  \n",
       "9126      2.4   7 mm          0.025        0.5         NO        NO  \n",
       "10215     0.0   None          0.028       0.62         NO        NO  \n",
       "11003    0.77  5/16\"          0.024      0.562         NO        NO  "
      ],
      "text/html": [
       "<div>\n",
       "<style scoped>\n",
       "    .dataframe tbody tr th:only-of-type {\n",
       "        vertical-align: middle;\n",
       "    }\n",
       "\n",
       "    .dataframe tbody tr th {\n",
       "        vertical-align: top;\n",
       "    }\n",
       "\n",
       "    .dataframe thead th {\n",
       "        text-align: right;\n",
       "    }\n",
       "</style>\n",
       "<table border=\"1\" class=\"dataframe\">\n",
       "  <thead>\n",
       "    <tr style=\"text-align: right;\">\n",
       "      <th></th>\n",
       "      <th>PartNumber</th>\n",
       "      <th>Band</th>\n",
       "      <th>Housing</th>\n",
       "      <th>Screw</th>\n",
       "      <th>Feed</th>\n",
       "      <th>DiaMax</th>\n",
       "      <th>DiaMin</th>\n",
       "      <th>HexSz</th>\n",
       "      <th>BandThickness</th>\n",
       "      <th>BandWidth</th>\n",
       "      <th>CamInspect</th>\n",
       "      <th>ScrDrvChk</th>\n",
       "    </tr>\n",
       "  </thead>\n",
       "  <tbody>\n",
       "    <tr>\n",
       "      <th>10106</th>\n",
       "      <td>600350200052</td>\n",
       "      <td>78212</td>\n",
       "      <td>7010900</td>\n",
       "      <td>2542003</td>\n",
       "      <td>7.94</td>\n",
       "      <td>0.0</td>\n",
       "      <td>0.0</td>\n",
       "      <td>None</td>\n",
       "      <td>0.028</td>\n",
       "      <td>0.62</td>\n",
       "      <td>NO</td>\n",
       "      <td>NO</td>\n",
       "    </tr>\n",
       "    <tr>\n",
       "      <th>5576</th>\n",
       "      <td>106970048175</td>\n",
       "      <td>2852048</td>\n",
       "      <td>2367025</td>\n",
       "      <td>1278001MC</td>\n",
       "      <td>12.45</td>\n",
       "      <td>3.58</td>\n",
       "      <td>3.5</td>\n",
       "      <td>5/16\"</td>\n",
       "      <td>0.025</td>\n",
       "      <td>0.5</td>\n",
       "      <td>NO</td>\n",
       "      <td>NO</td>\n",
       "    </tr>\n",
       "    <tr>\n",
       "      <th>4397</th>\n",
       "      <td>670040032055</td>\n",
       "      <td>2345032</td>\n",
       "      <td>2351045</td>\n",
       "      <td>1318001</td>\n",
       "      <td>8.8</td>\n",
       "      <td>0.0</td>\n",
       "      <td>2.32</td>\n",
       "      <td>5/16\"</td>\n",
       "      <td>0.022</td>\n",
       "      <td>0.5</td>\n",
       "      <td>NO</td>\n",
       "      <td>NO</td>\n",
       "    </tr>\n",
       "    <tr>\n",
       "      <th>5001</th>\n",
       "      <td>370140016052</td>\n",
       "      <td>2745016</td>\n",
       "      <td>2360013</td>\n",
       "      <td>1278001MC</td>\n",
       "      <td>6.05</td>\n",
       "      <td>1.4</td>\n",
       "      <td>1.28</td>\n",
       "      <td>5/16\"</td>\n",
       "      <td>0.025</td>\n",
       "      <td>0.5</td>\n",
       "      <td>NO</td>\n",
       "      <td>NO</td>\n",
       "    </tr>\n",
       "    <tr>\n",
       "      <th>4777</th>\n",
       "      <td>632006070</td>\n",
       "      <td>2713006</td>\n",
       "      <td>2703021</td>\n",
       "      <td>1073003</td>\n",
       "      <td>3.736</td>\n",
       "      <td>0.0</td>\n",
       "      <td>0.0</td>\n",
       "      <td>5/16\"</td>\n",
       "      <td>0.025</td>\n",
       "      <td>0.5</td>\n",
       "      <td>NO</td>\n",
       "      <td>NO</td>\n",
       "    </tr>\n",
       "    <tr>\n",
       "      <th>6083</th>\n",
       "      <td>644P52222</td>\n",
       "      <td>2943052</td>\n",
       "      <td>2360007</td>\n",
       "      <td>1250010MC</td>\n",
       "      <td>12.818</td>\n",
       "      <td>0.0</td>\n",
       "      <td>0.0</td>\n",
       "      <td>5/16\"</td>\n",
       "      <td>0.022</td>\n",
       "      <td>0.5</td>\n",
       "      <td>NO</td>\n",
       "      <td>NO</td>\n",
       "    </tr>\n",
       "    <tr>\n",
       "      <th>2775</th>\n",
       "      <td>335006222</td>\n",
       "      <td>1266006</td>\n",
       "      <td>1097002</td>\n",
       "      <td>1108010MC</td>\n",
       "      <td>4.14</td>\n",
       "      <td>0.0</td>\n",
       "      <td>0.87</td>\n",
       "      <td>1/4\"</td>\n",
       "      <td>0.023</td>\n",
       "      <td>0.312</td>\n",
       "      <td>NO</td>\n",
       "      <td>NO</td>\n",
       "    </tr>\n",
       "    <tr>\n",
       "      <th>1494</th>\n",
       "      <td>M233018102</td>\n",
       "      <td>2314018</td>\n",
       "      <td>1019030</td>\n",
       "      <td>1073003</td>\n",
       "      <td>6.46</td>\n",
       "      <td>0.0</td>\n",
       "      <td>0.0</td>\n",
       "      <td>5/16\"</td>\n",
       "      <td>0.022</td>\n",
       "      <td>0.562</td>\n",
       "      <td>NO</td>\n",
       "      <td>NO</td>\n",
       "    </tr>\n",
       "    <tr>\n",
       "      <th>4760</th>\n",
       "      <td>612080102</td>\n",
       "      <td>2366080</td>\n",
       "      <td>2360013</td>\n",
       "      <td>1213002</td>\n",
       "      <td>18.25</td>\n",
       "      <td>0.0</td>\n",
       "      <td>0.0</td>\n",
       "      <td>5/16\"</td>\n",
       "      <td>0.022</td>\n",
       "      <td>0.5</td>\n",
       "      <td>YES</td>\n",
       "      <td>NO</td>\n",
       "    </tr>\n",
       "    <tr>\n",
       "      <th>818</th>\n",
       "      <td>387006006</td>\n",
       "      <td>1098006</td>\n",
       "      <td>2161001</td>\n",
       "      <td>2166003</td>\n",
       "      <td>4.266</td>\n",
       "      <td>0.0</td>\n",
       "      <td>0.84</td>\n",
       "      <td>1/4\"</td>\n",
       "      <td>0.025</td>\n",
       "      <td>0.312</td>\n",
       "      <td>NO</td>\n",
       "      <td>NO</td>\n",
       "    </tr>\n",
       "    <tr>\n",
       "      <th>9330</th>\n",
       "      <td>360180020052</td>\n",
       "      <td>2373020</td>\n",
       "      <td>1151006</td>\n",
       "      <td>4073014MC</td>\n",
       "      <td>6.46</td>\n",
       "      <td>1.56</td>\n",
       "      <td>1.4</td>\n",
       "      <td>5/16\"</td>\n",
       "      <td>0.025</td>\n",
       "      <td>0.562</td>\n",
       "      <td>NO</td>\n",
       "      <td>NO</td>\n",
       "    </tr>\n",
       "    <tr>\n",
       "      <th>8522</th>\n",
       "      <td>573140290073</td>\n",
       "      <td>4854290052</td>\n",
       "      <td>4856003052</td>\n",
       "      <td>4452012052</td>\n",
       "      <td>37.35</td>\n",
       "      <td>11.5</td>\n",
       "      <td>11.42</td>\n",
       "      <td>7 mm</td>\n",
       "      <td>0.024</td>\n",
       "      <td>0.356</td>\n",
       "      <td>NO</td>\n",
       "      <td>NO</td>\n",
       "    </tr>\n",
       "    <tr>\n",
       "      <th>6145</th>\n",
       "      <td>661044102</td>\n",
       "      <td>2147044</td>\n",
       "      <td>2157002</td>\n",
       "      <td>2173001</td>\n",
       "      <td>11.247</td>\n",
       "      <td>0.0</td>\n",
       "      <td>0.0</td>\n",
       "      <td>5/16\"</td>\n",
       "      <td>0.024</td>\n",
       "      <td>0.5</td>\n",
       "      <td>NO</td>\n",
       "      <td>NO</td>\n",
       "    </tr>\n",
       "    <tr>\n",
       "      <th>3728</th>\n",
       "      <td>5008152</td>\n",
       "      <td>2314008</td>\n",
       "      <td>1056004</td>\n",
       "      <td>1213002</td>\n",
       "      <td>4.02</td>\n",
       "      <td>0.0</td>\n",
       "      <td>0.0</td>\n",
       "      <td>5/16\"</td>\n",
       "      <td>0.022</td>\n",
       "      <td>0.562</td>\n",
       "      <td>NO</td>\n",
       "      <td>NO</td>\n",
       "    </tr>\n",
       "    <tr>\n",
       "      <th>11148</th>\n",
       "      <td>4540052</td>\n",
       "      <td>77412</td>\n",
       "      <td>7011401</td>\n",
       "      <td>8003700</td>\n",
       "      <td>14.42</td>\n",
       "      <td>0.0</td>\n",
       "      <td>0.0</td>\n",
       "      <td>3/8\"</td>\n",
       "      <td>0.028</td>\n",
       "      <td>0.62</td>\n",
       "      <td>NO</td>\n",
       "      <td>NO</td>\n",
       "    </tr>\n",
       "    <tr>\n",
       "      <th>9051</th>\n",
       "      <td>370170042M01</td>\n",
       "      <td>2634042M</td>\n",
       "      <td>2360013</td>\n",
       "      <td>1300014MC</td>\n",
       "      <td>10.79</td>\n",
       "      <td>3.06</td>\n",
       "      <td>2.98</td>\n",
       "      <td>7 mm</td>\n",
       "      <td>0.025</td>\n",
       "      <td>0.5</td>\n",
       "      <td>YES</td>\n",
       "      <td>NO</td>\n",
       "    </tr>\n",
       "    <tr>\n",
       "      <th>1958</th>\n",
       "      <td>707025002</td>\n",
       "      <td>2366025</td>\n",
       "      <td>2367025</td>\n",
       "      <td>1278001MC</td>\n",
       "      <td>7.62</td>\n",
       "      <td>2.06</td>\n",
       "      <td>2.0</td>\n",
       "      <td>5/16\"</td>\n",
       "      <td>0.022</td>\n",
       "      <td>0.5</td>\n",
       "      <td>NO</td>\n",
       "      <td>NO</td>\n",
       "    </tr>\n",
       "    <tr>\n",
       "      <th>9126</th>\n",
       "      <td>350770036M52</td>\n",
       "      <td>2662036M</td>\n",
       "      <td>2360013</td>\n",
       "      <td>1300014MC</td>\n",
       "      <td>9.59</td>\n",
       "      <td>2.52</td>\n",
       "      <td>2.4</td>\n",
       "      <td>7 mm</td>\n",
       "      <td>0.025</td>\n",
       "      <td>0.5</td>\n",
       "      <td>NO</td>\n",
       "      <td>NO</td>\n",
       "    </tr>\n",
       "    <tr>\n",
       "      <th>10215</th>\n",
       "      <td>600100750052</td>\n",
       "      <td>78762</td>\n",
       "      <td>7009900</td>\n",
       "      <td>2543001</td>\n",
       "      <td>25.22</td>\n",
       "      <td>0.0</td>\n",
       "      <td>0.0</td>\n",
       "      <td>None</td>\n",
       "      <td>0.028</td>\n",
       "      <td>0.62</td>\n",
       "      <td>NO</td>\n",
       "      <td>NO</td>\n",
       "    </tr>\n",
       "    <tr>\n",
       "      <th>11003</th>\n",
       "      <td>630060006052</td>\n",
       "      <td>2932906</td>\n",
       "      <td>2214001</td>\n",
       "      <td>2173001</td>\n",
       "      <td>3.777</td>\n",
       "      <td>0.0</td>\n",
       "      <td>0.77</td>\n",
       "      <td>5/16\"</td>\n",
       "      <td>0.024</td>\n",
       "      <td>0.562</td>\n",
       "      <td>NO</td>\n",
       "      <td>NO</td>\n",
       "    </tr>\n",
       "  </tbody>\n",
       "</table>\n",
       "</div>"
      ]
     },
     "execution_count": 105,
     "metadata": {},
     "output_type": "execute_result"
    }
   ],
   "execution_count": 105
  },
  {
   "metadata": {},
   "cell_type": "markdown",
   "source": "#### Build Dataframe for Band Data",
   "id": "bbce618c82d07727"
  },
  {
   "metadata": {
    "ExecuteTime": {
     "end_time": "2024-04-17T20:09:13.416681Z",
     "start_time": "2024-04-17T20:09:13.202254Z"
    }
   },
   "cell_type": "code",
   "source": [
    "valid_process = ['IN-LINE SINGLE NOTCH DIE', 'IN-LINE DOUBLE NOTCH DIE', 'IN-LINE BAND STAMPING', 'IN-LINE 105 NOTCH DIE', 'CUT & CURL']\n",
    "df_bands = pd.DataFrame.from_records(result_band)\n",
    "df_bands = df_bands[1:]\n",
    "df_bands.columns = ['Band', 'FeedLength', 'CutOutA', 'CutOutB', 'CutOutC', 'DimA', 'DimB', 'DimC', 'Process', 'Description']\n",
    "data_type_dict = {'Band' : str, 'FeedLength' : float,'CutOutA' : str,'CutOutB' : str,'CutOutC' : str,'DimA' : float,'DimB' : float,'DimC' : float,'Process' : str, 'Description' : str}\n",
    "df_bands['Band'] = df_bands['Band'].str.upper()\n",
    "df_bands['Process'] = df_bands['Process'].str.upper()\n",
    "df_bands = df_bands[df_bands['Process'].isin(valid_process)]\n",
    "df_bands = df_bands[df_bands['Band'].str.contains('OBS|X|OLD|PSR|CH|NO ACTIVE') == False]\n",
    "df_bands['FeedLength'] = df_bands['FeedLength'].round(3)\n",
    "df_bands.fillna({'CutOutA' : 'NON-MULTI'}, inplace=True)\n",
    "df_bands.fillna({'DimA' : 0.000}, inplace=True)\n",
    "df_bands.fillna({'DimB' : 0.000}, inplace=True)\n",
    "df_bands.fillna({'DimC' : 0.000}, inplace=True)\n",
    "df_bands.drop_duplicates(subset='Band', keep='first', inplace=True)\n",
    "df_bands = df_bands.dropna(subset='Band')\n",
    "df_bands = df_bands.astype(data_type_dict)\n",
    "#df_bands.query('BandLength < 10.000', inplace=True)\n",
    "df_bands = df_bands.convert_dtypes()\n",
    "# df_bands.sample(20)\n",
    "# df_bands.head(20)\n",
    "df_bands.dtypes"
   ],
   "id": "511f32afc297b046",
   "outputs": [
    {
     "data": {
      "text/plain": [
       "Band           string[python]\n",
       "FeedLength            Float64\n",
       "CutOutA        string[python]\n",
       "CutOutB        string[python]\n",
       "CutOutC        string[python]\n",
       "DimA                  Float64\n",
       "DimB                  Float64\n",
       "DimC                  Float64\n",
       "Process        string[python]\n",
       "Description    string[python]\n",
       "dtype: object"
      ]
     },
     "execution_count": 171,
     "metadata": {},
     "output_type": "execute_result"
    }
   ],
   "execution_count": 171
  },
  {
   "metadata": {},
   "cell_type": "markdown",
   "source": "",
   "id": "3c90961f9577885c"
  },
  {
   "metadata": {},
   "cell_type": "markdown",
   "source": "#### Load Spare Parts to SQL Server Table",
   "id": "504e2c256c8e9d50"
  },
  {
   "metadata": {
    "ExecuteTime": {
     "end_time": "2024-04-17T19:00:33.572373Z",
     "start_time": "2024-04-17T19:00:15.526664Z"
    }
   },
   "cell_type": "code",
   "source": [
    "data_type_dict = {'StandardCost' : sqlalchemy.types.FLOAT, 'OnHand' : sqlalchemy.types.INT,'PartNum' : sqlalchemy.types.VARCHAR(255),'ReOrderPt' : sqlalchemy.types.INT, 'EngPartNum' : sqlalchemy.types.VARCHAR(255), 'Desc1' : sqlalchemy.types.VARCHAR(255),'Desc2' : sqlalchemy.types.VARCHAR(255),'Mfg' : sqlalchemy.types.VARCHAR(255),'MfgPn' : sqlalchemy.types.VARCHAR(255), 'Cabinet' : sqlalchemy.types.VARCHAR(255),'Drawer' : sqlalchemy.types.VARCHAR(255),'ReOrderDate' : sqlalchemy.types.VARCHAR(255),'DeptUse' : sqlalchemy.types.VARCHAR(255),'DeptPurch' : sqlalchemy.types.VARCHAR(255)}\n",
    "\n",
    "df_spares.to_sql('tblSpares', conn_sql, schema='eng', if_exists='replace', index=False, dtype=data_type_dict)"
   ],
   "id": "e4f275efc5a7e3d7",
   "outputs": [
    {
     "data": {
      "text/plain": [
       "28"
      ]
     },
     "execution_count": 165,
     "metadata": {},
     "output_type": "execute_result"
    }
   ],
   "execution_count": 165
  },
  {
   "metadata": {},
   "cell_type": "markdown",
   "source": "#### Load Clamp to SQL Server Table",
   "id": "120284851d2f777"
  },
  {
   "metadata": {
    "ExecuteTime": {
     "end_time": "2024-04-16T18:56:37.369746Z",
     "start_time": "2024-04-16T18:56:30.876427Z"
    }
   },
   "cell_type": "code",
   "source": [
    "data_type_dict = {'PartNumber' : sqlalchemy.types.VARCHAR(255), 'Band' : sqlalchemy.types.VARCHAR(255),'Housing' : sqlalchemy.types.VARCHAR(255),'Screw' : sqlalchemy.types.VARCHAR(255), 'Feed' : sqlalchemy.types.Float, 'DiaMax' : sqlalchemy.types.Float,'DiaMin' : sqlalchemy.types.Float,'HexSz' : sqlalchemy.types.VARCHAR(255),'BandThickness' : sqlalchemy.types.Float, 'BandWidth' : sqlalchemy.types.Float,'CamInspect' : sqlalchemy.types.VARCHAR(255),'ScrDrvChk' : sqlalchemy.types.VARCHAR(255)}\n",
    "\n",
    "df_clamps.to_sql('parts_clamps', conn_sql, schema='production', if_exists='replace', index=False, dtype=data_type_dict)"
   ],
   "id": "88dc80a7ed2da506",
   "outputs": [
    {
     "data": {
      "text/plain": [
       "32"
      ]
     },
     "execution_count": 99,
     "metadata": {},
     "output_type": "execute_result"
    }
   ],
   "execution_count": 99
  },
  {
   "metadata": {},
   "cell_type": "markdown",
   "source": "#### Load Band Data to SQL Server Table",
   "id": "acf060a2afdab743"
  },
  {
   "metadata": {
    "ExecuteTime": {
     "end_time": "2024-04-17T20:09:26.619598Z",
     "start_time": "2024-04-17T20:09:22.938960Z"
    }
   },
   "cell_type": "code",
   "source": [
    "data_type_dict = {'Band' : sqlalchemy.types.VARCHAR(255),'FeedLength' : sqlalchemy.types.FLOAT, 'CutOutA' : sqlalchemy.types.VARCHAR(255), 'CutOutB' : sqlalchemy.types.VARCHAR(255), 'CutOutC' : sqlalchemy.types.VARCHAR(255),'DimA' : sqlalchemy.types.FLOAT,'DimB' : sqlalchemy.types.FLOAT,'DimC' : sqlalchemy.types.FLOAT, 'Process' : sqlalchemy.types.VARCHAR(255), 'Description' : sqlalchemy.types.VARCHAR(255)}\n",
    "\n",
    "df_bands.to_sql('parts_bands', conn_sql, schema='production', if_exists='replace', index=False, dtype=data_type_dict)"
   ],
   "id": "782096b3be822f27",
   "outputs": [
    {
     "data": {
      "text/plain": [
       "16"
      ]
     },
     "execution_count": 172,
     "metadata": {},
     "output_type": "execute_result"
    }
   ],
   "execution_count": 172
  },
  {
   "metadata": {},
   "cell_type": "code",
   "outputs": [],
   "execution_count": null,
   "source": "",
   "id": "fcee3211f7bc396e"
  }
 ],
 "metadata": {
  "kernelspec": {
   "display_name": "Python 3",
   "language": "python",
   "name": "python3"
  },
  "language_info": {
   "codemirror_mode": {
    "name": "ipython",
    "version": 2
   },
   "file_extension": ".py",
   "mimetype": "text/x-python",
   "name": "python",
   "nbconvert_exporter": "python",
   "pygments_lexer": "ipython2",
   "version": "2.7.6"
  }
 },
 "nbformat": 4,
 "nbformat_minor": 5
}
