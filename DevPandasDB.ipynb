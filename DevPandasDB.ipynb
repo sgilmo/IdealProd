{
 "cells": [
  {
   "cell_type": "code",
   "id": "initial_id",
   "metadata": {
    "collapsed": true,
    "ExecuteTime": {
     "end_time": "2024-04-14T13:33:24.168507Z",
     "start_time": "2024-04-14T13:33:13.507273Z"
    }
   },
   "source": [
    "import pandas as pd\n",
    "import pyodbc\n",
    "from sqlalchemy import create_engine\n",
    "from urllib import parse\n",
    "from timeit import default_timer as timer"
   ],
   "outputs": [],
   "execution_count": 1
  },
  {
   "metadata": {
    "ExecuteTime": {
     "end_time": "2024-04-14T13:34:03.396925Z",
     "start_time": "2024-04-14T13:33:53.278570Z"
    }
   },
   "cell_type": "code",
   "source": [
    "start = timer()\n",
    "cnxn = pyodbc.connect('DSN=FM Clamp ODBC;UID=FMODBC;PWD=FMODBC')\n",
    "cnxn.timeout = 60\n",
    "cursor = cnxn.cursor()\n",
    "print(\"FileMaker Connect Time = \" + str(round((timer() - start), 3)) + \" sec\")"
   ],
   "id": "d2549a87bb29b5a6",
   "outputs": [
    {
     "name": "stdout",
     "output_type": "stream",
     "text": [
      "FileMaker Connect Time = 10.113 sec\n"
     ]
    }
   ],
   "execution_count": 2
  },
  {
   "metadata": {
    "ExecuteTime": {
     "end_time": "2024-04-14T14:44:01.044730Z",
     "start_time": "2024-04-14T14:43:59.863011Z"
    }
   },
   "cell_type": "code",
   "source": [
    "# SQLAlchemy connection\n",
    "server = 'tn-sql'\n",
    "database = 'autodata'\n",
    "driver = 'ODBC+Driver+17+for+SQL+Server'\n",
    "user = 'production'\n",
    "pwd = parse.quote_plus(\"Auto@matics\")\n",
    "port = '1433'\n",
    "database_conn = f'mssql+pyodbc://{user}:{pwd}@{server}:{port}/{database}?driver={driver}'\n",
    "# Make Connection\n",
    "engine = create_engine(database_conn)\n",
    "# conn = engine.raw_connection()\n",
    "conn = engine.connect()"
   ],
   "id": "d87f6a3e8558a92f",
   "outputs": [],
   "execution_count": 26
  },
  {
   "metadata": {
    "ExecuteTime": {
     "end_time": "2024-04-14T13:34:14.621439Z",
     "start_time": "2024-04-14T13:34:14.616951Z"
    }
   },
   "cell_type": "code",
   "source": [
    "sql = \"\"\"\n",
    "            SELECT Ourpart,\"Band A Part Number\", \"Housing A Part Number\",\n",
    "                \"Screw Part Number\" AS Screw, \"Band Feed from Band data\",\n",
    "                \"Ship Diam Max\", \"Ship Diam Min\", \"Hex Size\", \"Band_Thickness\", \"Band_Width\",\n",
    "                \"CameraInspectionRequired\", \"ScrDrvChk\"\n",
    "            FROM tbl8Tridon \n",
    "\"\"\""
   ],
   "id": "ffcd270f257cf803",
   "outputs": [],
   "execution_count": 3
  },
  {
   "metadata": {
    "ExecuteTime": {
     "end_time": "2024-04-14T13:34:45.239706Z",
     "start_time": "2024-04-14T13:34:22.382807Z"
    }
   },
   "cell_type": "code",
   "source": [
    "start = timer()\n",
    "cursor.execute(sql)\n",
    "result = cursor.fetchall()"
   ],
   "id": "6fa86ad7732db5df",
   "outputs": [],
   "execution_count": 4
  },
  {
   "metadata": {
    "ExecuteTime": {
     "end_time": "2024-04-14T15:54:14.836951Z",
     "start_time": "2024-04-14T15:54:14.801435Z"
    }
   },
   "cell_type": "code",
   "source": [
    "data_type_dict = {'Feed' : float}\n",
    "df = pd.DataFrame.from_records(result)\n",
    "df.columns = ['PartNumber', 'Band', 'Housing', 'Screw', 'Feed', 'DiaMax', 'DiaMin', 'HexSz', 'BandThickness','BandWidth', 'CamInspect', 'ScrDrvChk']\n",
    "df = df[df.Feed != 'N/A']\n",
    "df = df.dropna()\n",
    "df = df[1:]\n",
    "df.fillna({'DiaMax' : 0.0}, inplace=True)\n",
    "df.fillna({'DiaMin' : 0.0}, inplace=True)\n",
    "df = df.astype(data_type_dict)\n",
    "df = df.convert_dtypes()\n",
    "df.dtypes\n",
    "# Display Duplicated Part Numbers\n",
    "# ids = df['PartNumber']\n",
    "# df[ids.isin(ids[ids.duplicated()])].sort_values('PartNumber')\n"
   ],
   "id": "88c3447b61048114",
   "outputs": [
    {
     "data": {
      "text/plain": [
       "PartNumber       string[python]\n",
       "Band             string[python]\n",
       "Housing          string[python]\n",
       "Screw            string[python]\n",
       "Feed                    Float64\n",
       "DiaMax                  Float64\n",
       "DiaMin                  Float64\n",
       "HexSz            string[python]\n",
       "BandThickness           Float64\n",
       "BandWidth               Float64\n",
       "CamInspect       string[python]\n",
       "ScrDrvChk        string[python]\n",
       "dtype: object"
      ]
     },
     "execution_count": 47,
     "metadata": {},
     "output_type": "execute_result"
    }
   ],
   "execution_count": 47
  },
  {
   "metadata": {
    "ExecuteTime": {
     "end_time": "2024-04-14T15:31:13.851033Z",
     "start_time": "2024-04-14T15:31:06.622406Z"
    }
   },
   "cell_type": "code",
   "source": "df.to_sql('parts_clamps', conn, schema='production', if_exists='replace', index=False)",
   "id": "88dc80a7ed2da506",
   "outputs": [
    {
     "data": {
      "text/plain": [
       "169"
      ]
     },
     "execution_count": 44,
     "metadata": {},
     "output_type": "execute_result"
    }
   ],
   "execution_count": 44
  },
  {
   "metadata": {},
   "cell_type": "code",
   "outputs": [],
   "execution_count": null,
   "source": "",
   "id": "782096b3be822f27"
  }
 ],
 "metadata": {
  "kernelspec": {
   "display_name": "Python 3",
   "language": "python",
   "name": "python3"
  },
  "language_info": {
   "codemirror_mode": {
    "name": "ipython",
    "version": 2
   },
   "file_extension": ".py",
   "mimetype": "text/x-python",
   "name": "python",
   "nbconvert_exporter": "python",
   "pygments_lexer": "ipython2",
   "version": "2.7.6"
  }
 },
 "nbformat": 4,
 "nbformat_minor": 5
}
