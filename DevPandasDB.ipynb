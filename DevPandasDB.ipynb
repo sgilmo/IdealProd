{
 "cells": [
  {
   "metadata": {},
   "cell_type": "markdown",
   "source": "#### Bring in Required Libraries",
   "id": "14b480b2def0dee0"
  },
  {
   "cell_type": "code",
   "id": "initial_id",
   "metadata": {
    "collapsed": true,
    "ExecuteTime": {
     "end_time": "2024-05-01T14:45:49.700597Z",
     "start_time": "2024-05-01T14:45:47.558715Z"
    }
   },
   "source": [
    "import pandas as pd\n",
    "import pyodbc\n",
    "import sqlalchemy.types\n",
    "from icecream import ic\n",
    "from sqlalchemy import create_engine\n",
    "from urllib import parse\n",
    "from timeit import default_timer as timer"
   ],
   "outputs": [],
   "execution_count": 1
  },
  {
   "metadata": {
    "ExecuteTime": {
     "end_time": "2024-04-19T17:36:35.280584Z",
     "start_time": "2024-04-19T17:36:25.160592Z"
    }
   },
   "cell_type": "code",
   "source": [
    "# ODBC Connection for FileMaker\n",
    "start = timer()\n",
    "cnxn = pyodbc.connect('DSN=FM Clamp ODBC;UID=FMODBC;PWD=FMODBC')\n",
    "cnxn.timeout = 60\n",
    "cursor_fm = cnxn.cursor()\n",
    "print(\"FileMaker Connect Time = \" + str(round((timer() - start), 3)) + \" sec\")"
   ],
   "id": "d2549a87bb29b5a6",
   "outputs": [
    {
     "name": "stdout",
     "output_type": "stream",
     "text": [
      "FileMaker Connect Time = 10.11 sec\n"
     ]
    }
   ],
   "execution_count": 2
  },
  {
   "metadata": {
    "ExecuteTime": {
     "end_time": "2024-05-01T14:45:59.392411Z",
     "start_time": "2024-05-01T14:45:59.223862Z"
    }
   },
   "cell_type": "code",
   "source": [
    "# SQLAlchemy connection for SQL Server\n",
    "server = 'tn-sql'\n",
    "database = 'autodata'\n",
    "driver = 'ODBC+Driver+17+for+SQL+Server'\n",
    "user = 'production'\n",
    "pwd = parse.quote_plus(\"Auto@matics\")\n",
    "port = '1433'\n",
    "database_conn = f'mssql+pyodbc://{user}:{pwd}@{server}:{port}/{database}?driver={driver}'\n",
    "# Make Connection\n",
    "engine = create_engine(database_conn)\n",
    "# conn = engine.raw_connection()\n",
    "conn_sql = engine.connect()"
   ],
   "id": "d87f6a3e8558a92f",
   "outputs": [],
   "execution_count": 2
  },
  {
   "metadata": {
    "ExecuteTime": {
     "end_time": "2024-05-01T14:46:04.786120Z",
     "start_time": "2024-05-01T14:46:04.314383Z"
    }
   },
   "cell_type": "code",
   "source": [
    "# ODBC Connection for AS400\n",
    "CONNAS400 = \"\"\"\n",
    "Driver={iSeries Access ODBC Driver};\n",
    "system=10.143.12.10;\n",
    "Server=AS400;\n",
    "Database=PROD;\n",
    "UID=SMY;\n",
    "PWD=SMY;\n",
    "\"\"\"\n",
    "dbcnxn = pyodbc.connect(CONNAS400)\n",
    "cursor_as400 = dbcnxn.cursor()"
   ],
   "id": "fabe00e77fc36e7a",
   "outputs": [],
   "execution_count": 3
  },
  {
   "metadata": {
    "ExecuteTime": {
     "end_time": "2024-05-01T14:46:26.193510Z",
     "start_time": "2024-05-01T14:46:26.186528Z"
    }
   },
   "cell_type": "code",
   "source": [
    "sql_spares = \"\"\"\n",
    "    SELECT PROD.FPSPRMAST1.SPH_PART,\n",
    "        STRIP(PROD.FPSPRMAST1.SPH_ENGPRT),\n",
    "        STRIP(PROD.FPSPRMAST1.SPH_DESC1),\n",
    "        STRIP(PROD.FPSPRMAST1.SPH_DESC2),\n",
    "        STRIP(PROD.FPSPRMAST1.SPH_MFG),\n",
    "        STRIP(PROD.FPSPRMAST1.SPH_MFGPRT),\n",
    "        STRIP(PROD.FPSPRMAST2.SPD_CABINT),\n",
    "        STRIP(PROD.FPSPRMAST2.SPD_DRAWER),\n",
    "        PROD.FPSPRMAST2.SPD_QOHCUR,\n",
    "        PROD.FPSPRMAST1.SPH_CURSTD,\n",
    "        STRIP(PROD.FPSPRMAST2.SPD_REODTE),\n",
    "        STRIP(PROD.FPSPRMAST2.SPD_USECC),\n",
    "        STRIP(PROD.FPSPRMAST2.SPD_PURCC),\n",
    "        STRIP(PROD.FPSPRMAST2.SPD_QREORD)\n",
    "    FROM PROD.FPSPRMAST1 INNER JOIN PROD.FPSPRMAST2 ON PROD.FPSPRMAST1.SPH_PART = PROD.FPSPRMAST2.SPD_PART\n",
    "    WHERE (((PROD.FPSPRMAST2.SPD_FACIL)=9))\n",
    "\"\"\""
   ],
   "id": "463fdeef3e52f9e3",
   "outputs": [],
   "execution_count": 4
  },
  {
   "metadata": {
    "ExecuteTime": {
     "end_time": "2024-04-19T17:37:08.878041Z",
     "start_time": "2024-04-19T17:37:08.871522Z"
    }
   },
   "cell_type": "code",
   "source": [
    "sql_parts = \"\"\"\n",
    "    SELECT Ourpart,\"Band A Part Number\", \"Housing A Part Number\",\n",
    "        \"Screw Part Number\" AS Screw, \"Band Feed from Band data\",\n",
    "        \"Ship Diam Max\", \"Ship Diam Min\", \"Hex Size\", \"Band_Thickness\", \"Band_Width\",\n",
    "        \"CameraInspectionRequired\", \"ScrDrvChk\"\n",
    "    FROM tbl8Tridon\n",
    "\"\"\""
   ],
   "id": "ffcd270f257cf803",
   "outputs": [],
   "execution_count": 6
  },
  {
   "metadata": {
    "ExecuteTime": {
     "end_time": "2024-04-19T17:37:09.613517Z",
     "start_time": "2024-04-19T17:37:09.606538Z"
    }
   },
   "cell_type": "code",
   "source": [
    "sql_bands = \"\"\"\n",
    "    SELECT \"Band Part Number\", \"Feed Length\",\"CutoutA Tool Number\",\"CutoutB Tool Number\",\"CutoutC Tool Number\",\n",
    "        \"Dim A\", \"Dim B\",\"Dim C\", \"Process\", \"Description\"\n",
    "    FROM BANDS\n",
    "\"\"\""
   ],
   "id": "43d89d967dfc403",
   "outputs": [],
   "execution_count": 7
  },
  {
   "metadata": {},
   "cell_type": "markdown",
   "source": "### Execute Query on AS400",
   "id": "c5f805a996fba550"
  },
  {
   "metadata": {
    "ExecuteTime": {
     "end_time": "2024-05-01T14:46:43.397502Z",
     "start_time": "2024-05-01T14:46:40.679835Z"
    }
   },
   "cell_type": "code",
   "source": [
    "start = timer()\n",
    "cursor_as400.execute(sql_spares)\n",
    "result_spares = cursor_as400.fetchall()\n",
    "print(\"AS400 Connect/Query Time = \" + str(round((timer() - start), 3)) + \" sec\")"
   ],
   "id": "b86275319e44e66f",
   "outputs": [
    {
     "name": "stdout",
     "output_type": "stream",
     "text": [
      "AS400 Connect/Query Time = 2.71 sec\n"
     ]
    }
   ],
   "execution_count": 5
  },
  {
   "metadata": {},
   "cell_type": "markdown",
   "source": "#### Execute Query on SQL Server",
   "id": "cb8af78dbf4c51d1"
  },
  {
   "metadata": {
    "ExecuteTime": {
     "end_time": "2024-04-16T18:55:40.115175Z",
     "start_time": "2024-04-16T18:55:37.030857Z"
    }
   },
   "cell_type": "code",
   "source": [
    "# Clamp Data\n",
    "start = timer()\n",
    "cursor_fm.execute(sql_parts)\n",
    "result_clamp = cursor_fm.fetchall()\n",
    "print(\"FileMaker Clamp Query Time = \" + str(round((timer() - start), 3)) + \" sec\")"
   ],
   "id": "6fa86ad7732db5df",
   "outputs": [
    {
     "name": "stdout",
     "output_type": "stream",
     "text": [
      "FileMaker Clamp Query Time = 3.078 sec\n"
     ]
    }
   ],
   "execution_count": 97
  },
  {
   "metadata": {
    "ExecuteTime": {
     "end_time": "2024-04-19T17:38:06.735819Z",
     "start_time": "2024-04-19T17:37:54.673315Z"
    }
   },
   "cell_type": "code",
   "source": [
    "# Band Data\n",
    "start = timer()\n",
    "cursor_fm.execute(sql_bands)\n",
    "result_band = cursor_fm.fetchall()\n",
    "print(\"FileMaker Band Query Time = \" + str(round((timer() - start), 3)) + \" sec\")"
   ],
   "id": "f8eb63ae4cc3f6ac",
   "outputs": [
    {
     "name": "stdout",
     "output_type": "stream",
     "text": [
      "FileMaker Band Query Time = 12.055 sec\n"
     ]
    }
   ],
   "execution_count": 8
  },
  {
   "metadata": {},
   "cell_type": "markdown",
   "source": "#### Build Dataframe for Spare Parts",
   "id": "657e21de6fc675cb"
  },
  {
   "metadata": {
    "ExecuteTime": {
     "end_time": "2024-05-01T19:13:55.782501Z",
     "start_time": "2024-05-01T19:13:55.520212Z"
    }
   },
   "cell_type": "code",
   "source": [
    "data_type_dict = {'StandardCost' : float, 'OnHand' : int, 'PartNum' : str, 'ReOrderPt' : int, 'ReOrderDate' : int}\n",
    "df_spares = pd.DataFrame.from_records(result_spares)\n",
    "df_spares.columns = ['PartNum', 'EngPartNum', 'Desc1', 'Desc2', 'Mfg', 'MfgPn', 'Cabinet', 'Drawer', 'OnHand', 'StandardCost','ReOrderDate', 'DeptUse', 'DeptPurch', 'ReOrderPt']\n",
    "df_spares = df_spares.dropna()\n",
    "df_spares = df_spares.astype(data_type_dict)\n",
    "df_spares = df_spares.convert_dtypes()\n",
    "\n",
    "df_obs = df_spares[df_spares.Cabinet.str.contains('OBS')]\n",
    "df_obs_yest = pd.read_csv('c:\\\\temp\\yesterday_obs.csv',header=None, sep='\\t')\n",
    "df_obs_yest.reset_index(drop=True, inplace=True)\n",
    "df_obs.reset_index(drop=True, inplace=True)\n",
    "df_obs_yest = df_obs_yest.fillna(\"\")\n",
    "\n",
    "df_obs_yest.columns = df_spares.columns\n",
    "df_obs_yest = df_obs_yest.astype(data_type_dict)\n",
    "df_obs_yest = df_obs_yest.convert_dtypes()\n",
    "\n",
    "if not df_obs['PartNum'].equals(df_obs_yest['PartNum']):\n",
    "    df_diff = pd.concat([df_obs, df_obs_yest]).drop_duplicates(keep=False)\n",
    "    df_obs.to_csv('c:\\\\temp\\yesterday_obs.csv', header=False, index=False, sep='\\t')\n",
    "    i = 0\n",
    "    item_list = []\n",
    "    for index, row in df_diff.iterrows():\n",
    "        #print(row['PartNum'], row['EngPartNum'], row['Desc1'])\n",
    "        item_list.append('<h5>Item ' + str(i) + '</h5>'\n",
    "                             + '<p style=\"margin-left: 40px\">'\n",
    "                             + 'Part Number: ' + row['PartNum']\n",
    "                             + '<br>Eng Part Number: <strong>' + row['EngPartNum'] + '</strong>'\n",
    "                             + '<br>Description 1: ' + row['Desc1']\n",
    "                             + '<br>Description 2: ' + row['Desc2']\n",
    "                             + '<br>Manufacturer: ' + row['Mfg']\n",
    "                             + '<br>Manufacturer Pn: <strong>' + row['MfgPn'] + '</strong>'\n",
    "                             + '<br>Dept Use: ' + row['DeptUse']\n",
    "                             + '<br>Dept Purch: ' + row['DeptPurch']\n",
    "                             + '</p><br>')\n",
    "        i += 1\n",
    "    for item in item_list:\n",
    "        print(item)  \n"
   ],
   "id": "d1c1f685a2bd630d",
   "outputs": [
    {
     "name": "stdout",
     "output_type": "stream",
     "text": [
      "<h5>Item 0</h5><p style=\"margin-left: 40px\">Part Number: 1021446<br>Eng Part Number: <strong>091021446</strong><br>Description 1: PUNCH SUPPORT<br>Description 2: OBS ECR 14755<br>Manufacturer: <br>Manufacturer Pn: <strong></strong><br>Dept Use: 0750<br>Dept Purch: 0750</p><br>\n",
      "<h5>Item 1</h5><p style=\"margin-left: 40px\">Part Number: 1021447<br>Eng Part Number: <strong>091021447</strong><br>Description 1: OBS ECR 14755<br>Description 2: ****<br>Manufacturer: <br>Manufacturer Pn: <strong></strong><br>Dept Use: 0750<br>Dept Purch: 0750</p><br>\n",
      "<h5>Item 2</h5><p style=\"margin-left: 40px\">Part Number: 1021449<br>Eng Part Number: <strong>091021449</strong><br>Description 1: FINGER-<br>Description 2: ****<br>Manufacturer: <br>Manufacturer Pn: <strong></strong><br>Dept Use: 0750<br>Dept Purch: 0750</p><br>\n",
      "<h5>Item 3</h5><p style=\"margin-left: 40px\">Part Number: 1021450<br>Eng Part Number: <strong>091021450</strong><br>Description 1: FINGER<br>Description 2: <br>Manufacturer: <br>Manufacturer Pn: <strong></strong><br>Dept Use: 0750<br>Dept Purch: 0750</p><br>\n",
      "<h5>Item 4</h5><p style=\"margin-left: 40px\">Part Number: 1021451<br>Eng Part Number: <strong>091021451</strong><br>Description 1: SPACER<br>Description 2: <br>Manufacturer: <br>Manufacturer Pn: <strong></strong><br>Dept Use: 0750<br>Dept Purch: 0750</p><br>\n",
      "<h5>Item 5</h5><p style=\"margin-left: 40px\">Part Number: 1021452<br>Eng Part Number: <strong>091021452</strong><br>Description 1: TIP INSERT<br>Description 2: <br>Manufacturer: <br>Manufacturer Pn: <strong></strong><br>Dept Use: 0750<br>Dept Purch: 0750</p><br>\n"
     ]
    }
   ],
   "execution_count": 92
  },
  {
   "metadata": {},
   "cell_type": "markdown",
   "source": "#### Build Dataframe for Clamp Data",
   "id": "5871b385cf53d176"
  },
  {
   "metadata": {
    "ExecuteTime": {
     "end_time": "2024-04-18T12:59:30.586993Z",
     "start_time": "2024-04-18T12:59:30.287752Z"
    }
   },
   "cell_type": "code",
   "source": [
    "df_clamps = pd.DataFrame.from_records(result_clamp)\n",
    "# Set Column Names\n",
    "df_clamps.columns = ['PartNumber', 'Band', 'Housing', 'Screw', 'Feed', 'DiaMax', 'DiaMin', 'HexSz', 'BandThickness','BandWidth', 'CamInspect', 'ScrDrvChk']\n",
    "# Set Data Types\n",
    "data_type_dict = {'PartNumber' : str, 'Band' : str,'Housing' : str,'Screw' : str, 'Feed' : float, 'DiaMax' : float,'DiaMin' : float,'HexSz' : str,'BandThickness' : float, 'BandWidth' : float,'CamInspect' : str,'ScrDrvChk' : str}\n",
    "\n",
    "# Due Some Filtering and Data Cleansing\n",
    "df_clamps = df_clamps[df_clamps.Feed != 'N/A']\n",
    "df_clamps = df_clamps[1:]\n",
    "df_clamps = df_clamps.astype(data_type_dict)\n",
    "df_clamps['CamInspect'] = df_clamps['CamInspect'].str.upper()\n",
    "df_clamps['ScrDrvChk'] = df_clamps['ScrDrvChk'].str.upper()\n",
    "df_clamps['Feed'] = df_clamps['Feed'].round(3)\n",
    "df_clamps['BandWidth'] = df_clamps['BandWidth'].round(3)\n",
    "df_clamps['BandThickness'] = df_clamps['BandThickness'].round(3)\n",
    "df_clamps.fillna({'DiaMax' : 0.0}, inplace=True)\n",
    "df_clamps.fillna({'DiaMin' : 0.0}, inplace=True)\n",
    "df_clamps['DiaMax'] = df_clamps['DiaMax'].round(3)\n",
    "df_clamps['DiaMin'] = df_clamps['DiaMin'].round(3)\n",
    "df_clamps = df_clamps.dropna()\n",
    "df_clamps = df_clamps.convert_dtypes()\n",
    "df_clamps.sample(20)\n",
    "\n"
   ],
   "id": "88c3447b61048114",
   "outputs": [
    {
     "data": {
      "text/plain": [
       "         PartNumber          Band  Housing       Screw    Feed  DiaMax  \\\n",
       "146      M631096717       2345096  2351032     1278001   21.39     0.0   \n",
       "3674        5F10599       2105103  1151002   1278001MC   22.89     0.0   \n",
       "3509        6713552       2752013  2351044     1318001    5.27     0.0   \n",
       "8301   670190012055       2147012  2157003     2330001    4.88     0.0   \n",
       "2426     M500344106       1208344  1209005     2374002    70.4     0.0   \n",
       "3417        6756152       2366056  2367017     1073003   13.54     0.0   \n",
       "10924       SMCP24S  SMCP24S-BAND     CP58        None  45.278   6.125   \n",
       "5325   531300070052       4381070  4456001  4452001052   10.12    2.84   \n",
       "945       620040500       2366040  2367024     1318001   10.37     0.0   \n",
       "7494     M222090175       7C09000  1151002   1278001MC   20.48    5.75   \n",
       "3712        5032052       2314032  1063004     1213002    8.81     0.0   \n",
       "11207  671610042004       4508042  2360007   4073014MC    10.8    3.06   \n",
       "7503        6218D01       7241100  2360014     1278001   10.38     0.0   \n",
       "3454   670040036052       2345036  2351045     1278001    9.59     0.0   \n",
       "9183         JS307D       2341307    JS58D        None  20.128   2.125   \n",
       "9850       M6348199       2306048  1019034     1278001    11.9     0.0   \n",
       "4176        5216952       2366016  2350012     1213002    5.66     0.0   \n",
       "8818   370170040M52      2634040M  2360013   1300014MC   10.37    2.76   \n",
       "8302   670190016055       2147016  2157003     2330001    6.05     0.0   \n",
       "7274   573150020099       4904020  4906003     4502001   3.959    0.87   \n",
       "\n",
       "       DiaMin  HexSz  BandThickness  BandWidth CamInspect ScrDrvChk  \n",
       "146       0.0  5/16\"          0.022        0.5         NO        NO  \n",
       "3674      0.0  5/16\"          0.028      0.562         NO        NO  \n",
       "3509      0.0  5/16\"          0.022        0.5         NO        NO  \n",
       "8301      0.0   None          0.024        0.5         NO        NO  \n",
       "2426      0.0  5/16\"          0.022        0.5         NO        NO  \n",
       "3417      0.0  5/16\"          0.022        0.5         NO        NO  \n",
       "10924    6.06   None          0.025      0.625         NO        NO  \n",
       "5325     2.76   7 mm          0.024      0.356         NO        NO  \n",
       "945       0.0  5/16\"          0.022        0.5         NO        NO  \n",
       "7494     5.67  5/16\"          0.028      0.562         NO        NO  \n",
       "3712      0.0  5/16\"          0.022      0.562         NO        NO  \n",
       "11207    2.98  5/16\"          0.024        0.5         NO        NO  \n",
       "7503      0.0  5/16\"          0.023        0.5         NO        NO  \n",
       "3454      0.0  5/16\"          0.022        0.5         NO        NO  \n",
       "9183     2.06   None          0.026      0.625         NO        NO  \n",
       "9850      0.0   None          0.022      0.562         NO        NO  \n",
       "4176      0.0  5/16\"          0.022        0.5         NO        NO  \n",
       "8818     2.64   7 mm          0.025        0.5        YES        NO  \n",
       "8302      0.0   None          0.024        0.5         NO        NO  \n",
       "7274     0.79   7 mm          0.024      0.356         NO        NO  "
      ],
      "text/html": [
       "<div>\n",
       "<style scoped>\n",
       "    .dataframe tbody tr th:only-of-type {\n",
       "        vertical-align: middle;\n",
       "    }\n",
       "\n",
       "    .dataframe tbody tr th {\n",
       "        vertical-align: top;\n",
       "    }\n",
       "\n",
       "    .dataframe thead th {\n",
       "        text-align: right;\n",
       "    }\n",
       "</style>\n",
       "<table border=\"1\" class=\"dataframe\">\n",
       "  <thead>\n",
       "    <tr style=\"text-align: right;\">\n",
       "      <th></th>\n",
       "      <th>PartNumber</th>\n",
       "      <th>Band</th>\n",
       "      <th>Housing</th>\n",
       "      <th>Screw</th>\n",
       "      <th>Feed</th>\n",
       "      <th>DiaMax</th>\n",
       "      <th>DiaMin</th>\n",
       "      <th>HexSz</th>\n",
       "      <th>BandThickness</th>\n",
       "      <th>BandWidth</th>\n",
       "      <th>CamInspect</th>\n",
       "      <th>ScrDrvChk</th>\n",
       "    </tr>\n",
       "  </thead>\n",
       "  <tbody>\n",
       "    <tr>\n",
       "      <th>146</th>\n",
       "      <td>M631096717</td>\n",
       "      <td>2345096</td>\n",
       "      <td>2351032</td>\n",
       "      <td>1278001</td>\n",
       "      <td>21.39</td>\n",
       "      <td>0.0</td>\n",
       "      <td>0.0</td>\n",
       "      <td>5/16\"</td>\n",
       "      <td>0.022</td>\n",
       "      <td>0.5</td>\n",
       "      <td>NO</td>\n",
       "      <td>NO</td>\n",
       "    </tr>\n",
       "    <tr>\n",
       "      <th>3674</th>\n",
       "      <td>5F10599</td>\n",
       "      <td>2105103</td>\n",
       "      <td>1151002</td>\n",
       "      <td>1278001MC</td>\n",
       "      <td>22.89</td>\n",
       "      <td>0.0</td>\n",
       "      <td>0.0</td>\n",
       "      <td>5/16\"</td>\n",
       "      <td>0.028</td>\n",
       "      <td>0.562</td>\n",
       "      <td>NO</td>\n",
       "      <td>NO</td>\n",
       "    </tr>\n",
       "    <tr>\n",
       "      <th>3509</th>\n",
       "      <td>6713552</td>\n",
       "      <td>2752013</td>\n",
       "      <td>2351044</td>\n",
       "      <td>1318001</td>\n",
       "      <td>5.27</td>\n",
       "      <td>0.0</td>\n",
       "      <td>0.0</td>\n",
       "      <td>5/16\"</td>\n",
       "      <td>0.022</td>\n",
       "      <td>0.5</td>\n",
       "      <td>NO</td>\n",
       "      <td>NO</td>\n",
       "    </tr>\n",
       "    <tr>\n",
       "      <th>8301</th>\n",
       "      <td>670190012055</td>\n",
       "      <td>2147012</td>\n",
       "      <td>2157003</td>\n",
       "      <td>2330001</td>\n",
       "      <td>4.88</td>\n",
       "      <td>0.0</td>\n",
       "      <td>0.0</td>\n",
       "      <td>None</td>\n",
       "      <td>0.024</td>\n",
       "      <td>0.5</td>\n",
       "      <td>NO</td>\n",
       "      <td>NO</td>\n",
       "    </tr>\n",
       "    <tr>\n",
       "      <th>2426</th>\n",
       "      <td>M500344106</td>\n",
       "      <td>1208344</td>\n",
       "      <td>1209005</td>\n",
       "      <td>2374002</td>\n",
       "      <td>70.4</td>\n",
       "      <td>0.0</td>\n",
       "      <td>0.0</td>\n",
       "      <td>5/16\"</td>\n",
       "      <td>0.022</td>\n",
       "      <td>0.5</td>\n",
       "      <td>NO</td>\n",
       "      <td>NO</td>\n",
       "    </tr>\n",
       "    <tr>\n",
       "      <th>3417</th>\n",
       "      <td>6756152</td>\n",
       "      <td>2366056</td>\n",
       "      <td>2367017</td>\n",
       "      <td>1073003</td>\n",
       "      <td>13.54</td>\n",
       "      <td>0.0</td>\n",
       "      <td>0.0</td>\n",
       "      <td>5/16\"</td>\n",
       "      <td>0.022</td>\n",
       "      <td>0.5</td>\n",
       "      <td>NO</td>\n",
       "      <td>NO</td>\n",
       "    </tr>\n",
       "    <tr>\n",
       "      <th>10924</th>\n",
       "      <td>SMCP24S</td>\n",
       "      <td>SMCP24S-BAND</td>\n",
       "      <td>CP58</td>\n",
       "      <td>None</td>\n",
       "      <td>45.278</td>\n",
       "      <td>6.125</td>\n",
       "      <td>6.06</td>\n",
       "      <td>None</td>\n",
       "      <td>0.025</td>\n",
       "      <td>0.625</td>\n",
       "      <td>NO</td>\n",
       "      <td>NO</td>\n",
       "    </tr>\n",
       "    <tr>\n",
       "      <th>5325</th>\n",
       "      <td>531300070052</td>\n",
       "      <td>4381070</td>\n",
       "      <td>4456001</td>\n",
       "      <td>4452001052</td>\n",
       "      <td>10.12</td>\n",
       "      <td>2.84</td>\n",
       "      <td>2.76</td>\n",
       "      <td>7 mm</td>\n",
       "      <td>0.024</td>\n",
       "      <td>0.356</td>\n",
       "      <td>NO</td>\n",
       "      <td>NO</td>\n",
       "    </tr>\n",
       "    <tr>\n",
       "      <th>945</th>\n",
       "      <td>620040500</td>\n",
       "      <td>2366040</td>\n",
       "      <td>2367024</td>\n",
       "      <td>1318001</td>\n",
       "      <td>10.37</td>\n",
       "      <td>0.0</td>\n",
       "      <td>0.0</td>\n",
       "      <td>5/16\"</td>\n",
       "      <td>0.022</td>\n",
       "      <td>0.5</td>\n",
       "      <td>NO</td>\n",
       "      <td>NO</td>\n",
       "    </tr>\n",
       "    <tr>\n",
       "      <th>7494</th>\n",
       "      <td>M222090175</td>\n",
       "      <td>7C09000</td>\n",
       "      <td>1151002</td>\n",
       "      <td>1278001MC</td>\n",
       "      <td>20.48</td>\n",
       "      <td>5.75</td>\n",
       "      <td>5.67</td>\n",
       "      <td>5/16\"</td>\n",
       "      <td>0.028</td>\n",
       "      <td>0.562</td>\n",
       "      <td>NO</td>\n",
       "      <td>NO</td>\n",
       "    </tr>\n",
       "    <tr>\n",
       "      <th>3712</th>\n",
       "      <td>5032052</td>\n",
       "      <td>2314032</td>\n",
       "      <td>1063004</td>\n",
       "      <td>1213002</td>\n",
       "      <td>8.81</td>\n",
       "      <td>0.0</td>\n",
       "      <td>0.0</td>\n",
       "      <td>5/16\"</td>\n",
       "      <td>0.022</td>\n",
       "      <td>0.562</td>\n",
       "      <td>NO</td>\n",
       "      <td>NO</td>\n",
       "    </tr>\n",
       "    <tr>\n",
       "      <th>11207</th>\n",
       "      <td>671610042004</td>\n",
       "      <td>4508042</td>\n",
       "      <td>2360007</td>\n",
       "      <td>4073014MC</td>\n",
       "      <td>10.8</td>\n",
       "      <td>3.06</td>\n",
       "      <td>2.98</td>\n",
       "      <td>5/16\"</td>\n",
       "      <td>0.024</td>\n",
       "      <td>0.5</td>\n",
       "      <td>NO</td>\n",
       "      <td>NO</td>\n",
       "    </tr>\n",
       "    <tr>\n",
       "      <th>7503</th>\n",
       "      <td>6218D01</td>\n",
       "      <td>7241100</td>\n",
       "      <td>2360014</td>\n",
       "      <td>1278001</td>\n",
       "      <td>10.38</td>\n",
       "      <td>0.0</td>\n",
       "      <td>0.0</td>\n",
       "      <td>5/16\"</td>\n",
       "      <td>0.023</td>\n",
       "      <td>0.5</td>\n",
       "      <td>NO</td>\n",
       "      <td>NO</td>\n",
       "    </tr>\n",
       "    <tr>\n",
       "      <th>3454</th>\n",
       "      <td>670040036052</td>\n",
       "      <td>2345036</td>\n",
       "      <td>2351045</td>\n",
       "      <td>1278001</td>\n",
       "      <td>9.59</td>\n",
       "      <td>0.0</td>\n",
       "      <td>0.0</td>\n",
       "      <td>5/16\"</td>\n",
       "      <td>0.022</td>\n",
       "      <td>0.5</td>\n",
       "      <td>NO</td>\n",
       "      <td>NO</td>\n",
       "    </tr>\n",
       "    <tr>\n",
       "      <th>9183</th>\n",
       "      <td>JS307D</td>\n",
       "      <td>2341307</td>\n",
       "      <td>JS58D</td>\n",
       "      <td>None</td>\n",
       "      <td>20.128</td>\n",
       "      <td>2.125</td>\n",
       "      <td>2.06</td>\n",
       "      <td>None</td>\n",
       "      <td>0.026</td>\n",
       "      <td>0.625</td>\n",
       "      <td>NO</td>\n",
       "      <td>NO</td>\n",
       "    </tr>\n",
       "    <tr>\n",
       "      <th>9850</th>\n",
       "      <td>M6348199</td>\n",
       "      <td>2306048</td>\n",
       "      <td>1019034</td>\n",
       "      <td>1278001</td>\n",
       "      <td>11.9</td>\n",
       "      <td>0.0</td>\n",
       "      <td>0.0</td>\n",
       "      <td>None</td>\n",
       "      <td>0.022</td>\n",
       "      <td>0.562</td>\n",
       "      <td>NO</td>\n",
       "      <td>NO</td>\n",
       "    </tr>\n",
       "    <tr>\n",
       "      <th>4176</th>\n",
       "      <td>5216952</td>\n",
       "      <td>2366016</td>\n",
       "      <td>2350012</td>\n",
       "      <td>1213002</td>\n",
       "      <td>5.66</td>\n",
       "      <td>0.0</td>\n",
       "      <td>0.0</td>\n",
       "      <td>5/16\"</td>\n",
       "      <td>0.022</td>\n",
       "      <td>0.5</td>\n",
       "      <td>NO</td>\n",
       "      <td>NO</td>\n",
       "    </tr>\n",
       "    <tr>\n",
       "      <th>8818</th>\n",
       "      <td>370170040M52</td>\n",
       "      <td>2634040M</td>\n",
       "      <td>2360013</td>\n",
       "      <td>1300014MC</td>\n",
       "      <td>10.37</td>\n",
       "      <td>2.76</td>\n",
       "      <td>2.64</td>\n",
       "      <td>7 mm</td>\n",
       "      <td>0.025</td>\n",
       "      <td>0.5</td>\n",
       "      <td>YES</td>\n",
       "      <td>NO</td>\n",
       "    </tr>\n",
       "    <tr>\n",
       "      <th>8302</th>\n",
       "      <td>670190016055</td>\n",
       "      <td>2147016</td>\n",
       "      <td>2157003</td>\n",
       "      <td>2330001</td>\n",
       "      <td>6.05</td>\n",
       "      <td>0.0</td>\n",
       "      <td>0.0</td>\n",
       "      <td>None</td>\n",
       "      <td>0.024</td>\n",
       "      <td>0.5</td>\n",
       "      <td>NO</td>\n",
       "      <td>NO</td>\n",
       "    </tr>\n",
       "    <tr>\n",
       "      <th>7274</th>\n",
       "      <td>573150020099</td>\n",
       "      <td>4904020</td>\n",
       "      <td>4906003</td>\n",
       "      <td>4502001</td>\n",
       "      <td>3.959</td>\n",
       "      <td>0.87</td>\n",
       "      <td>0.79</td>\n",
       "      <td>7 mm</td>\n",
       "      <td>0.024</td>\n",
       "      <td>0.356</td>\n",
       "      <td>NO</td>\n",
       "      <td>NO</td>\n",
       "    </tr>\n",
       "  </tbody>\n",
       "</table>\n",
       "</div>"
      ]
     },
     "execution_count": 175,
     "metadata": {},
     "output_type": "execute_result"
    }
   ],
   "execution_count": 175
  },
  {
   "metadata": {},
   "cell_type": "markdown",
   "source": "#### Build Dataframe for Band Data",
   "id": "bbce618c82d07727"
  },
  {
   "metadata": {
    "ExecuteTime": {
     "end_time": "2024-04-19T17:38:26.258800Z",
     "start_time": "2024-04-19T17:38:26.105176Z"
    }
   },
   "cell_type": "code",
   "source": [
    "valid_process = ['IN-LINE SINGLE NOTCH DIE', 'IN-LINE DOUBLE NOTCH DIE', 'IN-LINE BAND STAMPING', 'IN-LINE 105 NOTCH DIE', 'CUT & CURL']\n",
    "df_bands = pd.DataFrame.from_records(result_band)\n",
    "df_bands.columns = ['Band', 'FeedLength', 'CutOutA', 'CutOutB', 'CutOutC', 'DimA', 'DimB', 'DimC', 'Process', 'Description']\n",
    "data_type_dict = {'Band' : str, 'FeedLength' : float,'CutOutA' : str,'CutOutB' : str,'CutOutC' : str,'DimA' : float,'DimB' : float,'DimC' : float,'Process' : str, 'Description' : str}\n",
    "df_bands = df_bands.astype(data_type_dict)\n",
    "df_bands = df_bands.convert_dtypes()\n",
    "\n",
    "# Shape Data Set\n",
    "df_bands = df_bands[1:]\n",
    "df_bands['Band'] = df_bands['Band'].str.upper()\n",
    "df_bands['Process'] = df_bands['Process'].str.upper()\n",
    "df_bands = df_bands[df_bands['Process'].isin(valid_process)]\n",
    "df_bands = df_bands[df_bands['Band'].str.contains('OBS|X|OLD|PSR|CH|NO ACTIVE') == False]\n",
    "df_bands['FeedLength'] = df_bands['FeedLength'].round(3)\n",
    "df_bands.fillna({'CutOutA' : 'NON-MULTI'}, inplace=True)\n",
    "df_bands.fillna({'DimA' : 0.000}, inplace=True)\n",
    "df_bands.fillna({'DimB' : 0.000}, inplace=True)\n",
    "df_bands.fillna({'DimC' : 0.000}, inplace=True)\n",
    "df_bands.drop_duplicates(subset='Band', keep='first', inplace=True)\n",
    "df_bands = df_bands.dropna(subset='Band')\n",
    "\n",
    "#df_bands.query('BandLength < 10.000', inplace=True)\n",
    "\n",
    "df_bands.shape"
   ],
   "id": "511f32afc297b046",
   "outputs": [
    {
     "data": {
      "text/plain": [
       "(7122, 10)"
      ]
     },
     "execution_count": 9,
     "metadata": {},
     "output_type": "execute_result"
    }
   ],
   "execution_count": 9
  },
  {
   "metadata": {},
   "cell_type": "markdown",
   "source": "",
   "id": "3c90961f9577885c"
  },
  {
   "metadata": {},
   "cell_type": "markdown",
   "source": "#### Load Spare Parts to SQL Server Table",
   "id": "504e2c256c8e9d50"
  },
  {
   "metadata": {
    "ExecuteTime": {
     "end_time": "2024-04-17T19:00:33.572373Z",
     "start_time": "2024-04-17T19:00:15.526664Z"
    }
   },
   "cell_type": "code",
   "source": [
    "data_type_dict = {'StandardCost' : sqlalchemy.types.FLOAT, 'OnHand' : sqlalchemy.types.INT,'PartNum' : sqlalchemy.types.VARCHAR(255),'ReOrderPt' : sqlalchemy.types.INT, 'EngPartNum' : sqlalchemy.types.VARCHAR(255), 'Desc1' : sqlalchemy.types.VARCHAR(255),'Desc2' : sqlalchemy.types.VARCHAR(255),'Mfg' : sqlalchemy.types.VARCHAR(255),'MfgPn' : sqlalchemy.types.VARCHAR(255), 'Cabinet' : sqlalchemy.types.VARCHAR(255),'Drawer' : sqlalchemy.types.VARCHAR(255),'ReOrderDate' : sqlalchemy.types.VARCHAR(255),'DeptUse' : sqlalchemy.types.VARCHAR(255),'DeptPurch' : sqlalchemy.types.VARCHAR(255)}\n",
    "\n",
    "df_spares.to_sql('tblSpares', conn_sql, schema='eng', if_exists='replace', index=False, dtype=data_type_dict)"
   ],
   "id": "e4f275efc5a7e3d7",
   "outputs": [
    {
     "data": {
      "text/plain": [
       "28"
      ]
     },
     "execution_count": 165,
     "metadata": {},
     "output_type": "execute_result"
    }
   ],
   "execution_count": 165
  },
  {
   "metadata": {},
   "cell_type": "markdown",
   "source": "#### Load Clamp to SQL Server Table",
   "id": "120284851d2f777"
  },
  {
   "metadata": {
    "ExecuteTime": {
     "end_time": "2024-04-16T18:56:37.369746Z",
     "start_time": "2024-04-16T18:56:30.876427Z"
    }
   },
   "cell_type": "code",
   "source": [
    "data_type_dict = {'PartNumber' : sqlalchemy.types.VARCHAR(255), 'Band' : sqlalchemy.types.VARCHAR(255),'Housing' : sqlalchemy.types.VARCHAR(255),'Screw' : sqlalchemy.types.VARCHAR(255), 'Feed' : sqlalchemy.types.Float, 'DiaMax' : sqlalchemy.types.Float,'DiaMin' : sqlalchemy.types.Float,'HexSz' : sqlalchemy.types.VARCHAR(255),'BandThickness' : sqlalchemy.types.Float, 'BandWidth' : sqlalchemy.types.Float,'CamInspect' : sqlalchemy.types.VARCHAR(255),'ScrDrvChk' : sqlalchemy.types.VARCHAR(255)}\n",
    "\n",
    "df_clamps.to_sql('parts_clamps', conn_sql, schema='production', if_exists='replace', index=False, dtype=data_type_dict)"
   ],
   "id": "88dc80a7ed2da506",
   "outputs": [
    {
     "data": {
      "text/plain": [
       "32"
      ]
     },
     "execution_count": 99,
     "metadata": {},
     "output_type": "execute_result"
    }
   ],
   "execution_count": 99
  },
  {
   "metadata": {},
   "cell_type": "markdown",
   "source": "#### Load Band Data to SQL Server Table",
   "id": "acf060a2afdab743"
  },
  {
   "metadata": {
    "ExecuteTime": {
     "end_time": "2024-04-17T20:09:26.619598Z",
     "start_time": "2024-04-17T20:09:22.938960Z"
    }
   },
   "cell_type": "code",
   "source": [
    "data_type_dict = {'Band' : sqlalchemy.types.VARCHAR(255),'FeedLength' : sqlalchemy.types.FLOAT, 'CutOutA' : sqlalchemy.types.VARCHAR(255), 'CutOutB' : sqlalchemy.types.VARCHAR(255), 'CutOutC' : sqlalchemy.types.VARCHAR(255),'DimA' : sqlalchemy.types.FLOAT,'DimB' : sqlalchemy.types.FLOAT,'DimC' : sqlalchemy.types.FLOAT, 'Process' : sqlalchemy.types.VARCHAR(255), 'Description' : sqlalchemy.types.VARCHAR(255)}\n",
    "\n",
    "df_bands.to_sql('parts_bands', conn_sql, schema='production', if_exists='replace', index=False, dtype=data_type_dict)"
   ],
   "id": "782096b3be822f27",
   "outputs": [
    {
     "data": {
      "text/plain": [
       "16"
      ]
     },
     "execution_count": 172,
     "metadata": {},
     "output_type": "execute_result"
    }
   ],
   "execution_count": 172
  },
  {
   "metadata": {},
   "cell_type": "code",
   "outputs": [],
   "execution_count": null,
   "source": "",
   "id": "fcee3211f7bc396e"
  }
 ],
 "metadata": {
  "kernelspec": {
   "display_name": "Python 3",
   "language": "python",
   "name": "python3"
  },
  "language_info": {
   "codemirror_mode": {
    "name": "ipython",
    "version": 2
   },
   "file_extension": ".py",
   "mimetype": "text/x-python",
   "name": "python",
   "nbconvert_exporter": "python",
   "pygments_lexer": "ipython2",
   "version": "2.7.6"
  }
 },
 "nbformat": 4,
 "nbformat_minor": 5
}
