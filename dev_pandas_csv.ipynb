{
 "cells": [
  {
   "cell_type": "code",
   "id": "initial_id",
   "metadata": {
    "collapsed": true,
    "ExecuteTime": {
     "end_time": "2024-04-18T14:46:29.585199Z",
     "start_time": "2024-04-18T14:46:27.902659Z"
    }
   },
   "source": [
    "import pandas as pd\n",
    "import pyodbc\n",
    "import sqlalchemy.types\n",
    "from icecream import ic\n",
    "from sqlalchemy import create_engine\n",
    "from urllib import parse\n",
    "from timeit import default_timer as timer"
   ],
   "outputs": [],
   "execution_count": 1
  },
  {
   "metadata": {
    "ExecuteTime": {
     "end_time": "2024-04-18T15:01:28.856712Z",
     "start_time": "2024-04-18T15:01:28.832778Z"
    }
   },
   "cell_type": "code",
   "source": [
    "# SQLAlchemy connection for SQL Server\n",
    "server = 'tn-sql'\n",
    "database = 'autodata'\n",
    "driver = 'ODBC+Driver+17+for+SQL+Server'\n",
    "user = 'production'\n",
    "pwd = parse.quote_plus(\"Auto@matics\")\n",
    "port = '1433'\n",
    "database_conn = f'mssql+pyodbc://{user}:{pwd}@{server}:{port}/{database}?driver={driver}'\n",
    "# Make Connection\n",
    "engine = create_engine(database_conn)\n",
    "# conn = engine.raw_connection()\n",
    "conn_sql = engine.connect()"
   ],
   "id": "323e9b498dbf5f00",
   "outputs": [],
   "execution_count": 3
  },
  {
   "metadata": {
    "ExecuteTime": {
     "end_time": "2024-04-18T20:18:30.481948Z",
     "start_time": "2024-04-18T20:18:30.454996Z"
    }
   },
   "cell_type": "code",
   "source": [
    "df_fastlok = pd.read_csv('c:\\FastLok\\FL2874\\parts.csv',header=None)\n",
    "# Set Column Names\n",
    "df_fastlok.columns = ['PartNumber', 'ClampID', 'XferLeft', 'XferRight', 'LgripOpenPos', 'LgripClosedPos1', 'LgripClosePos2', 'RgripOpenPos', 'RgripClosedPos','FeedLength', 'FeedProgFirst', 'FeedTimeFinal', 'CurlPosBent', 'CurlPosSet', 'RotacUp', 'RotacDn', 'SB1', 'SB2', 'SB3', 'QtyBox', 'CamJob', 'LgripUpPos', 'LgripDnPos', 'RgripUpPos', 'RgripDnPos']\n",
    "df_fastlok = df_fastlok.convert_dtypes()\n",
    "df_fastlok.drop_duplicates(subset='PartNumber', keep='first', inplace=True)\n",
    "\n",
    "\n"
   ],
   "id": "7dd2b31d021417e3",
   "outputs": [],
   "execution_count": 27
  },
  {
   "metadata": {
    "ExecuteTime": {
     "end_time": "2024-04-18T20:18:33.534461Z",
     "start_time": "2024-04-18T20:18:33.526010Z"
    }
   },
   "cell_type": "code",
   "source": "df_fastlok.shape\n",
   "id": "28db3eb67d663928",
   "outputs": [
    {
     "data": {
      "text/plain": [
       "(371, 25)"
      ]
     },
     "execution_count": 28,
     "metadata": {},
     "output_type": "execute_result"
    }
   ],
   "execution_count": 28
  },
  {
   "metadata": {
    "ExecuteTime": {
     "end_time": "2024-04-18T20:18:39.208890Z",
     "start_time": "2024-04-18T20:18:38.730166Z"
    }
   },
   "cell_type": "code",
   "source": [
    "data_type_dict = {'PartNumber' : sqlalchemy.types.VARCHAR(255), 'QtyBox' : sqlalchemy.types.INTEGER, 'CamJob' : sqlalchemy.types.INTEGER}\n",
    "\n",
    "df_fastlok.to_sql('tblfl522_setup', conn_sql, schema='eng', if_exists='replace', index=False, dtype=data_type_dict)"
   ],
   "id": "2eadc2da474b2585",
   "outputs": [
    {
     "data": {
      "text/plain": [
       "39"
      ]
     },
     "execution_count": 29,
     "metadata": {},
     "output_type": "execute_result"
    }
   ],
   "execution_count": 29
  },
  {
   "metadata": {},
   "cell_type": "code",
   "outputs": [],
   "execution_count": null,
   "source": "",
   "id": "66763b64889e04fb"
  }
 ],
 "metadata": {
  "kernelspec": {
   "display_name": "Python 3",
   "language": "python",
   "name": "python3"
  },
  "language_info": {
   "codemirror_mode": {
    "name": "ipython",
    "version": 2
   },
   "file_extension": ".py",
   "mimetype": "text/x-python",
   "name": "python",
   "nbconvert_exporter": "python",
   "pygments_lexer": "ipython2",
   "version": "2.7.6"
  }
 },
 "nbformat": 4,
 "nbformat_minor": 5
}
