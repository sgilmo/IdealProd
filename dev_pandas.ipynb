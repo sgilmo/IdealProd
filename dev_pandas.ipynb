{
 "cells": [
  {
   "cell_type": "code",
   "id": "initial_id",
   "metadata": {
    "collapsed": true,
    "ExecuteTime": {
     "end_time": "2024-04-12T18:07:48.322156Z",
     "start_time": "2024-04-12T18:07:37.493436Z"
    }
   },
   "source": [
    "import pandas as pd\n",
    "from sqlalchemy import create_engine\n",
    "from urllib import parse\n",
    "import pyodbc\n",
    "\n",
    "# Define Database Connection\n",
    "\n",
    "# Filemaker Connection\n",
    "cnxn = pyodbc.connect('DSN=FM Clamp ODBC;UID=FMODBC;PWD=FMODBC')\n",
    "cnxn.timeout = 60\n",
    "cursor = cnxn.cursor()\n",
    "\n",
    "# SQLAlchemy connection SQL Server\n",
    "server = 'tn-sql'\n",
    "database = 'autodata'\n",
    "driver = 'ODBC+Driver+17+for+SQL+Server'\n",
    "user = 'production'\n",
    "pwd = parse.quote_plus(\"Auto@matics\")\n",
    "port = '1433'\n",
    "database_conn = f'mssql+pyodbc://{user}:{pwd}@{server}:{port}/{database}?driver={driver}'\n",
    "# Make Connection\n",
    "engine = create_engine(database_conn)\n",
    "# conn = engine.raw_connection()\n",
    "conn = engine.connect()\n"
   ],
   "outputs": [],
   "execution_count": 1
  },
  {
   "metadata": {
    "ExecuteTime": {
     "end_time": "2024-04-12T14:34:38.474470Z",
     "start_time": "2024-04-12T14:34:36.126734Z"
    }
   },
   "cell_type": "code",
   "source": [
    "import pandas as pd\n",
    "from sqlalchemy import create_engine\n",
    "from urllib import parse"
   ],
   "id": "986808bd98c1915b",
   "outputs": [],
   "execution_count": 1
  },
  {
   "cell_type": "code",
   "source": [
    "name = 'ADC Price List with Categories '\n",
    "url = 'https://cdn.automationdirect.com/static/prices/prices_public.xlsx'\n",
    "print('Fetching Data File From Automation Direct Web Site')\n",
    "df = pd.read_excel(url, sheet_name=name, usecols=[0, 2, 3])\n",
    "df_dropped = df.dropna()\n",
    "df_reset = df_dropped.reset_index(drop=True)\n",
    "df_reset.columns = ['part', 'status', 'price']\n",
    "df_final = df_reset[1:]\n",
    "print(df_final)"
   ],
   "metadata": {
    "collapsed": false,
    "ExecuteTime": {
     "end_time": "2024-04-12T14:58:33.384234Z",
     "start_time": "2024-04-12T14:58:21.427816Z"
    }
   },
   "id": "31eebd3a282867dd",
   "outputs": [
    {
     "name": "stdout",
     "output_type": "stream",
     "text": [
      "Fetching Data File From Automation Direct Web Site\n",
      "                part                              status price\n",
      "1           C2-03CPU                               Stock   205\n",
      "2         C2-03CPU-2                               Stock   255\n",
      "3           C2-02CPU                               Stock   151\n",
      "4         C2-02CPU-2                               Stock   193\n",
      "5           C2-01CPU                               Stock    97\n",
      "...              ...                                 ...   ...\n",
      "39286   ZP-S1-XMP-AD                               Stock     4\n",
      "39287        NP4024G   from vendor up to 7 business days   100\n",
      "39288  WA242408GSCSS   from vendor up to 5 business days   707\n",
      "39289      WA24NTMA3  from vendor up to 10 business days    56\n",
      "39290          WA48T  from vendor up to 10 business days    29\n",
      "\n",
      "[39290 rows x 3 columns]\n"
     ]
    }
   ],
   "execution_count": 5
  },
  {
   "cell_type": "code",
   "execution_count": 47,
   "outputs": [
    {
     "data": {
      "text/plain": "138"
     },
     "execution_count": 47,
     "metadata": {},
     "output_type": "execute_result"
    }
   ],
   "source": [
    "df_final.to_sql('Adirect', conn, schema='production', if_exists='replace', index = False)"
   ],
   "metadata": {
    "collapsed": false,
    "ExecuteTime": {
     "end_time": "2024-04-04T18:23:24.472091Z",
     "start_time": "2024-04-04T18:23:22.669903900Z"
    }
   },
   "id": "fb9337720dccb063"
  },
  {
   "cell_type": "code",
   "source": [
    "sql = \"\"\"\n",
    "SELECT Ourpart,\"Band A Part Number\", \"Housing A Part Number\",\n",
    "       \"Screw Part Number\", \"Band Feed from Band data\",\n",
    "       \"Ship Diam Max QA Alternate\", \"Ship Diam Min\", \"Hex Size\", \"Band_Thickness\", \"Band_Width\", \n",
    "       \"CameraInspectionRequired\", \"ScrDrvChk\"\n",
    "FROM tbl8Tridon\n",
    "\"\"\"\n",
    "cursor.execute(sql)\n",
    "result = cursor.fetchall()\n",
    "#print(result)\n",
    "db=[]\n",
    "for row in result:\n",
    "   db.append(row)\n",
    "\n",
    "df = pd.DataFrame(result)\n",
    "#df.head(10)\n",
    "df = df[1:]\n",
    "#df.columns = [\"Part\", \"Band\", \"Hsg\", \"Scr\", \"Feed\", \"ShipDiaMax\", \"ShipDiaMin\", \"HexSz\", \"Thick\", \"Width\", \"Cam\", \"ScrDrvChk\"]\n",
    "df_dropped = df.dropna()\n",
    "df_reset = df_dropped.reset_index(drop=True)\n",
    "df_reset.head(10)\n",
    "#df.to_sql('parts_fm_pd', conn, schema='production', if_exists='replace', index = False)\n",
    "            "
   ],
   "metadata": {
    "collapsed": false,
    "ExecuteTime": {
     "end_time": "2024-04-12T18:19:28.385227Z",
     "start_time": "2024-04-12T18:19:24.254969Z"
    }
   },
   "id": "f585540a851b0907",
   "outputs": [
    {
     "ename": "TypeError",
     "evalue": "unsupported operand type(s) for +: 'NoneType' and 'str'",
     "output_type": "error",
     "traceback": [
      "\u001B[1;31m---------------------------------------------------------------------------\u001B[0m",
      "\u001B[1;31mTypeError\u001B[0m                                 Traceback (most recent call last)",
      "Cell \u001B[1;32mIn[7], line 13\u001B[0m\n\u001B[0;32m     11\u001B[0m db\u001B[38;5;241m=\u001B[39m[]\n\u001B[0;32m     12\u001B[0m \u001B[38;5;28;01mfor\u001B[39;00m row \u001B[38;5;129;01min\u001B[39;00m result:\n\u001B[1;32m---> 13\u001B[0m    \u001B[43mdb\u001B[49m\u001B[38;5;241;43m.\u001B[39;49m\u001B[43mappend\u001B[49m\u001B[43m(\u001B[49m\u001B[43mrow\u001B[49m\u001B[43m)\u001B[49m\u001B[43m \u001B[49m\u001B[38;5;241;43m+\u001B[39;49m\u001B[43m \u001B[49m\u001B[38;5;124;43m\"\u001B[39;49m\u001B[38;5;124;43m,\u001B[39;49m\u001B[38;5;124;43m\"\u001B[39;49m\n\u001B[0;32m     15\u001B[0m df \u001B[38;5;241m=\u001B[39m pd\u001B[38;5;241m.\u001B[39mDataFrame(db)\n\u001B[0;32m     16\u001B[0m \u001B[38;5;66;03m#df.head(10)\u001B[39;00m\n",
      "\u001B[1;31mTypeError\u001B[0m: unsupported operand type(s) for +: 'NoneType' and 'str'"
     ]
    }
   ],
   "execution_count": 7
  },
  {
   "cell_type": "code",
   "execution_count": null,
   "outputs": [],
   "source": [],
   "metadata": {
    "collapsed": false
   },
   "id": "7f455f69dd44eeff"
  }
 ],
 "metadata": {
  "kernelspec": {
   "display_name": "Python 3",
   "language": "python",
   "name": "python3"
  },
  "language_info": {
   "codemirror_mode": {
    "name": "ipython",
    "version": 2
   },
   "file_extension": ".py",
   "mimetype": "text/x-python",
   "name": "python",
   "nbconvert_exporter": "python",
   "pygments_lexer": "ipython2",
   "version": "2.7.6"
  }
 },
 "nbformat": 4,
 "nbformat_minor": 5
}
