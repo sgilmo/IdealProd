{
 "cells": [
  {
   "cell_type": "code",
   "execution_count": null,
   "id": "initial_id",
   "metadata": {
    "collapsed": true
   },
   "outputs": [],
   "source": []
  },
  {
   "cell_type": "code",
   "source": [
    "from sqlalchemy import create_engine, text\n",
    "from urllib import parse\n",
    "import pyodbc\n",
    "import csv\n",
    "import pandas as pd\n",
    "from datetime import date\n",
    "from datetime import timedelta\n",
    "import common_funcs\n",
    "import os\n",
    "from pretty_html_table import build_table"
   ],
   "metadata": {
    "collapsed": false,
    "ExecuteTime": {
     "end_time": "2025-04-10T18:50:41.105893Z",
     "start_time": "2025-04-10T18:50:41.086609Z"
    }
   },
   "id": "575c9390f435618b",
   "outputs": [],
   "execution_count": 92
  },
  {
   "cell_type": "code",
   "source": [
    "# SQLAlchemy connection\n",
    "server = 'tn-sql'\n",
    "database = 'autodata'\n",
    "driver = 'ODBC+Driver+17+for+SQL+Server'\n",
    "user = os.getenv('SQL_UID')\n",
    "pwd = parse.quote_plus(os.getenv('SQL_PWD'))\n",
    "port = '1433'\n",
    "database_conn = f'mssql+pyodbc://{user}:{pwd}@{server}:{port}/{database}?driver={driver}'\n",
    "# Make Connection\n",
    "engine = create_engine(database_conn)\n",
    "\n",
    "# Database connection settings\n",
    "CONNECTION_STRING = (\n",
    "    f\"Driver={{SQL Server}};\"\n",
    "    f\"Server=tn-sql;\"\n",
    "    f\"Database=autodata;\"\n",
    "    f\"UID={os.getenv('SQL_UID')};\"\n",
    "    f\"PWD={os.getenv('SQL_PWD')};\"\n",
    ")"
   ],
   "metadata": {
    "collapsed": false,
    "ExecuteTime": {
     "end_time": "2025-04-09T15:36:35.494985Z",
     "start_time": "2025-04-09T15:36:35.461981Z"
    }
   },
   "id": "558af7f399b63424",
   "outputs": [],
   "execution_count": 58
  },
  {
   "cell_type": "code",
   "source": [
    "print('Connecting to FileMaker Server, it will take a bit\\n\\n')\n",
    "cnxn = pyodbc.connect('DSN=FM Clamp ODBC;UID=FMODBC;PWD=FMODBC')\n",
    "cursor = cnxn.cursor()\n"
   ],
   "metadata": {
    "collapsed": false,
    "ExecuteTime": {
     "end_time": "2025-04-10T20:10:17.240402Z",
     "start_time": "2025-04-10T20:10:14.118719Z"
    }
   },
   "id": "2f72bb65d4a6132b",
   "outputs": [
    {
     "name": "stdout",
     "output_type": "stream",
     "text": [
      "Connecting to FileMaker Server, it will take a bit\n",
      "\n",
      "\n"
     ]
    }
   ],
   "execution_count": 98
  },
  {
   "metadata": {
    "ExecuteTime": {
     "end_time": "2025-04-10T18:41:21.202692Z",
     "start_time": "2025-04-10T18:41:21.167693Z"
    }
   },
   "cell_type": "code",
   "source": [
    "sql = \"\"\"\n",
    "            SELECT Ourpart,\"Band A Part Number\", \"Housing A Part Number\",\n",
    "                \"Screw Part Number\", \"Band Feed from Band data\",\n",
    "                \"Ship Diam Max QA Alternate\", \"Ship Diam Min\", \"Hex Size\", \"Band_Thickness\", \"Band_Width\",\n",
    "                \"CameraInspectionRequired\", \"ScrDrvChk\", \"Cutout1\"\n",
    "            FROM tbl8Tridon\n",
    "            WHERE  (\"Band Feed from Band data\" IS NOT NULL)\n",
    "                AND (Ourpart IS NOT NULL) AND (RIGHT(Ourpart,1) <> '\\r')\n",
    "                AND (\"Housing A Part Number\" IS NOT NULL)\n",
    "                AND (RIGHT(\"Housing A Part Number\",1) <> '\\r')\n",
    "                AND (\"Screw Part Number\" IS NOT NULL)\n",
    "                AND (RIGHT(\"Screw Part Number\",1) <> '\\r')\n",
    "                AND (\"Band A Part Number\" IS NOT NULL)\n",
    "                AND (RIGHT(\"Band A Part Number\",1) <> '\\r')\n",
    "                AND (\"Band_Thickness\" IS NOT NULL)\n",
    "                AND (\"Band Width\" IS NOT NULL)\n",
    "                AND (CameraInspectionRequired IS NOT NULL)\n",
    "                AND (ScrDrvChk IS NOT NULL)\n",
    "                AND (\"Hex Size\" IS NOT NULL)\n",
    "            ORDER BY Ourpart\n",
    "        \"\"\"\n",
    "\n"
   ],
   "id": "9444833e49a82cbc",
   "outputs": [],
   "execution_count": 86
  },
  {
   "metadata": {},
   "cell_type": "code",
   "outputs": [],
   "execution_count": null,
   "source": [
    "cursor.execute(sql)\n",
    "result = cursor.fetchall()"
   ],
   "id": "5acfce4be2f38a95"
  },
  {
   "metadata": {
    "ExecuteTime": {
     "end_time": "2025-04-10T20:10:49.437852Z",
     "start_time": "2025-04-10T20:10:23.274847Z"
    }
   },
   "cell_type": "code",
   "source": [
    "df = pd.read_sql(sql, cnxn)\n",
    "BASE_PATH = \"\\\\Inetpub\\\\ftproot\\\\acmparts_alt\\\\parts.csv\"\n",
    "df[[\"Band Feed from Band data\", \"Band_Width\"]] = df[[\"Band Feed from Band data\", \"Band_Width\"]].round(2)\n",
    "df.to_csv(BASE_PATH, index=False, quoting=csv.QUOTE_NONE, header=False)\n",
    "\n",
    "\n"
   ],
   "id": "da6d17b5f09d855d",
   "outputs": [
    {
     "name": "stderr",
     "output_type": "stream",
     "text": [
      "C:\\PycharmProjects\\IdealProd\\venv310\\lib\\site-packages\\pandas\\io\\sql.py:761: UserWarning: pandas only support SQLAlchemy connectable(engine/connection) ordatabase string URI or sqlite3 DBAPI2 connectionother DBAPI2 objects are not tested, please consider using SQLAlchemy\n",
      "  warnings.warn(\n"
     ]
    }
   ],
   "execution_count": 99
  },
  {
   "metadata": {
    "ExecuteTime": {
     "end_time": "2025-04-09T15:56:27.973702Z",
     "start_time": "2025-04-09T15:56:27.938701Z"
    }
   },
   "cell_type": "code",
   "source": [
    "def write_dataframe_to_sql(df, table_name):\n",
    "    \"\"\"Write a DataFrame to a SQL Server table.\"\"\"\n",
    "    try:\n",
    "        print(\"Connecting to SQL Server...\")\n",
    "\n",
    "        # Write DataFrame to SQL Server\n",
    "        df.to_sql(name=table_name, con=engine, schema='production', if_exists='replace', index=False)\n",
    "        print(f\"Data successfully written to {table_name}.\")\n",
    "    except Exception as e:\n",
    "        print(f\"Error writing DataFrame to SQL Server: {e}\")\n",
    "    # finally:\n",
    "    #     engine.dispose()\n"
   ],
   "id": "36ea3b017ccb78d4",
   "outputs": [],
   "execution_count": 66
  },
  {
   "metadata": {
    "ExecuteTime": {
     "end_time": "2025-04-09T15:56:53.696235Z",
     "start_time": "2025-04-09T15:56:48.403319Z"
    }
   },
   "cell_type": "code",
   "source": "write_dataframe_to_sql(df, \"parts_cutout\")",
   "id": "d23185b712fb1629",
   "outputs": [
    {
     "name": "stdout",
     "output_type": "stream",
     "text": [
      "Connecting to SQL Server...\n",
      "Data successfully written to parts_cutout.\n"
     ]
    }
   ],
   "execution_count": 67
  },
  {
   "metadata": {
    "ExecuteTime": {
     "end_time": "2025-04-08T16:43:33.429480Z",
     "start_time": "2025-04-08T16:43:33.237766Z"
    }
   },
   "cell_type": "code",
   "source": [
    "test = df.groupby(\"CameraInspectionRequired\")\n",
    "print(test.size())"
   ],
   "id": "b0465a260dcb0d9d",
   "outputs": [
    {
     "name": "stdout",
     "output_type": "stream",
     "text": [
      "CameraInspectionRequired\n",
      "NO     8412\n",
      "YES     817\n",
      "Yes     180\n",
      "dtype: int64\n"
     ]
    }
   ],
   "execution_count": 35
  }
 ],
 "metadata": {
  "kernelspec": {
   "display_name": "Python 3",
   "language": "python",
   "name": "python3"
  },
  "language_info": {
   "codemirror_mode": {
    "name": "ipython",
    "version": 2
   },
   "file_extension": ".py",
   "mimetype": "text/x-python",
   "name": "python",
   "nbconvert_exporter": "python",
   "pygments_lexer": "ipython2",
   "version": "2.7.6"
  }
 },
 "nbformat": 4,
 "nbformat_minor": 5
}
