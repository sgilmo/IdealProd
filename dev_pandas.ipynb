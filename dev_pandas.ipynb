{
 "cells": [
  {
   "cell_type": "code",
   "execution_count": null,
   "id": "initial_id",
   "metadata": {
    "collapsed": true
   },
   "outputs": [],
   "source": []
  },
  {
   "cell_type": "code",
   "execution_count": 15,
   "outputs": [],
   "source": [
    "from sqlalchemy import create_engine\n",
    "from urllib import parse\n",
    "import pandas as pd\n",
    "import urllib"
   ],
   "metadata": {
    "collapsed": false,
    "ExecuteTime": {
     "end_time": "2024-03-26T18:41:58.718945700Z",
     "start_time": "2024-03-26T18:41:58.672828400Z"
    }
   },
   "id": "575c9390f435618b"
  },
  {
   "cell_type": "code",
   "execution_count": 20,
   "outputs": [],
   "source": [
    "# SQLAlchemy connection\n",
    "server = 'tn-sql'\n",
    "database = 'autodata'\n",
    "driver = 'ODBC+Driver+17+for+SQL+Server'\n",
    "user = 'production'\n",
    "pwd = parse.quote_plus(\"Auto@matics\")\n",
    "port = '1433'\n",
    "database_conn = f'mssql+pyodbc://{user}:{pwd}@{server}:{port}/{database}?driver={driver}'\n",
    "# Make Connection\n",
    "engine = create_engine(database_conn)\n",
    "conn = engine.connect()"
   ],
   "metadata": {
    "collapsed": false,
    "ExecuteTime": {
     "end_time": "2024-03-26T18:44:06.536850500Z",
     "start_time": "2024-03-26T18:44:06.490823100Z"
    }
   },
   "id": "558af7f399b63424"
  },
  {
   "cell_type": "code",
   "execution_count": 21,
   "outputs": [
    {
     "name": "stdout",
     "output_type": "stream",
     "text": [
      "          PartNumber       Band  Housing      Screw    Feed  DiaMax  DiaMin  \\\n",
      "0       106070044175    2247044  2360007  1278001MC  11.100    3.15    3.07   \n",
      "1       106070944000    2247044  2360007  1278001MC  11.100    3.15    3.07   \n",
      "2       106520057175    2263057  2360007    1278001  13.900    4.06    3.98   \n",
      "3       106710043175    2295043  2367025  1278001MC  11.450    3.27    3.19   \n",
      "4       106810055175    2786055  2360007    1278001  13.700    3.86    3.78   \n",
      "...              ...        ...      ...        ...     ...     ...     ...   \n",
      "9267      X703034175    2935034  2360007  1299001MC   9.100    2.52    2.44   \n",
      "9268     XM406022175    2108023  2057003  2160001MC   6.950    0.00    0.00   \n",
      "9269     XM694062004    2939062  2360007  1278001MC  15.650    4.30    4.24   \n",
      "9270  X_630060008001    2932908  2214001    2173001   4.220    0.00    0.98   \n",
      "9271  xx379920058001  xx2667058  2360013  4073014MC  13.955    3.96    3.88   \n",
      "\n",
      "     HexSz  BandThickness  BandWidth CamInspect ScrDrvChk  \n",
      "0     5/16          0.022      0.500         NO        NO  \n",
      "1     5/16          0.022      0.500         NO        NO  \n",
      "2     5/16          0.022      0.500         NO        NO  \n",
      "3     5/16          0.022      0.500        YES       YES  \n",
      "4     5/16          0.022      0.500         NO        NO  \n",
      "...    ...            ...        ...        ...       ...  \n",
      "9267  7 mm          0.022      0.500         NO        NO  \n",
      "9268  6 mm          0.023      0.400         NO        NO  \n",
      "9269  5/16          0.022      0.500         NO        NO  \n",
      "9270  5/16          0.024      0.562         NO        NO  \n",
      "9271  5/16          0.025      0.500         NO        NO  \n",
      "\n",
      "[9272 rows x 12 columns]\n"
     ]
    }
   ],
   "source": [
    "sql = \"SELECT * FROM autodata.production.parts\"\n",
    "df = pd.read_sql(sql, conn)\n",
    "print(df)"
   ],
   "metadata": {
    "collapsed": false,
    "ExecuteTime": {
     "end_time": "2024-03-26T18:44:08.570776200Z",
     "start_time": "2024-03-26T18:44:08.314445800Z"
    }
   },
   "id": "a17e76e5af05bece"
  },
  {
   "cell_type": "code",
   "execution_count": null,
   "outputs": [],
   "source": [],
   "metadata": {
    "collapsed": false
   },
   "id": "2f72bb65d4a6132b"
  }
 ],
 "metadata": {
  "kernelspec": {
   "display_name": "Python 3",
   "language": "python",
   "name": "python3"
  },
  "language_info": {
   "codemirror_mode": {
    "name": "ipython",
    "version": 2
   },
   "file_extension": ".py",
   "mimetype": "text/x-python",
   "name": "python",
   "nbconvert_exporter": "python",
   "pygments_lexer": "ipython2",
   "version": "2.7.6"
  }
 },
 "nbformat": 4,
 "nbformat_minor": 5
}
