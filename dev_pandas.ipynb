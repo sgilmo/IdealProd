{
 "cells": [
  {
   "cell_type": "code",
   "source": [
    "import os\n",
    "import smtplib\n"
   ],
   "metadata": {
    "collapsed": false,
    "ExecuteTime": {
     "end_time": "2024-04-17T17:00:46.199566Z",
     "start_time": "2024-04-17T17:00:46.178624Z"
    }
   },
   "id": "7f455f69dd44eeff",
   "outputs": [],
   "execution_count": 1
  },
  {
   "metadata": {
    "ExecuteTime": {
     "end_time": "2024-04-17T17:14:24.094128Z",
     "start_time": "2024-04-17T17:14:24.086146Z"
    }
   },
   "cell_type": "code",
   "source": [
    "def send_email(sender, mailto, message):\n",
    "    # Send Email\n",
    "    mail_server = \"cas2013.ideal.us.com\"\n",
    "    # mail_server = \"mail.ideal.us.com\"\n",
    "    smtp_server = smtplib.SMTP(mail_server, 25)\n",
    "    smtp_server.set_debuglevel(1)\n",
    "    \n",
    "    message = message + '<br><b>Sincerely,<br><br><br> The Engineering Overlords and Steve</b><br>'\n",
    "    message = message + '<br><br><a href=\"https://www.idealtridon.com/idealtridongroup.html\"> ' \\\n",
    "                        '<img src=\"https://sgilmo.com/email_logo.png\" alt=\"Ideal Logo\"></a>'\n",
    "    smtp_server.sendmail(sender, mailto, message.replace('\\xb0', ''))\n",
    "    smtp_server.quit()\n",
    "    return"
   ],
   "id": "5f0fdeda83016edf",
   "outputs": [],
   "execution_count": 12
  },
  {
   "metadata": {
    "ExecuteTime": {
     "end_time": "2024-04-17T17:14:27.575157Z",
     "start_time": "2024-04-17T17:14:25.382707Z"
    }
   },
   "cell_type": "code",
   "source": "send_email('sgilmour@idealtridon.com', 'sgilmour@idealtridon.com', 'Test Message')",
   "id": "da8052c6f0f18854",
   "outputs": [
    {
     "ename": "ConnectionRefusedError",
     "evalue": "[WinError 10061] No connection could be made because the target machine actively refused it",
     "output_type": "error",
     "traceback": [
      "\u001B[1;31m---------------------------------------------------------------------------\u001B[0m",
      "\u001B[1;31mConnectionRefusedError\u001B[0m                    Traceback (most recent call last)",
      "Cell \u001B[1;32mIn[13], line 1\u001B[0m\n\u001B[1;32m----> 1\u001B[0m \u001B[43msend_email\u001B[49m\u001B[43m(\u001B[49m\u001B[38;5;124;43m'\u001B[39;49m\u001B[38;5;124;43msgilmour@idealtridon.com\u001B[39;49m\u001B[38;5;124;43m'\u001B[39;49m\u001B[43m,\u001B[49m\u001B[43m \u001B[49m\u001B[38;5;124;43m'\u001B[39;49m\u001B[38;5;124;43msgilmour@idealtridon.com\u001B[39;49m\u001B[38;5;124;43m'\u001B[39;49m\u001B[43m,\u001B[49m\u001B[43m \u001B[49m\u001B[38;5;124;43m'\u001B[39;49m\u001B[38;5;124;43mTest Message\u001B[39;49m\u001B[38;5;124;43m'\u001B[39;49m\u001B[43m)\u001B[49m\n",
      "Cell \u001B[1;32mIn[12], line 5\u001B[0m, in \u001B[0;36msend_email\u001B[1;34m(sender, mailto, message)\u001B[0m\n\u001B[0;32m      3\u001B[0m mail_server \u001B[38;5;241m=\u001B[39m \u001B[38;5;124m\"\u001B[39m\u001B[38;5;124mcas2013.ideal.us.com\u001B[39m\u001B[38;5;124m\"\u001B[39m\n\u001B[0;32m      4\u001B[0m \u001B[38;5;66;03m# mail_server = \"mail.ideal.us.com\"\u001B[39;00m\n\u001B[1;32m----> 5\u001B[0m smtp_server \u001B[38;5;241m=\u001B[39m \u001B[43msmtplib\u001B[49m\u001B[38;5;241;43m.\u001B[39;49m\u001B[43mSMTP\u001B[49m\u001B[43m(\u001B[49m\u001B[43mmail_server\u001B[49m\u001B[43m,\u001B[49m\u001B[43m \u001B[49m\u001B[38;5;241;43m1025\u001B[39;49m\u001B[43m)\u001B[49m\n\u001B[0;32m      6\u001B[0m smtp_server\u001B[38;5;241m.\u001B[39mset_debuglevel(\u001B[38;5;241m1\u001B[39m)\n\u001B[0;32m      8\u001B[0m message \u001B[38;5;241m=\u001B[39m message \u001B[38;5;241m+\u001B[39m \u001B[38;5;124m'\u001B[39m\u001B[38;5;124m<br><b>Sincerely,<br><br><br> The Engineering Overlords and Steve</b><br>\u001B[39m\u001B[38;5;124m'\u001B[39m\n",
      "File \u001B[1;32mC:\\Python310\\lib\\smtplib.py:255\u001B[0m, in \u001B[0;36mSMTP.__init__\u001B[1;34m(self, host, port, local_hostname, timeout, source_address)\u001B[0m\n\u001B[0;32m    252\u001B[0m \u001B[38;5;28mself\u001B[39m\u001B[38;5;241m.\u001B[39m_auth_challenge_count \u001B[38;5;241m=\u001B[39m \u001B[38;5;241m0\u001B[39m\n\u001B[0;32m    254\u001B[0m \u001B[38;5;28;01mif\u001B[39;00m host:\n\u001B[1;32m--> 255\u001B[0m     (code, msg) \u001B[38;5;241m=\u001B[39m \u001B[38;5;28;43mself\u001B[39;49m\u001B[38;5;241;43m.\u001B[39;49m\u001B[43mconnect\u001B[49m\u001B[43m(\u001B[49m\u001B[43mhost\u001B[49m\u001B[43m,\u001B[49m\u001B[43m \u001B[49m\u001B[43mport\u001B[49m\u001B[43m)\u001B[49m\n\u001B[0;32m    256\u001B[0m     \u001B[38;5;28;01mif\u001B[39;00m code \u001B[38;5;241m!=\u001B[39m \u001B[38;5;241m220\u001B[39m:\n\u001B[0;32m    257\u001B[0m         \u001B[38;5;28mself\u001B[39m\u001B[38;5;241m.\u001B[39mclose()\n",
      "File \u001B[1;32mC:\\Python310\\lib\\smtplib.py:341\u001B[0m, in \u001B[0;36mSMTP.connect\u001B[1;34m(self, host, port, source_address)\u001B[0m\n\u001B[0;32m    339\u001B[0m     port \u001B[38;5;241m=\u001B[39m \u001B[38;5;28mself\u001B[39m\u001B[38;5;241m.\u001B[39mdefault_port\n\u001B[0;32m    340\u001B[0m sys\u001B[38;5;241m.\u001B[39maudit(\u001B[38;5;124m\"\u001B[39m\u001B[38;5;124msmtplib.connect\u001B[39m\u001B[38;5;124m\"\u001B[39m, \u001B[38;5;28mself\u001B[39m, host, port)\n\u001B[1;32m--> 341\u001B[0m \u001B[38;5;28mself\u001B[39m\u001B[38;5;241m.\u001B[39msock \u001B[38;5;241m=\u001B[39m \u001B[38;5;28;43mself\u001B[39;49m\u001B[38;5;241;43m.\u001B[39;49m\u001B[43m_get_socket\u001B[49m\u001B[43m(\u001B[49m\u001B[43mhost\u001B[49m\u001B[43m,\u001B[49m\u001B[43m \u001B[49m\u001B[43mport\u001B[49m\u001B[43m,\u001B[49m\u001B[43m \u001B[49m\u001B[38;5;28;43mself\u001B[39;49m\u001B[38;5;241;43m.\u001B[39;49m\u001B[43mtimeout\u001B[49m\u001B[43m)\u001B[49m\n\u001B[0;32m    342\u001B[0m \u001B[38;5;28mself\u001B[39m\u001B[38;5;241m.\u001B[39mfile \u001B[38;5;241m=\u001B[39m \u001B[38;5;28;01mNone\u001B[39;00m\n\u001B[0;32m    343\u001B[0m (code, msg) \u001B[38;5;241m=\u001B[39m \u001B[38;5;28mself\u001B[39m\u001B[38;5;241m.\u001B[39mgetreply()\n",
      "File \u001B[1;32mC:\\Python310\\lib\\smtplib.py:312\u001B[0m, in \u001B[0;36mSMTP._get_socket\u001B[1;34m(self, host, port, timeout)\u001B[0m\n\u001B[0;32m    310\u001B[0m \u001B[38;5;28;01mif\u001B[39;00m \u001B[38;5;28mself\u001B[39m\u001B[38;5;241m.\u001B[39mdebuglevel \u001B[38;5;241m>\u001B[39m \u001B[38;5;241m0\u001B[39m:\n\u001B[0;32m    311\u001B[0m     \u001B[38;5;28mself\u001B[39m\u001B[38;5;241m.\u001B[39m_print_debug(\u001B[38;5;124m'\u001B[39m\u001B[38;5;124mconnect: to\u001B[39m\u001B[38;5;124m'\u001B[39m, (host, port), \u001B[38;5;28mself\u001B[39m\u001B[38;5;241m.\u001B[39msource_address)\n\u001B[1;32m--> 312\u001B[0m \u001B[38;5;28;01mreturn\u001B[39;00m \u001B[43msocket\u001B[49m\u001B[38;5;241;43m.\u001B[39;49m\u001B[43mcreate_connection\u001B[49m\u001B[43m(\u001B[49m\u001B[43m(\u001B[49m\u001B[43mhost\u001B[49m\u001B[43m,\u001B[49m\u001B[43m \u001B[49m\u001B[43mport\u001B[49m\u001B[43m)\u001B[49m\u001B[43m,\u001B[49m\u001B[43m \u001B[49m\u001B[43mtimeout\u001B[49m\u001B[43m,\u001B[49m\n\u001B[0;32m    313\u001B[0m \u001B[43m                                \u001B[49m\u001B[38;5;28;43mself\u001B[39;49m\u001B[38;5;241;43m.\u001B[39;49m\u001B[43msource_address\u001B[49m\u001B[43m)\u001B[49m\n",
      "File \u001B[1;32mC:\\Python310\\lib\\socket.py:845\u001B[0m, in \u001B[0;36mcreate_connection\u001B[1;34m(address, timeout, source_address)\u001B[0m\n\u001B[0;32m    843\u001B[0m \u001B[38;5;28;01mif\u001B[39;00m err \u001B[38;5;129;01mis\u001B[39;00m \u001B[38;5;129;01mnot\u001B[39;00m \u001B[38;5;28;01mNone\u001B[39;00m:\n\u001B[0;32m    844\u001B[0m     \u001B[38;5;28;01mtry\u001B[39;00m:\n\u001B[1;32m--> 845\u001B[0m         \u001B[38;5;28;01mraise\u001B[39;00m err\n\u001B[0;32m    846\u001B[0m     \u001B[38;5;28;01mfinally\u001B[39;00m:\n\u001B[0;32m    847\u001B[0m         \u001B[38;5;66;03m# Break explicitly a reference cycle\u001B[39;00m\n\u001B[0;32m    848\u001B[0m         err \u001B[38;5;241m=\u001B[39m \u001B[38;5;28;01mNone\u001B[39;00m\n",
      "File \u001B[1;32mC:\\Python310\\lib\\socket.py:833\u001B[0m, in \u001B[0;36mcreate_connection\u001B[1;34m(address, timeout, source_address)\u001B[0m\n\u001B[0;32m    831\u001B[0m \u001B[38;5;28;01mif\u001B[39;00m source_address:\n\u001B[0;32m    832\u001B[0m     sock\u001B[38;5;241m.\u001B[39mbind(source_address)\n\u001B[1;32m--> 833\u001B[0m \u001B[43msock\u001B[49m\u001B[38;5;241;43m.\u001B[39;49m\u001B[43mconnect\u001B[49m\u001B[43m(\u001B[49m\u001B[43msa\u001B[49m\u001B[43m)\u001B[49m\n\u001B[0;32m    834\u001B[0m \u001B[38;5;66;03m# Break explicitly a reference cycle\u001B[39;00m\n\u001B[0;32m    835\u001B[0m err \u001B[38;5;241m=\u001B[39m \u001B[38;5;28;01mNone\u001B[39;00m\n",
      "\u001B[1;31mConnectionRefusedError\u001B[0m: [WinError 10061] No connection could be made because the target machine actively refused it"
     ]
    }
   ],
   "execution_count": 13
  },
  {
   "metadata": {},
   "cell_type": "code",
   "outputs": [],
   "execution_count": null,
   "source": "",
   "id": "74c7400de5abac2b"
  }
 ],
 "metadata": {
  "kernelspec": {
   "display_name": "Python 3",
   "language": "python",
   "name": "python3"
  },
  "language_info": {
   "codemirror_mode": {
    "name": "ipython",
    "version": 2
   },
   "file_extension": ".py",
   "mimetype": "text/x-python",
   "name": "python",
   "nbconvert_exporter": "python",
   "pygments_lexer": "ipython2",
   "version": "2.7.6"
  }
 },
 "nbformat": 4,
 "nbformat_minor": 5
}
