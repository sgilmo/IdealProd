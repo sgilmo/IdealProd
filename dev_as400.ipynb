{
 "cells": [
  {
   "cell_type": "code",
   "execution_count": 1,
   "id": "initial_id",
   "metadata": {
    "collapsed": true,
    "ExecuteTime": {
     "end_time": "2024-03-26T18:16:28.814471200Z",
     "start_time": "2024-03-26T18:16:28.741665900Z"
    }
   },
   "outputs": [],
   "source": [
    "import pyodbc\n",
    "\n",
    "# Define Database Connection\n",
    "\n",
    "CONNAS400 = \"\"\"\n",
    "Driver={iSeries Access ODBC Driver};\n",
    "system=10.143.12.10;\n",
    "Server=AS400;\n",
    "Database=PROD;\n",
    "UID=SMY;\n",
    "PWD=SMY;\n",
    "\"\"\""
   ]
  },
  {
   "cell_type": "code",
   "execution_count": 2,
   "outputs": [],
   "source": [
    "def get_emps():\n",
    "    \"\"\"Get Employees From iSeries AS400\"\"\"\n",
    "    dbcnxn = pyodbc.connect(CONNAS400)\n",
    "    cursor = dbcnxn.cursor()\n",
    "    eng_login = ['9999', 'ELMER J FUDD', 'ENG']\n",
    "    lead_login = ['1208', 'Wile E Coyote', 'ENG']\n",
    "    eng = ['1208', '9107', '1656', '1472', '1626', '1351']\n",
    "\n",
    "    strsql = \"\"\"SELECT STRIP(EMP_CLOCK_NUMBER) As Clock,\n",
    "                    CONCAT(CONCAT(STRIP(EMP_FIRST_NAME), ' '),\n",
    "                    STRIP(EMP_LAST_NAME)) As Name,\n",
    "                    STRIP(EMP_POSITION_CODE) As Code\n",
    "            FROM PROD.FPCLCKPAY\n",
    "            WHERE (EMP_LOCATION = 09) AND (EMP_LAST_NAME <> 'TEMP') AND (EMP_SHIFT_TYPE = 'A')\n",
    "            ORDER BY EMP_CLOCK_NUMBER\"\"\"\n",
    "    try:\n",
    "        cursor.execute(strsql)\n",
    "        result = cursor.fetchall()\n",
    "    except Exception as e:\n",
    "        msg = 'AS400 Employee Query Failed: ' + str(e)\n",
    "        result = []\n",
    "        print(msg)\n",
    "    else:\n",
    "        msg = str(len(result)) + \" AS400 Employee Records Processed From Table\"\n",
    "        print(msg)\n",
    "    result.append(eng_login)\n",
    "    result.append(lead_login)\n",
    "    for row in result:\n",
    "        if row[0] in eng:\n",
    "            row[2] = 'ENG'\n",
    "    dbcnxn.close()\n",
    "    return result"
   ],
   "metadata": {
    "collapsed": false,
    "ExecuteTime": {
     "end_time": "2024-03-26T18:16:33.766055300Z",
     "start_time": "2024-03-26T18:16:33.674332300Z"
    }
   },
   "id": "6d89003d605c9afa"
  },
  {
   "cell_type": "code",
   "execution_count": 3,
   "outputs": [
    {
     "name": "stdout",
     "output_type": "stream",
     "text": [
      "319 AS400 Employee Records Processed From Table\n",
      "[('1001', 'DEBBIE POMEROY-GAMMONS', 'DEF'), ('1013', 'BETH THOMPSON', 'DEF'), ('1032', 'THOMAS BOGLE', 'DEF'), ('1039', 'VICKIE ANDERSON', 'DEF'), ('1090', 'BILLY NIPPERS', 'DEF'), ('1122', 'SHELLEY HOUSTON', 'DEF'), ('1139', 'ANTIONETTE BASS', 'DEF'), ('1175', 'WYOMIA CLARK', 'DEF'), ('1176', 'NALEE NHOTSAVANG', 'DEF'), ('1177', 'CHARLES TOOMBS', 'DEF'), ('1213', 'DOUGLAS SHIPP', 'DEF'), ('1238', 'MARICHU RIVERA', 'DEF'), ('1258', 'PHOUVEUNE LAMNGEUN', 'DEF'), ('1318', 'TERESA HOLLIS', 'DEF'), ('1331', 'NANCY CLARK', 'DEF'), ('1332', 'BRENDA CUNNINGHAM', 'DEF'), ('1347', 'HERBERT GRAHAM', 'DEF'), ('1352', 'DALE GERHART', 'DEF'), ('1372', 'SITHONH BOUAPHACHANH', 'DEF'), ('1429', 'GARY BELCHER', 'DEF'), ('1444', 'RILEY BREWER  JR.', 'DEF'), ('1464', 'CHRISTOPHER HIX', 'DEF'), ('1483', 'BARRY KIRBY', 'DEF'), ('1496', 'TERRY MARTIN', 'DEF'), ('1499', 'ACKHASONE PHILAVARN', 'DEF'), ('1514', 'KHAMIN VONGPANYA', 'DEF'), ('1515', 'PHILLIP STINSON', 'DEF'), ('1516', 'WESLEY ARTHUR', 'DEF'), ('1519', 'KONG INTHAVONGSA', 'DEF'), ('1523', 'PATRICK XAYVONGSACK', 'DEF'), ('1528', 'VIEN KHEMANIVONG', 'DEF'), ('1544', 'BOUTTAVONG THOMPSON', 'DEF'), ('1550', 'DAVID MARSH', 'DEF'), ('1551', 'ROBERT FOOTE', 'DEF'), ('1552', 'REBECCA FOOTE', 'DEF'), ('1560', 'ROY MOSS', 'DEF'), ('1562', 'ROBERT JOBMAN', 'DEF'), ('1569', 'RICHARD POPOLILLO  JR', 'DEF'), ('1571', 'KEMP SOUNAKHENE', 'DEF'), ('1574', 'KAREN HARRISON', 'DEF'), ('1576', 'JAMES TURLEY', 'DEF'), ('1579', 'GARY KING', 'DEF'), ('1581', 'JACK SHANK', 'DEF'), ('1583', 'CLYDE BARRETT', 'DEF'), ('1584', 'XAY PHASAVATH', 'DEF'), ('1585', 'DAVID KELLENBURGER', 'DEF'), ('1588', 'TIMOTHY SHORT', 'DEF'), ('1597', 'GARY HOLUB', 'DEF'), ('1601', 'GUY PARKER', 'DEF'), ('1608', 'ROBERT BARBER', 'DEF'), ('1614', 'KATHRYN LAMPE', 'DEF'), ('1618', 'ROBERT DEVERSE', 'DEF'), ('1619', 'KEVIN SANTELMAN', 'DEF'), ('1624', 'GARY JONES', 'DEF'), ('1625', 'OCTAVIO FLORES', 'DEF'), ('1626', 'BRANDON PARKER', 'ENG'), ('1639', 'VILAY VITHAYA', 'DEF'), ('1643', 'DENIS MULAVDIC', 'DEF'), ('1646', 'TREYVON MURPHY', 'DEF'), ('1647', 'RAMON GAMEZ', 'DEF'), ('1652', 'TIMOTHY OWENS', 'DEF'), ('1653', 'DUSTIN TOY', 'DEF'), ('1657', 'DENNY BROWN', 'DEF'), ('1666', 'KYLE ANDERSON', 'DEF'), ('1669', 'JAMES LACKEY', 'DEF'), ('1673', 'OUTTHAMA VONGPHAKDY', 'DEF'), ('1690', 'JOSEPH SMUTNY', 'DEF'), ('1692', 'PETER QUIRINO JR', 'DEF'), ('1694', 'KEVIN SMOTHERS', 'DEF'), ('1695', 'CRISTIAN SIFUENTES', 'DEF'), ('1698', 'AUSTIN ELLIS', 'DEF'), ('1701', 'MARK SNEED', 'DEF'), ('1702', 'RICHARD CRAIG', 'DEF'), ('1704', 'SOMPHOUVONE SOUVANNASENG', 'DEF'), ('1706', 'SAMUEL KENDALL', 'DEF'), ('1713', 'PORTER CASTLEMAN', 'DEF'), ('1716', 'CHARLES SLOVER', 'DEF'), ('1718', 'MICHAEL RIGGAN JR', 'DEF'), ('1720', 'JAMIE LIPPINCOTT II', 'DEF'), ('1730', 'WILLIAM DIAL', 'DEF'), ('1731', 'THELMA AVELAR', 'DEF'), ('1732', 'MISTIR JENBER', 'DEF'), ('1734', 'JAMES PICKENS', 'DEF'), ('1735', 'SILVIA GUTIERREZ', 'DEF'), ('1740', 'TONG CHANTHONGTHIP', 'DEF'), ('1742', 'CHRISTOPHER TAYLOR', 'DEF'), ('1746', 'ALAN HUDSON', 'DEF'), ('1750', 'MARY ALLEN', 'DEF'), ('1754', 'JASON WALLS', 'DEF'), ('1757', 'JOHN REDMON', 'DEF'), ('1765', 'AARON DESMARAIS', 'DEF'), ('1766', 'REYNALDO OCACIO', 'DEF'), ('1774', 'KEVIN KEOKETMANY', 'DEF'), ('1779', 'BRIAN MULLINS', 'DEF'), ('1781', 'MARIA TROSTER', 'DEF'), ('1786', 'TALEISHA SNEED', 'DEF'), ('1787', 'ROBERT CATRON', 'DEF'), ('1789', 'LUIS RISCO', 'DEF'), ('1794', 'KENNETH HAM', 'DEF'), ('1795', 'SKYLA JONES', 'DEF'), ('1802', 'KEITH VONGSAMPHANH', 'DEF'), ('1803', 'KHAMDY CHINDAVANH', 'DEF'), ('1805', 'TAMMY JACKSON', 'DEF'), ('1812', 'AUSTIN BROWN', 'DEF'), ('1814', 'JOSEPH HUDSON', 'DEF'), ('1822', 'RUSSELL OSBORNE', 'DEF'), ('1823', 'JAMES LILLARD', 'DEF'), ('1838', 'JASON CORDOVA', 'DEF'), ('1840', 'JESSE ZOLLER', 'DEF'), ('1845', 'DAVID FORD', 'DEF'), ('1848', 'ETALEMAHU KIDANE', 'DEF'), ('1849', 'KEENAN WALDEN', 'DEF'), ('1851', 'NIRAMOL RUENPROM', 'DEF'), ('1858', 'MONIQUE CRAWFORD', 'DEF'), ('1859', 'MICHAEL PARKER', 'DEF'), ('1866', 'JIMMY RION', 'DEF'), ('1875', 'BARRY RANEY', 'DEF'), ('1885', 'VIXOUNE SYHARATH', 'DEF'), ('1887', 'ROBERT WALDRON', 'DEF'), ('1888', 'TRACY HARVELL', 'DEF'), ('1890', 'JEFFREY CLARDY', 'DEF'), ('1891', 'JOSHUA SMITTY', 'DEF'), ('1892', 'OTHA WILSON', 'DEF'), ('1894', 'CRISTIAN VARGAS', 'DEF'), ('1897', 'CHRISTOPHER SHORT', 'DEF'), ('1899', 'JASON GREEN', 'DEF'), ('1900', 'REBECCA JONES', 'DEF'), ('1903', 'JASON JOHNSON', 'DEF'), ('1907', 'CARLIE COOPER', 'DEF'), ('1908', 'KRISTEN VANNAKET', 'DEF'), ('1909', 'ANTHONY SLATER', 'DEF'), ('1910', 'CHRISTOPHER SPENCER', 'DEF'), ('1911', 'RACHEL MITCHELL', 'DEF'), ('1916', 'TORRANCE WILLIAMS', 'DEF'), ('1917', 'LIVIER GUTIERREZ', 'DEF'), ('1918', 'CIARA ADAMS', 'DEF'), ('1920', 'SHELLY ANDERSON', 'DEF'), ('1922', 'TERRY WINECOFF', 'DEF'), ('1925', 'MICHAEL RATSABOUT', 'DEF'), ('1937', 'GERALDINE JOHNSON', 'DEF'), ('1938', 'ROBERT NADER', 'DEF'), ('1939', 'JARED SMITH', 'DEF'), ('1941', 'RYAN TOWNSEND', 'DEF'), ('1944', 'DARRIAN DORSEY', 'DEF'), ('1945', 'BUNTON PRUM', 'DEF'), ('1948', 'JAMESON MARTIN', 'DEF'), ('1950', 'WILLIAM PUMMELL', 'DEF'), ('1955', 'GIMNA DE LOS REYES', 'DEF'), ('1957', 'MYRTLE SHELTON', 'DEF'), ('1961', 'TRISTAIN MCCUTCHEON', 'DEF'), ('1962', 'JONTUE POE', 'DEF'), ('1965', 'EVANDER JONES', 'DEF'), ('1967', 'ROBERT FISHEL', 'DEF'), ('1968', 'CURTIS TRICE', 'DEF'), ('1969', 'AMBER JONES', 'DEF'), ('1970', 'JOHNNY BARKSDALE', 'DEF'), ('1971', 'EDWIN MCDUFFEE', 'DEF'), ('1974', 'YOANA VASQUEZ', 'DEF'), ('1976', 'TEKAYON SHANNON', 'DEF'), ('1977', 'GREG HOBBS', 'DEF'), ('1978', 'STEVE LUTTRELL', 'DEF'), ('1979', 'STEPHEN WADE', 'DEF'), ('1984', 'MARQUE GOLLADAY', 'DEF'), ('1985', 'JERRY BRANNON', 'DEF'), ('1986', 'MICHAEL WATERS', 'DEF'), ('1987', 'JEFFREY BRANDT', 'DEF'), ('1990', 'ANTHONY HOPKINS', 'DEF'), ('1992', 'JONATHAN DENTON', 'DEF'), ('1995', 'RICKEY WOODLEE', 'DEF'), ('1998', 'LAWRENCE WELLS', 'DEF'), ('1999', 'KEITH FATHERA', 'DEF'), ('2001', 'JESSEY SWEETON', 'DEF'), ('2002', 'DARIUS KRAWEIC', 'DEF'), ('2003', 'JACOB LACRONE', 'DEF'), ('2005', 'MICHAEL KINCAID', 'DEF'), ('2007', 'MATTHEW JOHNSON', 'DEF'), ('2008', 'BRANDON MCNISH', 'DEF'), ('2012', 'ROBERT BARBER', 'DEF'), ('2013', 'ERIC CRAWFORD', 'DEF'), ('2017', 'RAYSHAUN REECE', 'DEF'), ('2018', 'JUSTIN LUMPKIN', 'DEF'), ('2019', \"JOHN O'CONNELL\", 'DEF'), ('2021', 'BLAYNE NORRIS', 'DEF'), ('2022', 'JAMAULE WILEY', 'DEF'), ('2024', 'CHARLES SPURLOCK', 'DEF'), ('2028', 'MICHAEL ELLIS', 'DEF'), ('2030', 'JOSHUA GRAHAM', 'DEF'), ('2031', 'WILLIAM KENNEDY', 'DEF'), ('2033', 'RONALD CRABTREE', 'DEF'), ('2034', 'SOMSACK SOUVANNASY', 'DEF'), ('2035', 'DANIEL SEKIMONYO', 'DEF'), ('2036', 'ANDRE WARD', 'DEF'), ('2037', 'MARCUS STOKES', 'DEF'), ('2039', 'TONY POTTS', 'DEF'), ('2040', 'DAVID OGLETREE', 'DEF'), ('2041', 'HELEN POWERS', 'DEF'), ('2043', 'ANDREW MARTOVITZ', 'DEF'), ('2044', 'CHARLES ROBERTS', 'DEF'), ('2046', 'CARLOS GUTIERREZ', 'DEF'), ('2048', 'WILLIAM BURNS', 'DEF'), ('2049', 'NICHOLAS BIVINS', 'DEF'), ('2050', 'TONY KING', 'DEF'), ('2051', 'JONATHAN ESTRADA', 'DEF'), ('2052', 'RICHARD KAYLOR', 'DEF'), ('2053', 'JOLLY SAMULU', 'DEF'), ('2054', 'TRIMECO MARTIN', 'DEF'), ('2055', 'BRADLEY SMITH', 'DEF'), ('2056', 'JORDAN SQUIRES', 'DEF'), ('2058', 'HAROLD HIX', 'DEF'), ('2059', 'WILLIE ROBINSON', 'DEF'), ('2060', 'LAURA MARTOVITZ', 'DEF'), ('2061', 'CHRISTOPHER HORNE', 'DEF'), ('2062', 'JOSEPH VEGA', 'DEF'), ('2063', 'OUTHAI THAYVY', 'DEF'), ('2064', 'MEKUANINT KELIFA', 'DEF'), ('2065', 'BOUN SENGSAYADETH', 'DEF'), ('2066', 'AARON SISSOM', 'DEF'), ('2067', 'MARK RAMSEY', 'DEF'), ('2068', 'WILLIAM STINSON', 'DEF'), ('2069', 'VICKI SENGSAYADETH', 'DEF'), ('2070', 'CHRISTIAN ACEVEDO', 'DEF'), ('2071', 'KHANSAY VONGRASAMY', 'DEF'), ('2072', 'PER DOH', 'DEF'), ('2073', 'VILASAY KHEMPHAVANH', 'DEF'), ('2074', 'RANGER STEVEN', 'DEF'), ('2075', 'LANDON WOODWICK', 'DEF'), ('2076', 'DEREK KOTARBA', 'DEF'), ('2077', 'BRIAN SHAFFER', 'DEF'), ('2078', 'XAVIER WILKES', 'DEF'), ('2079', 'AYALA YESENIA', 'DEF'), ('2080', 'PAMELA WORLEY', 'DEF'), ('2081', 'ISAAC COLLINS', 'DEF'), ('2082', 'QUINZELLA GARNER', 'DEF'), ('2083', 'LUIS CECILIA SOTO', 'DEF'), ('2084', 'TERRANCE PRICE', 'DEF'), ('2085', 'JODY TAYLOR', 'DEF'), ('2087', 'TRAE LAMPLEY', 'DEF'), ('2089', 'KELLY PAW', 'DEF'), ('2090', 'JENNIFER SNYDER', ''), ('2091', 'ANDRE GOOCH', ''), ('2092', 'DANNY THOMPSON', ''), ('2093', 'STEVEN SHORT', ''), ('2094', 'DEWAIN HOLMAN', ''), ('2095', 'CHRIS DOWLEN', ''), ('2096', 'SAM LOC', ''), ('2097', 'COURVOISIER FARR-MARCH', ''), ('2098', 'MICAH RANSOM', ''), ('2099', 'LUTHER WALDREN', ''), ('2100', 'MANIVANH KEOMANY', ''), ('2101', 'KESHAUN EDMONSON', ''), ('2102', 'MISTY KILGORE', ''), ('2103', 'CALEB HENDRICKS', ''), ('2104', 'KODI CHANEY', ''), ('2105', 'ANEAYUS HAYLEY', ''), ('2106', 'JEFFREY BASS', ''), ('2107', 'ARTAVIOUS HOLMES', ''), ('2108', 'MACKQIES RAYMOND', ''), ('2109', 'HIM JOSHI', ''), ('2110', 'SALOMON MERIDA', ''), ('2111', 'KEVIN BENNISON', ''), ('2112', 'ANDEE CANNON', ''), ('2113', 'AISHA HAMPTON', ''), ('2114', 'TALMADGE BULGER', ''), ('2115', 'MELVIN IRIZARRY', ''), ('2116', 'TRAVIS MCCUTCHEON', ''), ('2117', 'BISHOY GABRA', ''), ('2118', 'PHAYAVANH MOUNTRY', ''), ('2119', 'RASMEY YAT', ''), ('2120', 'ADRION LEE', ''), ('2121', 'MICHAEL WILLIAMS', ''), ('2122', 'DEREK VAUGHN', ''), ('2123', 'THON MOUNTRY', ''), ('2124', 'RANDALL LEGGETT', ''), ('2125', 'GAGE LEITCH', ''), ('2126', 'JASON SISCO', ''), ('2127', 'SYOU KEZAL', ''), ('2128', 'TONY MILLER', ''), ('2129', 'TYLER BEECHAN', ''), ('2130', 'JOHN BUSH', ''), ('2131', 'DECEDRIC GIBSON', ''), ('2132', 'VYRAVONG SENEPHANSIRI', ''), ('2133', 'MIGUEL TORRES', ''), ('2134', 'NICKSON KANTASEE', ''), ('2135', 'GEOFFREY HERRING', ''), ('2136', 'CHADWICK DEBERRY', ''), ('2137', 'COLEMAN MCCLURE', ''), ('2138', 'JOHNISE THOMAS', ''), ('2139', 'PHILLIP SENGTHAVORN', ''), ('2140', 'CORY BROWN', ''), ('2141', 'BRANDON ADCOCK', ''), ('2142', 'CHRISTINA RODEN', ''), ('2143', 'CAROL ADDISON', ''), ('2144', 'NIXON PUERTA', ''), ('2145', 'LYNDA SIMMONS', ''), ('2146', 'UDORN PHICHITCHALEUNS', ''), ('2147', 'NOEL TORRES', ''), ('2148', 'JOHN MCGEE', ''), ('2149', 'JEFFREY FORRESTER', ''), ('2150', 'ANTHONY DANIELS', ''), ('2151', 'TIBEBU BEYENE', ''), ('2152', 'GLENAYRE MURHEAD', ''), ('2153', 'ENRIQUE FLORES', ''), ('2154', 'FRED MASON', ''), ('2155', 'DRAGUS DIXON', ''), ('2156', 'RICKY CHAMPION', ''), ('2157', 'ROBERT CHRISTIAN', ''), ('2158', 'BRIAN HENLEY', ''), ('2159', 'SHALA GARDNER', ''), ('2160', 'JOSE HURTADO', ''), ('2161', 'DARREN FRANKLIN', ''), ('2162', 'KELLY HEIDENREICH', ''), ('2163', 'STEPHEN WALLS', ''), ('2164', 'LAINI MLAMBA', ''), ('2165', 'ANDO PATH', ''), ('2166', 'JAMES ALCORN', ''), ('2167', 'CLYDE CLEMENTS', ''), ('2168', 'PAUL JARVIS', ''), ('2169', 'TIM HENSON', ''), ('3091', 'IVON RODRIGUEZ-OLGUI', ''), ['9999', 'ELMER J FUDD', 'ENG'], ['1208', 'Wile E Coyote', 'ENG']]\n"
     ]
    }
   ],
   "source": [
    "print(get_emps())\n"
   ],
   "metadata": {
    "collapsed": false,
    "ExecuteTime": {
     "end_time": "2024-03-26T18:16:40.860371600Z",
     "start_time": "2024-03-26T18:16:40.542240800Z"
    }
   },
   "id": "d0f804c8436bd74e"
  },
  {
   "cell_type": "code",
   "execution_count": null,
   "outputs": [],
   "source": [],
   "metadata": {
    "collapsed": false
   },
   "id": "c67431b6232ac365"
  }
 ],
 "metadata": {
  "kernelspec": {
   "display_name": "Python 3",
   "language": "python",
   "name": "python3"
  },
  "language_info": {
   "codemirror_mode": {
    "name": "ipython",
    "version": 2
   },
   "file_extension": ".py",
   "mimetype": "text/x-python",
   "name": "python",
   "nbconvert_exporter": "python",
   "pygments_lexer": "ipython2",
   "version": "2.7.6"
  }
 },
 "nbformat": 4,
 "nbformat_minor": 5
}
